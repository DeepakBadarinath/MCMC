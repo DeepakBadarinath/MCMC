{
 "cells": [
  {
   "cell_type": "code",
   "execution_count": 3,
   "metadata": {},
   "outputs": [],
   "source": [
    "from sympy import *\n",
    "init_printing()\n",
    "import numpy as np"
   ]
  },
  {
   "cell_type": "code",
   "execution_count": 4,
   "metadata": {},
   "outputs": [],
   "source": [
    "x,y,z = symbols('x,y,z')\n",
    "lamda,gamma,T = symbols('lambda,gamma,T')\n",
    "theta, chi, iteration_no = symbols('theta, chi, n')"
   ]
  },
  {
   "cell_type": "code",
   "execution_count": 5,
   "metadata": {
    "scrolled": false
   },
   "outputs": [
    {
     "data": {
      "text/latex": [
       "$$\\left[\\begin{matrix}x & z e^{- T \\gamma}\\\\z e^{- T \\gamma} & \\left(y - 1\\right) e^{- 2 T \\gamma} + 1\\end{matrix}\\right]$$"
      ],
      "text/plain": [
       "⎡                  -T⋅γ      ⎤\n",
       "⎢   x           z⋅ℯ          ⎥\n",
       "⎢                            ⎥\n",
       "⎢   -T⋅γ           -2⋅T⋅γ    ⎥\n",
       "⎣z⋅ℯ      (y - 1)⋅ℯ       + 1⎦"
      ]
     },
     "execution_count": 5,
     "metadata": {},
     "output_type": "execute_result"
    }
   ],
   "source": [
    "B = Matrix([[x,z*exp(-gamma*T)],[z*exp(-gamma*T),(y-1)*exp(-2*gamma*T)+1]])\n",
    "B"
   ]
  },
  {
   "cell_type": "code",
   "execution_count": 6,
   "metadata": {},
   "outputs": [
    {
     "data": {
      "text/latex": [
       "$$\\left[\\begin{matrix}1 - \\frac{h^{2}}{2 a} & h\\\\- \\frac{h \\left(1 - \\frac{h^{2}}{4 a}\\right)}{a} & 1 - \\frac{h^{2}}{2 a}\\end{matrix}\\right]$$"
      ],
      "text/plain": [
       "⎡         2            ⎤\n",
       "⎢        h             ⎥\n",
       "⎢   1 - ───        h   ⎥\n",
       "⎢       2⋅a            ⎥\n",
       "⎢                      ⎥\n",
       "⎢   ⎛      2⎞          ⎥\n",
       "⎢   ⎜     h ⎟          ⎥\n",
       "⎢-h⋅⎜1 - ───⎟         2⎥\n",
       "⎢   ⎝    4⋅a⎠        h ⎥\n",
       "⎢─────────────  1 - ───⎥\n",
       "⎣      a            2⋅a⎦"
      ]
     },
     "execution_count": 6,
     "metadata": {},
     "output_type": "execute_result"
    }
   ],
   "source": [
    "h,a = symbols('h,a')\n",
    "phi = Matrix([[1 - h**2/(2*a), h],[-h/a * (1 - h**2/(4*a)), 1 - h**2/(2*a)]])\n",
    "phi"
   ]
  },
  {
   "cell_type": "code",
   "execution_count": 7,
   "metadata": {},
   "outputs": [
    {
     "data": {
      "text/latex": [
       "$$\\left[\\begin{matrix}\\frac{h}{2 a} & -1\\\\\\frac{1 - \\frac{h^{2}}{4 a}}{a} & \\frac{h}{2 a}\\end{matrix}\\right]$$"
      ],
      "text/plain": [
       "⎡   h        ⎤\n",
       "⎢  ───    -1 ⎥\n",
       "⎢  2⋅a       ⎥\n",
       "⎢            ⎥\n",
       "⎢      2     ⎥\n",
       "⎢     h      ⎥\n",
       "⎢1 - ───     ⎥\n",
       "⎢    4⋅a   h ⎥\n",
       "⎢───────  ───⎥\n",
       "⎣   a     2⋅a⎦"
      ]
     },
     "execution_count": 7,
     "metadata": {},
     "output_type": "execute_result"
    }
   ],
   "source": [
    "(Matrix([[1,0],[0,1]]) - phi)/h"
   ]
  },
  {
   "cell_type": "code",
   "execution_count": 8,
   "metadata": {
    "scrolled": false
   },
   "outputs": [
    {
     "data": {
      "text/latex": [
       "$$\\left[\\begin{matrix}\\left(1 - \\frac{h^{2}}{2 a}\\right)^{2} + \\frac{h^{2} \\left(1 - \\frac{h^{2}}{4 a}\\right)^{2}}{a^{2}} & h \\left(1 - \\frac{h^{2}}{2 a}\\right) - \\frac{h \\left(1 - \\frac{h^{2}}{2 a}\\right) \\left(1 - \\frac{h^{2}}{4 a}\\right)}{a}\\\\h \\left(1 - \\frac{h^{2}}{2 a}\\right) - \\frac{h \\left(1 - \\frac{h^{2}}{2 a}\\right) \\left(1 - \\frac{h^{2}}{4 a}\\right)}{a} & h^{2} + \\left(1 - \\frac{h^{2}}{2 a}\\right)^{2}\\end{matrix}\\right]$$"
      ],
      "text/plain": [
       "⎡                             2                                          ⎤\n",
       "⎢                    ⎛      2⎞                        ⎛      2⎞ ⎛      2⎞⎥\n",
       "⎢             2    2 ⎜     h ⎟                        ⎜     h ⎟ ⎜     h ⎟⎥\n",
       "⎢    ⎛      2⎞    h ⋅⎜1 - ───⎟          ⎛      2⎞   h⋅⎜1 - ───⎟⋅⎜1 - ───⎟⎥\n",
       "⎢    ⎜     h ⎟       ⎝    4⋅a⎠          ⎜     h ⎟     ⎝    2⋅a⎠ ⎝    4⋅a⎠⎥\n",
       "⎢    ⎜1 - ───⎟  + ─────────────       h⋅⎜1 - ───⎟ - ─────────────────────⎥\n",
       "⎢    ⎝    2⋅a⎠           2              ⎝    2⋅a⎠             a          ⎥\n",
       "⎢                       a                                                ⎥\n",
       "⎢                                                                        ⎥\n",
       "⎢                ⎛      2⎞ ⎛      2⎞                                     ⎥\n",
       "⎢                ⎜     h ⎟ ⎜     h ⎟                          2          ⎥\n",
       "⎢  ⎛      2⎞   h⋅⎜1 - ───⎟⋅⎜1 - ───⎟                 ⎛      2⎞           ⎥\n",
       "⎢  ⎜     h ⎟     ⎝    2⋅a⎠ ⎝    4⋅a⎠             2   ⎜     h ⎟           ⎥\n",
       "⎢h⋅⎜1 - ───⎟ - ─────────────────────            h  + ⎜1 - ───⎟           ⎥\n",
       "⎣  ⎝    2⋅a⎠             a                           ⎝    2⋅a⎠           ⎦"
      ]
     },
     "execution_count": 8,
     "metadata": {},
     "output_type": "execute_result"
    }
   ],
   "source": [
    "Mk = phi.transpose()*phi\n",
    "Mk"
   ]
  },
  {
   "cell_type": "code",
   "execution_count": 9,
   "metadata": {
    "scrolled": true
   },
   "outputs": [
    {
     "data": {
      "image/png": "[encoded data removed]",
      "text/latex": [
       "$$\\left \\{ - \\frac{h \\sqrt{\\left(4 a^{2} + h^{2}\\right) \\left(4 a^{2} h^{2} + 16 a^{2} - 8 a h^{2} + h^{4}\\right)} \\left(4 a^{2} - 4 a + h^{2}\\right)}{32 a^{4}} + \\frac{16 a^{4} h^{2} + 32 a^{4} - 32 a^{3} h^{2} + 8 a^{2} h^{4} + 16 a^{2} h^{2} - 8 a h^{4} + h^{6}}{32 a^{4}} : 1, \\quad \\frac{h \\sqrt{\\left(4 a^{2} + h^{2}\\right) \\left(4 a^{2} h^{2} + 16 a^{2} - 8 a h^{2} + h^{4}\\right)} \\left(4 a^{2} - 4 a + h^{2}\\right)}{32 a^{4}} + \\frac{16 a^{4} h^{2} + 32 a^{4} - 32 a^{3} h^{2} + 8 a^{2} h^{4} + 16 a^{2} h^{2} - 8 a h^{4} + h^{6}}{32 a^{4}} : 1\\right \\}$$"
      ],
      "text/plain": [
       "⎧       _____________________________________________                         \n",
       "⎪      ╱ ⎛   2    2⎞ ⎛   2  2       2        2    4⎞  ⎛   2          2⎞       \n",
       "⎪  h⋅╲╱  ⎝4⋅a  + h ⎠⋅⎝4⋅a ⋅h  + 16⋅a  - 8⋅a⋅h  + h ⎠ ⋅⎝4⋅a  - 4⋅a + h ⎠   16⋅a\n",
       "⎨- ──────────────────────────────────────────────────────────────────── + ────\n",
       "⎪                                     4                                       \n",
       "⎪                                 32⋅a                                        \n",
       "⎩                                                                             \n",
       "\n",
       "                                                                    __________\n",
       "4  2       4       3  2      2  4       2  2        4    6         ╱ ⎛   2    \n",
       " ⋅h  + 32⋅a  - 32⋅a ⋅h  + 8⋅a ⋅h  + 16⋅a ⋅h  - 8⋅a⋅h  + h      h⋅╲╱  ⎝4⋅a  + h\n",
       "──────────────────────────────────────────────────────────: 1, ───────────────\n",
       "                            4                                                 \n",
       "                        32⋅a                                                  \n",
       "                                                                              \n",
       "\n",
       "___________________________________                                           \n",
       "2⎞ ⎛   2  2       2        2    4⎞  ⎛   2          2⎞       4  2       4      \n",
       " ⎠⋅⎝4⋅a ⋅h  + 16⋅a  - 8⋅a⋅h  + h ⎠ ⋅⎝4⋅a  - 4⋅a + h ⎠   16⋅a ⋅h  + 32⋅a  - 32⋅\n",
       "───────────────────────────────────────────────────── + ──────────────────────\n",
       "                    4                                                         \n",
       "                32⋅a                                                          \n",
       "                                                                              \n",
       "\n",
       "                                           ⎫\n",
       " 3  2      2  4       2  2        4    6   ⎪\n",
       "a ⋅h  + 8⋅a ⋅h  + 16⋅a ⋅h  - 8⋅a⋅h  + h    ⎪\n",
       "────────────────────────────────────────: 1⎬\n",
       "          4                                ⎪\n",
       "      32⋅a                                 ⎪\n",
       "                                           ⎭"
      ]
     },
     "execution_count": 9,
     "metadata": {},
     "output_type": "execute_result"
    }
   ],
   "source": [
    "Mk.eigenvals()"
   ]
  },
  {
   "cell_type": "code",
   "execution_count": 10,
   "metadata": {
    "scrolled": true
   },
   "outputs": [
    {
     "data": {
      "text/latex": [
       "$$\\left[\\begin{matrix}\\frac{h}{2 a} & -1\\\\\\frac{1 - \\frac{h^{2}}{4 a}}{a} & \\frac{h}{2 a}\\end{matrix}\\right]$$"
      ],
      "text/plain": [
       "⎡   h        ⎤\n",
       "⎢  ───    -1 ⎥\n",
       "⎢  2⋅a       ⎥\n",
       "⎢            ⎥\n",
       "⎢      2     ⎥\n",
       "⎢     h      ⎥\n",
       "⎢1 - ───     ⎥\n",
       "⎢    4⋅a   h ⎥\n",
       "⎢───────  ───⎥\n",
       "⎣   a     2⋅a⎦"
      ]
     },
     "execution_count": 10,
     "metadata": {},
     "output_type": "execute_result"
    }
   ],
   "source": [
    "Jk = Matrix([[h/(2*a),-1],[1/a * (1 - h**2/(4*a)), h/(2*a)]])\n",
    "Jk"
   ]
  },
  {
   "cell_type": "code",
   "execution_count": 11,
   "metadata": {
    "scrolled": false
   },
   "outputs": [
    {
     "data": {
      "text/latex": [
       "$$\\left[\\begin{matrix}\\frac{h^{2}}{4 a^{2}} + \\frac{\\left(1 - \\frac{h^{2}}{4 a}\\right)^{2}}{a^{2}} & - \\frac{h}{2 a} + \\frac{h \\left(1 - \\frac{h^{2}}{4 a}\\right)}{2 a^{2}}\\\\- \\frac{h}{2 a} + \\frac{h \\left(1 - \\frac{h^{2}}{4 a}\\right)}{2 a^{2}} & 1 + \\frac{h^{2}}{4 a^{2}}\\end{matrix}\\right]$$"
      ],
      "text/plain": [
       "⎡                 2                      ⎤\n",
       "⎢        ⎛      2⎞              ⎛      2⎞⎥\n",
       "⎢        ⎜     h ⎟              ⎜     h ⎟⎥\n",
       "⎢   2    ⎜1 - ───⎟            h⋅⎜1 - ───⎟⎥\n",
       "⎢  h     ⎝    4⋅a⎠       h      ⎝    4⋅a⎠⎥\n",
       "⎢ ──── + ──────────   - ─── + ───────────⎥\n",
       "⎢    2        2         2⋅a          2   ⎥\n",
       "⎢ 4⋅a        a                    2⋅a    ⎥\n",
       "⎢                                        ⎥\n",
       "⎢          ⎛      2⎞                     ⎥\n",
       "⎢          ⎜     h ⎟                     ⎥\n",
       "⎢        h⋅⎜1 - ───⎟             2       ⎥\n",
       "⎢   h      ⎝    4⋅a⎠            h        ⎥\n",
       "⎢- ─── + ───────────       1 + ────      ⎥\n",
       "⎢  2⋅a          2                 2      ⎥\n",
       "⎣            2⋅a               4⋅a       ⎦"
      ]
     },
     "execution_count": 11,
     "metadata": {},
     "output_type": "execute_result"
    }
   ],
   "source": [
    "Ak = Jk.transpose() * Jk\n",
    "Ak"
   ]
  },
  {
   "cell_type": "code",
   "execution_count": 12,
   "metadata": {},
   "outputs": [
    {
     "data": {
      "image/png": "[encoded data removed]",
      "text/latex": [
       "$$\\left(1 + \\frac{h^{2}}{4 a^{2}}\\right) \\left(\\frac{h^{2}}{4 a^{2}} + \\frac{\\left(1 - \\frac{h^{2}}{4 a}\\right)^{2}}{a^{2}}\\right) - \\left(- \\frac{h}{2 a} + \\frac{h \\left(1 - \\frac{h^{2}}{4 a}\\right)}{2 a^{2}}\\right)^{2}$$"
      ],
      "text/plain": [
       "           ⎛                2⎞                        2\n",
       "           ⎜       ⎛      2⎞ ⎟   ⎛          ⎛      2⎞⎞ \n",
       "           ⎜       ⎜     h ⎟ ⎟   ⎜          ⎜     h ⎟⎟ \n",
       "⎛      2 ⎞ ⎜  2    ⎜1 - ───⎟ ⎟   ⎜        h⋅⎜1 - ───⎟⎟ \n",
       "⎜     h  ⎟ ⎜ h     ⎝    4⋅a⎠ ⎟   ⎜   h      ⎝    4⋅a⎠⎟ \n",
       "⎜1 + ────⎟⋅⎜──── + ──────────⎟ - ⎜- ─── + ───────────⎟ \n",
       "⎜       2⎟ ⎜   2        2    ⎟   ⎜  2⋅a          2   ⎟ \n",
       "⎝    4⋅a ⎠ ⎝4⋅a        a     ⎠   ⎝            2⋅a    ⎠ "
      ]
     },
     "execution_count": 12,
     "metadata": {},
     "output_type": "execute_result"
    }
   ],
   "source": [
    "Ak.det()"
   ]
  },
  {
   "cell_type": "code",
   "execution_count": 13,
   "metadata": {
    "scrolled": false
   },
   "outputs": [
    {
     "data": {
      "image/png": "[encoded data removed]",
      "text/latex": [
       "$$\\left \\{ - \\frac{\\left(4 a^{2} - 4 a + h^{2}\\right) \\sqrt{16 a^{4} + 32 a^{3} + 8 a^{2} h^{2} + 16 a^{2} - 8 a h^{2} + h^{4}}}{32 a^{4}} + \\frac{16 a^{4} + 8 a^{2} h^{2} + 16 a^{2} - 8 a h^{2} + h^{4}}{32 a^{4}} : 1, \\quad \\frac{\\left(4 a^{2} - 4 a + h^{2}\\right) \\sqrt{16 a^{4} + 32 a^{3} + 8 a^{2} h^{2} + 16 a^{2} - 8 a h^{2} + h^{4}}}{32 a^{4}} + \\frac{16 a^{4} + 8 a^{2} h^{2} + 16 a^{2} - 8 a h^{2} + h^{4}}{32 a^{4}} : 1\\right \\}$$"
      ],
      "text/plain": [
       "⎧                       _______________________________________________       \n",
       "⎪  ⎛   2          2⎞   ╱     4       3      2  2       2        2    4        \n",
       "⎪  ⎝4⋅a  - 4⋅a + h ⎠⋅╲╱  16⋅a  + 32⋅a  + 8⋅a ⋅h  + 16⋅a  - 8⋅a⋅h  + h     16⋅a\n",
       "⎨- ──────────────────────────────────────────────────────────────────── + ────\n",
       "⎪                                     4                                       \n",
       "⎪                                 32⋅a                                        \n",
       "⎩                                                                             \n",
       "\n",
       "                                                           ___________________\n",
       "4      2  2       2        2    4     ⎛   2          2⎞   ╱     4       3     \n",
       "  + 8⋅a ⋅h  + 16⋅a  - 8⋅a⋅h  + h      ⎝4⋅a  - 4⋅a + h ⎠⋅╲╱  16⋅a  + 32⋅a  + 8⋅\n",
       "─────────────────────────────────: 1, ────────────────────────────────────────\n",
       "                4                                                        4    \n",
       "            32⋅a                                                     32⋅a     \n",
       "                                                                              \n",
       "\n",
       "____________________________                                           ⎫\n",
       " 2  2       2        2    4        4      2  2       2        2    4   ⎪\n",
       "a ⋅h  + 16⋅a  - 8⋅a⋅h  + h     16⋅a  + 8⋅a ⋅h  + 16⋅a  - 8⋅a⋅h  + h    ⎪\n",
       "──────────────────────────── + ─────────────────────────────────────: 1⎬\n",
       "                                                   4                   ⎪\n",
       "                                               32⋅a                    ⎪\n",
       "                                                                       ⎭"
      ]
     },
     "execution_count": 13,
     "metadata": {},
     "output_type": "execute_result"
    }
   ],
   "source": [
    "Ak.eigenvals()"
   ]
  },
  {
   "cell_type": "code",
   "execution_count": 14,
   "metadata": {},
   "outputs": [],
   "source": [
    "k = symbols('k')"
   ]
  },
  {
   "cell_type": "code",
   "execution_count": 15,
   "metadata": {
    "scrolled": true
   },
   "outputs": [
    {
     "data": {
      "text/latex": [
       "$$\\left[\\begin{matrix}\\cos{\\left (k \\theta \\right )} & \\chi \\sin{\\left (k \\theta \\right )}\\\\- \\frac{\\sin{\\left (k \\theta \\right )}}{\\chi} & \\cos{\\left (k \\theta \\right )}\\end{matrix}\\right]$$"
      ],
      "text/plain": [
       "⎡ cos(k⋅θ)   χ⋅sin(k⋅θ)⎤\n",
       "⎢                      ⎥\n",
       "⎢-sin(k⋅θ)             ⎥\n",
       "⎢──────────   cos(k⋅θ) ⎥\n",
       "⎣    χ                 ⎦"
      ]
     },
     "execution_count": 15,
     "metadata": {},
     "output_type": "execute_result"
    }
   ],
   "source": [
    "L = Matrix([[cos(k*theta), chi * sin(k*theta)], \n",
    "            [-(1/chi) * sin(k*theta), cos(k*theta)]])\n",
    "L"
   ]
  },
  {
   "cell_type": "code",
   "execution_count": 18,
   "metadata": {},
   "outputs": [
    {
     "data": {
      "text/latex": [
       "$$\\left[\\begin{matrix}1 & 0\\\\0 & e^{- T \\gamma}\\end{matrix}\\right]$$"
      ],
      "text/plain": [
       "⎡1    0  ⎤\n",
       "⎢        ⎥\n",
       "⎢    -T⋅γ⎥\n",
       "⎣0  ℯ    ⎦"
      ]
     },
     "execution_count": 18,
     "metadata": {},
     "output_type": "execute_result"
    }
   ],
   "source": [
    "D = Matrix([[1, 0],[0, exp(-gamma * T)]])\n",
    "D"
   ]
  },
  {
   "cell_type": "code",
   "execution_count": 22,
   "metadata": {},
   "outputs": [
    {
     "data": {
      "text/latex": [
       "$$\\left[\\begin{matrix}\\cos^{2}{\\left (k \\theta \\right )} + \\frac{\\sin^{2}{\\left (k \\theta \\right )}}{\\chi^{2}} & \\left(\\chi \\sin{\\left (k \\theta \\right )} \\cos{\\left (k \\theta \\right )} - \\frac{\\sin{\\left (k \\theta \\right )} \\cos{\\left (k \\theta \\right )}}{\\chi}\\right) e^{- T \\gamma}\\\\\\chi e^{- T \\gamma} \\sin{\\left (k \\theta \\right )} \\cos{\\left (k \\theta \\right )} - \\frac{e^{- T \\gamma} \\sin{\\left (k \\theta \\right )} \\cos{\\left (k \\theta \\right )}}{\\chi} & \\left(\\chi^{2} e^{- T \\gamma} \\sin^{2}{\\left (k \\theta \\right )} + e^{- T \\gamma} \\cos^{2}{\\left (k \\theta \\right )}\\right) e^{- T \\gamma}\\end{matrix}\\right]$$"
      ],
      "text/plain": [
       "⎡                              2                                              \n",
       "⎢                  2        sin (k⋅θ)                 ⎛                      s\n",
       "⎢               cos (k⋅θ) + ─────────                 ⎜χ⋅sin(k⋅θ)⋅cos(k⋅θ) - ─\n",
       "⎢                                2                    ⎝                       \n",
       "⎢                               χ                                             \n",
       "⎢                                                                             \n",
       "⎢                             -T⋅γ                                            \n",
       "⎢   -T⋅γ                     ℯ    ⋅sin(k⋅θ)⋅cos(k⋅θ)   ⎛ 2  -T⋅γ    2         \n",
       "⎢χ⋅ℯ    ⋅sin(k⋅θ)⋅cos(k⋅θ) - ───────────────────────   ⎝χ ⋅ℯ    ⋅sin (k⋅θ) + ℯ\n",
       "⎣                                       χ                                     \n",
       "\n",
       "                       ⎤\n",
       "in(k⋅θ)⋅cos(k⋅θ)⎞  -T⋅γ⎥\n",
       "────────────────⎟⋅ℯ    ⎥\n",
       "       χ        ⎠      ⎥\n",
       "                       ⎥\n",
       "                       ⎥\n",
       "                       ⎥\n",
       "-T⋅γ    2     ⎞  -T⋅γ  ⎥\n",
       "    ⋅cos (k⋅θ)⎠⋅ℯ      ⎥\n",
       "                       ⎦"
      ]
     },
     "execution_count": 22,
     "metadata": {},
     "output_type": "execute_result"
    }
   ],
   "source": [
    "matx = D.transpose() * L.transpose() * L * D\n",
    "matx"
   ]
  },
  {
   "cell_type": "code",
   "execution_count": 27,
   "metadata": {},
   "outputs": [
    {
     "data": {
      "image/png": "[encoded data removed]",
      "text/latex": [
       "$$\\left \\{ \\frac{\\chi^{2} e^{- 2 T \\gamma} \\sin^{2}{\\left (k \\theta \\right )}}{2} + \\frac{\\cos^{2}{\\left (k \\theta \\right )}}{2} - \\frac{e^{- 2 T \\gamma} \\sin^{2}{\\left (k \\theta \\right )}}{2} + \\frac{e^{- 2 T \\gamma}}{2} - \\frac{\\sqrt{- 4 \\chi^{4} e^{2 T \\gamma} + \\left(\\chi^{4} \\sin^{2}{\\left (k \\theta \\right )} + \\chi^{2} e^{2 T \\gamma} \\cos^{2}{\\left (k \\theta \\right )} - \\chi^{2} \\sin^{2}{\\left (k \\theta \\right )} + \\chi^{2} + e^{2 T \\gamma} \\sin^{2}{\\left (k \\theta \\right )}\\right)^{2}} e^{- 2 T \\gamma}}{2 \\chi^{2}} + \\frac{\\sin^{2}{\\left (k \\theta \\right )}}{2 \\chi^{2}} : 1, \\quad \\frac{\\chi^{2} e^{- 2 T \\gamma} \\sin^{2}{\\left (k \\theta \\right )}}{2} + \\frac{\\cos^{2}{\\left (k \\theta \\right )}}{2} - \\frac{e^{- 2 T \\gamma} \\sin^{2}{\\left (k \\theta \\right )}}{2} + \\frac{e^{- 2 T \\gamma}}{2} + \\frac{\\sqrt{- 4 \\chi^{4} e^{2 T \\gamma} + \\left(\\chi^{4} \\sin^{2}{\\left (k \\theta \\right )} + \\chi^{2} e^{2 T \\gamma} \\cos^{2}{\\left (k \\theta \\right )} - \\chi^{2} \\sin^{2}{\\left (k \\theta \\right )} + \\chi^{2} + e^{2 T \\gamma} \\sin^{2}{\\left (k \\theta \\right )}\\right)^{2}} e^{- 2 T \\gamma}}{2 \\chi^{2}} + \\frac{\\sin^{2}{\\left (k \\theta \\right )}}{2 \\chi^{2}} : 1\\right \\}$$"
      ],
      "text/plain": [
       "⎧                                                                     ________\n",
       "⎪                                                                    ╱        \n",
       "⎪ 2  -2⋅T⋅γ    2           2         -2⋅T⋅γ    2         -2⋅T⋅γ     ╱       4 \n",
       "⎨χ ⋅ℯ      ⋅sin (k⋅θ)   cos (k⋅θ)   ℯ      ⋅sin (k⋅θ)   ℯ         ╲╱   - 4⋅χ ⋅\n",
       "⎪──────────────────── + ───────── - ───────────────── + ─────── - ────────────\n",
       "⎪         2                 2               2              2                  \n",
       "⎩                                                                             \n",
       "\n",
       "______________________________________________________________________________\n",
       "                                                                              \n",
       " 2⋅T⋅γ   ⎛ 4    2         2  2⋅T⋅γ    2         2    2         2    2⋅T⋅γ    2\n",
       "ℯ      + ⎝χ ⋅sin (k⋅θ) + χ ⋅ℯ     ⋅cos (k⋅θ) - χ ⋅sin (k⋅θ) + χ  + ℯ     ⋅sin \n",
       "──────────────────────────────────────────────────────────────────────────────\n",
       "                                          2                                   \n",
       "                                       2⋅χ                                    \n",
       "\n",
       "________                                                                      \n",
       "      2                                                                       \n",
       "     ⎞    -2⋅T⋅γ      2           2  -2⋅T⋅γ    2           2         -2⋅T⋅γ   \n",
       "(k⋅θ)⎠  ⋅ℯ         sin (k⋅θ)     χ ⋅ℯ      ⋅sin (k⋅θ)   cos (k⋅θ)   ℯ      ⋅si\n",
       "──────────────── + ─────────: 1, ──────────────────── + ───────── - ──────────\n",
       "                         2                2                 2               2 \n",
       "                      2⋅χ                                                     \n",
       "\n",
       "                        ______________________________________________________\n",
       "                       ╱                                                      \n",
       " 2         -2⋅T⋅γ     ╱       4  2⋅T⋅γ   ⎛ 4    2         2  2⋅T⋅γ    2       \n",
       "n (k⋅θ)   ℯ         ╲╱   - 4⋅χ ⋅ℯ      + ⎝χ ⋅sin (k⋅θ) + χ ⋅ℯ     ⋅cos (k⋅θ) -\n",
       "─────── + ─────── + ──────────────────────────────────────────────────────────\n",
       "             2                                                            2   \n",
       "                                                                       2⋅χ    \n",
       "\n",
       "________________________________________                       ⎫\n",
       "                                      2                        ⎪\n",
       "  2    2         2    2⋅T⋅γ    2     ⎞    -2⋅T⋅γ      2        ⎪\n",
       " χ ⋅sin (k⋅θ) + χ  + ℯ     ⋅sin (k⋅θ)⎠  ⋅ℯ         sin (k⋅θ)   ⎬\n",
       "──────────────────────────────────────────────── + ─────────: 1⎪\n",
       "                                                         2     ⎪\n",
       "                                                      2⋅χ      ⎭"
      ]
     },
     "execution_count": 27,
     "metadata": {},
     "output_type": "execute_result"
    }
   ],
   "source": [
    "matx.eigenvals()"
   ]
  },
  {
   "cell_type": "code",
   "execution_count": 15,
   "metadata": {
    "scrolled": false
   },
   "outputs": [
    {
     "data": {
      "text/latex": [
       "$$\\left[\\begin{matrix}\\chi \\left(\\chi \\left(\\left(y - 1\\right) e^{- 2 T \\gamma} + 1\\right) \\sin{\\left (k \\theta \\right )} + z e^{- T \\gamma} \\cos{\\left (k \\theta \\right )}\\right) \\sin{\\left (k \\theta \\right )} + \\left(\\chi z e^{- T \\gamma} \\sin{\\left (k \\theta \\right )} + x \\cos{\\left (k \\theta \\right )}\\right) \\cos{\\left (k \\theta \\right )} & \\left(\\chi \\left(\\left(y - 1\\right) e^{- 2 T \\gamma} + 1\\right) \\sin{\\left (k \\theta \\right )} + z e^{- T \\gamma} \\cos{\\left (k \\theta \\right )}\\right) \\cos{\\left (k \\theta \\right )} - \\frac{\\left(\\chi z e^{- T \\gamma} \\sin{\\left (k \\theta \\right )} + x \\cos{\\left (k \\theta \\right )}\\right) \\sin{\\left (k \\theta \\right )}}{\\chi}\\\\\\chi \\left(\\left(\\left(y - 1\\right) e^{- 2 T \\gamma} + 1\\right) \\cos{\\left (k \\theta \\right )} - \\frac{z e^{- T \\gamma} \\sin{\\left (k \\theta \\right )}}{\\chi}\\right) \\sin{\\left (k \\theta \\right )} + \\left(z e^{- T \\gamma} \\cos{\\left (k \\theta \\right )} - \\frac{x \\sin{\\left (k \\theta \\right )}}{\\chi}\\right) \\cos{\\left (k \\theta \\right )} & \\left(\\left(\\left(y - 1\\right) e^{- 2 T \\gamma} + 1\\right) \\cos{\\left (k \\theta \\right )} - \\frac{z e^{- T \\gamma} \\sin{\\left (k \\theta \\right )}}{\\chi}\\right) \\cos{\\left (k \\theta \\right )} - \\frac{\\left(z e^{- T \\gamma} \\cos{\\left (k \\theta \\right )} - \\frac{x \\sin{\\left (k \\theta \\right )}}{\\chi}\\right) \\sin{\\left (k \\theta \\right )}}{\\chi}\\end{matrix}\\right]$$"
      ],
      "text/plain": [
       "⎡                                                                             \n",
       "⎢  ⎛  ⎛         -2⋅T⋅γ    ⎞               -T⋅γ         ⎞            ⎛     -T⋅γ\n",
       "⎢χ⋅⎝χ⋅⎝(y - 1)⋅ℯ       + 1⎠⋅sin(k⋅θ) + z⋅ℯ    ⋅cos(k⋅θ)⎠⋅sin(k⋅θ) + ⎝χ⋅z⋅ℯ    \n",
       "⎢                                                                             \n",
       "⎢                                                                             \n",
       "⎢                                                                             \n",
       "⎢    ⎛                                    -T⋅γ         ⎞                      \n",
       "⎢    ⎜⎛         -2⋅T⋅γ    ⎞            z⋅ℯ    ⋅sin(k⋅θ)⎟            ⎛   -T⋅γ  \n",
       "⎢  χ⋅⎜⎝(y - 1)⋅ℯ       + 1⎠⋅cos(k⋅θ) - ────────────────⎟⋅sin(k⋅θ) + ⎜z⋅ℯ    ⋅c\n",
       "⎣    ⎝                                        χ        ⎠            ⎝         \n",
       "\n",
       "                                                                              \n",
       "                      ⎞           ⎛  ⎛         -2⋅T⋅γ    ⎞               -T⋅γ \n",
       "⋅sin(k⋅θ) + x⋅cos(k⋅θ)⎠⋅cos(k⋅θ)  ⎝χ⋅⎝(y - 1)⋅ℯ       + 1⎠⋅sin(k⋅θ) + z⋅ℯ    ⋅\n",
       "                                                                              \n",
       "                                                                              \n",
       "                                                                              \n",
       "                                    ⎛                                    -T⋅γ \n",
       "          x⋅sin(k⋅θ)⎞               ⎜⎛         -2⋅T⋅γ    ⎞            z⋅ℯ    ⋅\n",
       "os(k⋅θ) - ──────────⎟⋅cos(k⋅θ)      ⎜⎝(y - 1)⋅ℯ       + 1⎠⋅cos(k⋅θ) - ────────\n",
       "              χ     ⎠               ⎝                                        χ\n",
       "\n",
       "                     ⎛     -T⋅γ                      ⎞         ⎤\n",
       "        ⎞            ⎝χ⋅z⋅ℯ    ⋅sin(k⋅θ) + x⋅cos(k⋅θ)⎠⋅sin(k⋅θ)⎥\n",
       "cos(k⋅θ)⎠⋅cos(k⋅θ) - ──────────────────────────────────────────⎥\n",
       "                                         χ                     ⎥\n",
       "                                                               ⎥\n",
       "                     ⎛   -T⋅γ            x⋅sin(k⋅θ)⎞           ⎥\n",
       "        ⎞            ⎜z⋅ℯ    ⋅cos(k⋅θ) - ──────────⎟⋅sin(k⋅θ)  ⎥\n",
       "sin(k⋅θ)⎟            ⎝                       χ     ⎠           ⎥\n",
       "────────⎟⋅cos(k⋅θ) - ────────────────────────────────────────  ⎥\n",
       "        ⎠                               χ                      ⎦"
      ]
     },
     "execution_count": 15,
     "metadata": {},
     "output_type": "execute_result"
    }
   ],
   "source": [
    "Covar = L * B * L.transpose()\n",
    "Covar"
   ]
  },
  {
   "cell_type": "code",
   "execution_count": 44,
   "metadata": {
    "scrolled": false
   },
   "outputs": [
    {
     "data": {
      "text/latex": [
       "$$\\left[\\begin{matrix}\\frac{- a + \\chi^{2} \\sin^{2}{\\left (k \\theta \\right )} + \\cos^{2}{\\left (k \\theta \\right )}}{a} & \\frac{\\left(\\chi^{2} - 1\\right) \\sin{\\left (2 k \\theta \\right )}}{2 a \\chi}\\\\\\frac{\\left(\\chi^{2} - 1\\right) \\sin{\\left (2 k \\theta \\right )}}{2 \\chi} & \\frac{\\left(- \\chi^{2} + 1\\right) \\sin^{2}{\\left (k \\theta \\right )}}{\\chi^{2}}\\end{matrix}\\right]$$"
      ],
      "text/plain": [
       "⎡      2    2           2       ⎛ 2    ⎞            ⎤\n",
       "⎢-a + χ ⋅sin (k⋅θ) + cos (k⋅θ)  ⎝χ  - 1⎠⋅sin(2⋅k⋅θ) ⎥\n",
       "⎢─────────────────────────────  ─────────────────── ⎥\n",
       "⎢              a                       2⋅a⋅χ        ⎥\n",
       "⎢                                                   ⎥\n",
       "⎢     ⎛ 2    ⎞                  ⎛   2    ⎞    2     ⎥\n",
       "⎢     ⎝χ  - 1⎠⋅sin(2⋅k⋅θ)       ⎝- χ  + 1⎠⋅sin (k⋅θ)⎥\n",
       "⎢     ───────────────────       ────────────────────⎥\n",
       "⎢             2⋅χ                         2         ⎥\n",
       "⎣                                        χ          ⎦"
      ]
     },
     "execution_count": 44,
     "metadata": {},
     "output_type": "execute_result"
    }
   ],
   "source": [
    "simplify(expand(Covar.subs([(z,0),(y,1),(x,1)])))"
   ]
  },
  {
   "cell_type": "code",
   "execution_count": 45,
   "metadata": {},
   "outputs": [],
   "source": [
    "x0 = 1\n",
    "y0 = 1\n",
    "z0 = 0\n",
    "for i in range(2):\n",
    "    final_expr = simplify(expand(Covar.subs([(x,x0),(y,y0),(z,z0)])))\n",
    "    x0 = Covar[0,0]\n",
    "    y0 = Covar[1,1]\n",
    "    z0 = Covar[0,1]"
   ]
  },
  {
   "cell_type": "code",
   "execution_count": 46,
   "metadata": {},
   "outputs": [
    {
     "data": {
      "text/latex": [
       "$$\\left[\\begin{matrix}\\frac{\\left(- a^{3} e^{5 T \\gamma} + \\frac{a^{2} \\chi^{2} \\left(y - 1\\right) \\left(- \\cos{\\left (4 k \\theta \\right )} + 1\\right) e^{T \\gamma}}{8} + a^{2} \\left(\\chi^{2} \\sin^{2}{\\left (k \\theta \\right )} - \\cos^{2}{\\left (k \\theta \\right )}\\right) e^{5 T \\gamma} + a^{2} \\left(- \\chi^{2} \\sin^{2}{\\left (k \\theta \\right )} - \\chi^{2} + x \\sin^{2}{\\left (k \\theta \\right )}\\right) e^{3 T \\gamma} \\sin^{2}{\\left (k \\theta \\right )} + 2 a \\chi^{2} \\left(- y + 1\\right) \\sin^{4}{\\left (k \\theta \\right )} \\cos^{2}{\\left (k \\theta \\right )} + a \\chi \\left(\\chi y \\cos^{3}{\\left (k \\theta \\right )} - \\chi \\cos^{3}{\\left (k \\theta \\right )} + 4 z \\sin^{3}{\\left (k \\theta \\right )} - 2 z \\sin{\\left (k \\theta \\right )}\\right) e^{T \\gamma} \\sin^{2}{\\left (k \\theta \\right )} \\cos{\\left (k \\theta \\right )} + \\frac{a \\left(\\chi^{2} - x\\right) \\left(- \\cos{\\left (4 k \\theta \\right )} + 1\\right) e^{4 T \\gamma}}{4} + a \\left(\\chi^{2} \\sin^{2}{\\left (k \\theta \\right )} + x \\cos^{2}{\\left (k \\theta \\right )}\\right) e^{5 T \\gamma} \\cos^{2}{\\left (k \\theta \\right )} + 2 a \\left(\\chi^{2} y - \\chi^{2} \\sin^{2}{\\left (k \\theta \\right )} - \\chi^{2} + x \\sin^{2}{\\left (k \\theta \\right )}\\right) e^{2 T \\gamma} \\sin^{2}{\\left (k \\theta \\right )} \\cos^{2}{\\left (k \\theta \\right )} + a \\left(\\chi^{2} \\sin^{5}{\\left (k \\theta \\right )} - \\chi^{2} \\sin{\\left (k \\theta \\right )} + 4 \\chi z \\cos^{3}{\\left (k \\theta \\right )} - 2 \\chi z \\cos{\\left (k \\theta \\right )} - x \\sin^{5}{\\left (k \\theta \\right )} + x \\sin^{3}{\\left (k \\theta \\right )}\\right) e^{3 T \\gamma} \\sin{\\left (k \\theta \\right )} + 2 \\chi^{2} \\left(- y + 1\\right) \\sin^{4}{\\left (k \\theta \\right )} \\cos^{4}{\\left (k \\theta \\right )} - \\frac{\\chi z \\left(2 \\sin{\\left (4 k \\theta \\right )} - \\sin{\\left (8 k \\theta \\right )}\\right) e^{T \\gamma}}{32} + 2 \\chi z e^{3 T \\gamma} \\sin{\\left (k \\theta \\right )} \\cos^{3}{\\left (k \\theta \\right )} \\cos{\\left (2 k \\theta \\right )} + 2 \\left(\\chi^{2} - x\\right) e^{4 T \\gamma} \\sin^{2}{\\left (k \\theta \\right )} \\cos^{4}{\\left (k \\theta \\right )} + 2 \\left(\\chi^{2} y - \\chi^{2} \\sin^{2}{\\left (k \\theta \\right )} - \\chi^{2} + x \\sin^{2}{\\left (k \\theta \\right )}\\right) e^{2 T \\gamma} \\sin^{2}{\\left (k \\theta \\right )} \\cos^{4}{\\left (k \\theta \\right )}\\right) e^{- 5 T \\gamma}}{a^{3}} & \\frac{\\left(a^{2} \\chi^{2} \\left(y - 1\\right) e^{T \\gamma} \\sin{\\left (k \\theta \\right )} \\cos^{3}{\\left (k \\theta \\right )} + \\frac{a^{2} \\chi^{2} \\left(- 6 \\sin{\\left (2 k \\theta \\right )} + \\sin{\\left (4 k \\theta \\right )}\\right) e^{3 T \\gamma}}{8} + \\frac{a^{2} \\chi^{2} e^{5 T \\gamma} \\sin{\\left (2 k \\theta \\right )}}{2} + a^{2} x e^{3 T \\gamma} \\sin^{3}{\\left (k \\theta \\right )} \\cos{\\left (k \\theta \\right )} + \\frac{a^{2} e^{5 T \\gamma} \\sin{\\left (2 k \\theta \\right )}}{2} + 2 a \\chi^{2} \\left(- y + 1\\right) \\sin^{3}{\\left (k \\theta \\right )} \\cos^{3}{\\left (k \\theta \\right )} + a \\chi^{2} \\left(- 2 y \\sin^{2}{\\left (k \\theta \\right )} + y + 2 \\sin^{4}{\\left (k \\theta \\right )} - 1\\right) e^{2 T \\gamma} \\sin{\\left (k \\theta \\right )} \\cos{\\left (k \\theta \\right )} - a \\chi^{2} e^{5 T \\gamma} \\sin^{3}{\\left (k \\theta \\right )} \\cos{\\left (k \\theta \\right )} + \\frac{a \\chi^{2} e^{4 T \\gamma} \\sin{\\left (4 k \\theta \\right )}}{4} + \\frac{a \\chi \\left(- \\chi y \\sin{\\left (2 k \\theta \\right )} + \\chi \\sin{\\left (2 k \\theta \\right )} - 4 z \\cos{\\left (2 k \\theta \\right )}\\right) e^{T \\gamma} \\sin^{2}{\\left (k \\theta \\right )} \\cos^{2}{\\left (k \\theta \\right )}}{2} + a \\chi \\left(- \\chi \\sin^{3}{\\left (k \\theta \\right )} \\cos^{3}{\\left (k \\theta \\right )} + 2 \\chi \\sin^{3}{\\left (k \\theta \\right )} \\cos{\\left (k \\theta \\right )} + 4 z \\sin^{4}{\\left (k \\theta \\right )} - 4 z \\sin^{2}{\\left (k \\theta \\right )} + z\\right) e^{3 T \\gamma} - a x e^{5 T \\gamma} \\sin{\\left (k \\theta \\right )} \\cos^{3}{\\left (k \\theta \\right )} - \\frac{a x e^{4 T \\gamma} \\sin{\\left (4 k \\theta \\right )}}{4} - a x e^{3 T \\gamma} \\sin^{5}{\\left (k \\theta \\right )} \\cos{\\left (k \\theta \\right )} + 2 a x e^{2 T \\gamma} \\sin^{3}{\\left (k \\theta \\right )} \\cos^{3}{\\left (k \\theta \\right )} + 2 \\chi^{2} \\left(y - 1\\right) \\sin^{5}{\\left (k \\theta \\right )} \\cos^{3}{\\left (k \\theta \\right )} + 2 \\chi^{2} \\left(- y + \\sin^{2}{\\left (k \\theta \\right )} + 1\\right) e^{2 T \\gamma} \\sin^{3}{\\left (k \\theta \\right )} \\cos^{3}{\\left (k \\theta \\right )} - 2 \\chi^{2} e^{4 T \\gamma} \\sin^{3}{\\left (k \\theta \\right )} \\cos^{3}{\\left (k \\theta \\right )} - \\frac{\\chi z \\left(\\cos{\\left (2 k \\theta \\right )} - \\cos{\\left (6 k \\theta \\right )}\\right) e^{3 T \\gamma}}{8} + 2 \\chi z e^{T \\gamma} \\sin^{4}{\\left (k \\theta \\right )} \\cos^{2}{\\left (k \\theta \\right )} \\cos{\\left (2 k \\theta \\right )} + 2 x e^{4 T \\gamma} \\sin^{3}{\\left (k \\theta \\right )} \\cos^{3}{\\left (k \\theta \\right )} - 2 x e^{2 T \\gamma} \\sin^{5}{\\left (k \\theta \\right )} \\cos^{3}{\\left (k \\theta \\right )}\\right) e^{- 5 T \\gamma}}{a^{3} \\chi}\\\\\\frac{\\left(a^{2} \\chi^{2} \\left(y - 1\\right) e^{T \\gamma} \\sin{\\left (k \\theta \\right )} \\cos^{3}{\\left (k \\theta \\right )} + \\frac{a^{2} \\chi^{2} \\left(- 6 \\sin{\\left (2 k \\theta \\right )} + \\sin{\\left (4 k \\theta \\right )}\\right) e^{3 T \\gamma}}{8} + \\frac{a^{2} \\chi^{2} e^{5 T \\gamma} \\sin{\\left (2 k \\theta \\right )}}{2} + a^{2} x e^{3 T \\gamma} \\sin^{3}{\\left (k \\theta \\right )} \\cos{\\left (k \\theta \\right )} + \\frac{a^{2} e^{5 T \\gamma} \\sin{\\left (2 k \\theta \\right )}}{2} + 2 a \\chi^{2} \\left(- y + 1\\right) \\sin^{3}{\\left (k \\theta \\right )} \\cos^{3}{\\left (k \\theta \\right )} + a \\chi^{2} \\left(- 2 y \\sin^{2}{\\left (k \\theta \\right )} + y + 2 \\sin^{4}{\\left (k \\theta \\right )} - 1\\right) e^{2 T \\gamma} \\sin{\\left (k \\theta \\right )} \\cos{\\left (k \\theta \\right )} - a \\chi^{2} e^{5 T \\gamma} \\sin^{3}{\\left (k \\theta \\right )} \\cos{\\left (k \\theta \\right )} + \\frac{a \\chi^{2} e^{4 T \\gamma} \\sin{\\left (4 k \\theta \\right )}}{4} + \\frac{a \\chi \\left(- \\chi y \\sin{\\left (2 k \\theta \\right )} + \\chi \\sin{\\left (2 k \\theta \\right )} - 4 z \\cos{\\left (2 k \\theta \\right )}\\right) e^{T \\gamma} \\sin^{2}{\\left (k \\theta \\right )} \\cos^{2}{\\left (k \\theta \\right )}}{2} + a \\chi \\left(- \\chi \\sin^{3}{\\left (k \\theta \\right )} \\cos^{3}{\\left (k \\theta \\right )} + 2 \\chi \\sin^{3}{\\left (k \\theta \\right )} \\cos{\\left (k \\theta \\right )} + 4 z \\sin^{4}{\\left (k \\theta \\right )} - 4 z \\sin^{2}{\\left (k \\theta \\right )} + z\\right) e^{3 T \\gamma} - a x e^{5 T \\gamma} \\sin{\\left (k \\theta \\right )} \\cos^{3}{\\left (k \\theta \\right )} - \\frac{a x e^{4 T \\gamma} \\sin{\\left (4 k \\theta \\right )}}{4} - a x e^{3 T \\gamma} \\sin^{5}{\\left (k \\theta \\right )} \\cos{\\left (k \\theta \\right )} + 2 a x e^{2 T \\gamma} \\sin^{3}{\\left (k \\theta \\right )} \\cos^{3}{\\left (k \\theta \\right )} + 2 \\chi^{2} \\left(y - 1\\right) \\sin^{5}{\\left (k \\theta \\right )} \\cos^{3}{\\left (k \\theta \\right )} + 2 \\chi^{2} \\left(- y + \\sin^{2}{\\left (k \\theta \\right )} + 1\\right) e^{2 T \\gamma} \\sin^{3}{\\left (k \\theta \\right )} \\cos^{3}{\\left (k \\theta \\right )} - 2 \\chi^{2} e^{4 T \\gamma} \\sin^{3}{\\left (k \\theta \\right )} \\cos^{3}{\\left (k \\theta \\right )} - \\frac{\\chi z \\left(\\cos{\\left (2 k \\theta \\right )} - \\cos{\\left (6 k \\theta \\right )}\\right) e^{3 T \\gamma}}{8} + 2 \\chi z e^{T \\gamma} \\sin^{4}{\\left (k \\theta \\right )} \\cos^{2}{\\left (k \\theta \\right )} \\cos{\\left (2 k \\theta \\right )} + 2 x e^{4 T \\gamma} \\sin^{3}{\\left (k \\theta \\right )} \\cos^{3}{\\left (k \\theta \\right )} - 2 x e^{2 T \\gamma} \\sin^{5}{\\left (k \\theta \\right )} \\cos^{3}{\\left (k \\theta \\right )}\\right) e^{- 5 T \\gamma}}{a^{2} \\chi} & \\frac{\\left(a^{2} \\chi^{2} \\left(y - 1\\right) e^{T \\gamma} \\cos^{4}{\\left (k \\theta \\right )} + a^{2} \\chi^{2} \\left(\\cos^{2}{\\left (k \\theta \\right )} - 2\\right) e^{3 T \\gamma} \\cos^{2}{\\left (k \\theta \\right )} - a^{2} \\chi^{2} e^{5 T \\gamma} \\sin^{2}{\\left (k \\theta \\right )} + \\frac{a^{2} x \\left(- \\cos{\\left (4 k \\theta \\right )} + 1\\right) e^{3 T \\gamma}}{8} - a^{2} e^{5 T \\gamma} \\sin^{2}{\\left (k \\theta \\right )} + 2 a \\chi^{2} \\left(- y + 1\\right) \\sin^{2}{\\left (k \\theta \\right )} \\cos^{4}{\\left (k \\theta \\right )} + 2 a \\chi^{2} \\left(- y + \\sin^{2}{\\left (k \\theta \\right )}\\right) e^{2 T \\gamma} \\sin^{2}{\\left (k \\theta \\right )} \\cos^{2}{\\left (k \\theta \\right )} + a \\chi^{2} \\left(y - 1\\right) e^{T \\gamma} \\sin^{4}{\\left (k \\theta \\right )} \\cos^{2}{\\left (k \\theta \\right )} + a \\chi^{2} \\left(\\cos^{2}{\\left (k \\theta \\right )} - 2\\right) e^{3 T \\gamma} \\sin^{4}{\\left (k \\theta \\right )} - \\frac{a \\chi^{2} \\left(- \\cos{\\left (4 k \\theta \\right )} + 1\\right) e^{4 T \\gamma}}{4} + a \\chi^{2} e^{5 T \\gamma} \\sin^{4}{\\left (k \\theta \\right )} - \\frac{a \\chi z e^{3 T \\gamma} \\sin{\\left (4 k \\theta \\right )}}{2} - 2 a \\chi z e^{T \\gamma} \\sin{\\left (k \\theta \\right )} \\cos^{3}{\\left (k \\theta \\right )} \\cos{\\left (2 k \\theta \\right )} + \\frac{a x \\left(- \\cos{\\left (4 k \\theta \\right )} + 1\\right) e^{5 T \\gamma}}{8} + \\frac{a x \\left(- \\cos{\\left (4 k \\theta \\right )} + 1\\right) e^{4 T \\gamma}}{4} + a x e^{3 T \\gamma} \\sin^{6}{\\left (k \\theta \\right )} + 2 a x e^{2 T \\gamma} \\sin^{2}{\\left (k \\theta \\right )} \\cos^{4}{\\left (k \\theta \\right )} + 2 \\chi^{2} \\left(- y + 1\\right) \\sin^{6}{\\left (k \\theta \\right )} \\cos^{2}{\\left (k \\theta \\right )} + 2 \\chi^{2} \\left(y + \\cos^{2}{\\left (k \\theta \\right )} - 2\\right) e^{2 T \\gamma} \\sin^{4}{\\left (k \\theta \\right )} \\cos^{2}{\\left (k \\theta \\right )} + 2 \\chi^{2} e^{4 T \\gamma} \\sin^{4}{\\left (k \\theta \\right )} \\cos^{2}{\\left (k \\theta \\right )} - \\frac{\\chi z \\left(- \\cos{\\left (2 k \\theta \\right )} + 1\\right)^{2} e^{T \\gamma} \\sin{\\left (4 k \\theta \\right )}}{8} + 2 \\chi z e^{3 T \\gamma} \\sin^{3}{\\left (k \\theta \\right )} \\cos{\\left (k \\theta \\right )} \\cos{\\left (2 k \\theta \\right )} - 2 x e^{4 T \\gamma} \\sin^{4}{\\left (k \\theta \\right )} \\cos^{2}{\\left (k \\theta \\right )} + 2 x e^{2 T \\gamma} \\sin^{6}{\\left (k \\theta \\right )} \\cos^{2}{\\left (k \\theta \\right )}\\right) e^{- 5 T \\gamma}}{a^{2} \\chi^{2}}\\end{matrix}\\right]$$"
      ],
      "text/plain": [
       "⎡                                                               ⎛             \n",
       "⎢                                                               ⎜   3  5⋅T⋅γ  \n",
       "⎢                                                               ⎜- a ⋅ℯ      +\n",
       "⎢                                                               ⎝             \n",
       "⎢                                                               ──────────────\n",
       "⎢                                                                             \n",
       "⎢                                                                             \n",
       "⎢                                                                             \n",
       "⎢⎛                                         2  2                               \n",
       "⎢⎜ 2  2          T⋅γ             3        a ⋅χ ⋅(-6⋅sin(2⋅k⋅θ) + sin(4⋅k⋅θ))⋅ℯ\n",
       "⎢⎜a ⋅χ ⋅(y - 1)⋅ℯ   ⋅sin(k⋅θ)⋅cos (k⋅θ) + ────────────────────────────────────\n",
       "⎢⎝                                                            8               \n",
       "⎢─────────────────────────────────────────────────────────────────────────────\n",
       "⎢                                                                             \n",
       "⎣                                                                             \n",
       "\n",
       "  2  2                            T⋅γ                                         \n",
       " a ⋅χ ⋅(y - 1)⋅(-cos(4⋅k⋅θ) + 1)⋅ℯ       2 ⎛ 2    2           2     ⎞  5⋅T⋅γ  \n",
       " ──────────────────────────────────── + a ⋅⎝χ ⋅sin (k⋅θ) - cos (k⋅θ)⎠⋅ℯ      +\n",
       "                  8                                                           \n",
       "──────────────────────────────────────────────────────────────────────────────\n",
       "                                                                              \n",
       "                                                                              \n",
       "                                                                              \n",
       "3⋅T⋅γ    2  2  5⋅T⋅γ                                                2  5⋅T⋅γ  \n",
       "        a ⋅χ ⋅ℯ     ⋅sin(2⋅k⋅θ)    2    3⋅T⋅γ    3                 a ⋅ℯ     ⋅s\n",
       "───── + ─────────────────────── + a ⋅x⋅ℯ     ⋅sin (k⋅θ)⋅cos(k⋅θ) + ───────────\n",
       "                   2                                                        2 \n",
       "──────────────────────────────────────────────────────────────────────────────\n",
       "                                                                              \n",
       "                                                                              \n",
       "\n",
       "                                                                              \n",
       "  2 ⎛   2    2         2        2     ⎞  3⋅T⋅γ    2             2             \n",
       " a ⋅⎝- χ ⋅sin (k⋅θ) - χ  + x⋅sin (k⋅θ)⎠⋅ℯ     ⋅sin (k⋅θ) + 2⋅a⋅χ ⋅(-y + 1)⋅sin\n",
       "                                                                              \n",
       "──────────────────────────────────────────────────────────────────────────────\n",
       "                                                                              \n",
       "                                                                              \n",
       "                                                                              \n",
       "                                                                              \n",
       "in(2⋅k⋅θ)        2             3         3           2 ⎛         2            \n",
       "───────── + 2⋅a⋅χ ⋅(-y + 1)⋅sin (k⋅θ)⋅cos (k⋅θ) + a⋅χ ⋅⎝- 2⋅y⋅sin (k⋅θ) + y + \n",
       "                                                                              \n",
       "──────────────────────────────────────────────────────────────────────────────\n",
       "                                                                              \n",
       "                                                                              \n",
       "\n",
       "                                                                              \n",
       "4         2            ⎛       3             3               3                \n",
       " (k⋅θ)⋅cos (k⋅θ) + a⋅χ⋅⎝χ⋅y⋅cos (k⋅θ) - χ⋅cos (k⋅θ) + 4⋅z⋅sin (k⋅θ) - 2⋅z⋅sin(\n",
       "                                                                              \n",
       "──────────────────────────────────────────────────────────────────────────────\n",
       "                                                                              \n",
       "                                                                              \n",
       "                                                                              \n",
       "                                                                              \n",
       "     4         ⎞  2⋅T⋅γ                        2  5⋅T⋅γ    3                 a\n",
       "2⋅sin (k⋅θ) - 1⎠⋅ℯ     ⋅sin(k⋅θ)⋅cos(k⋅θ) - a⋅χ ⋅ℯ     ⋅sin (k⋅θ)⋅cos(k⋅θ) + ─\n",
       "                                                                              \n",
       "──────────────────────────────────────────────────────────────────────────────\n",
       "                                                                              \n",
       "                                                                              \n",
       "\n",
       "                                  ⎛ 2    ⎞                    4⋅T⋅γ           \n",
       "    ⎞  T⋅γ    2                 a⋅⎝χ  - x⎠⋅(-cos(4⋅k⋅θ) + 1)⋅ℯ          ⎛ 2   \n",
       "k⋅θ)⎠⋅ℯ   ⋅sin (k⋅θ)⋅cos(k⋅θ) + ─────────────────────────────────── + a⋅⎝χ ⋅si\n",
       "                                                 4                            \n",
       "──────────────────────────────────────────────────────────────────────────────\n",
       "                                                                              \n",
       "                                                                              \n",
       "                                                                              \n",
       "  2  4⋅T⋅γ                                                                    \n",
       "⋅χ ⋅ℯ     ⋅sin(4⋅k⋅θ)   a⋅χ⋅(-χ⋅y⋅sin(2⋅k⋅θ) + χ⋅sin(2⋅k⋅θ) - 4⋅z⋅cos(2⋅k⋅θ))⋅\n",
       "───────────────────── + ──────────────────────────────────────────────────────\n",
       "         4                                                    2               \n",
       "──────────────────────────────────────────────────────────────────────────────\n",
       "                                                                              \n",
       "                                                                              \n",
       "\n",
       "                                                                              \n",
       " 2             2     ⎞  5⋅T⋅γ    2            ⎛ 2      2    2         2       \n",
       "n (k⋅θ) + x⋅cos (k⋅θ)⎠⋅ℯ     ⋅cos (k⋅θ) + 2⋅a⋅⎝χ ⋅y - χ ⋅sin (k⋅θ) - χ  + x⋅si\n",
       "                                                                              \n",
       "──────────────────────────────────────────────────────────────────────────────\n",
       "                                                                      3       \n",
       "                                                                     a        \n",
       "                                                                              \n",
       " T⋅γ    2         2                                                           \n",
       "ℯ   ⋅sin (k⋅θ)⋅cos (k⋅θ)       ⎛       3         3               3            \n",
       "──────────────────────── + a⋅χ⋅⎝- χ⋅sin (k⋅θ)⋅cos (k⋅θ) + 2⋅χ⋅sin (k⋅θ)⋅cos(k⋅\n",
       "                                                                              \n",
       "──────────────────────────────────────────────────────────────────────────────\n",
       "                                                                     2        \n",
       "                                                                    a ⋅χ      \n",
       "\n",
       "                                                                              \n",
       " 2     ⎞  2⋅T⋅γ    2         2          ⎛ 2    5         2                    \n",
       "n (k⋅θ)⎠⋅ℯ     ⋅sin (k⋅θ)⋅cos (k⋅θ) + a⋅⎝χ ⋅sin (k⋅θ) - χ ⋅sin(k⋅θ) + 4⋅χ⋅z⋅co\n",
       "                                                                              \n",
       "──────────────────────────────────────────────────────────────────────────────\n",
       "                                                                              \n",
       "                                                                              \n",
       "                                                                              \n",
       "                                                                              \n",
       "            4               2         ⎞  3⋅T⋅γ        5⋅T⋅γ             3     \n",
       "θ) + 4⋅z⋅sin (k⋅θ) - 4⋅z⋅sin (k⋅θ) + z⎠⋅ℯ      - a⋅x⋅ℯ     ⋅sin(k⋅θ)⋅cos (k⋅θ)\n",
       "                                                                              \n",
       "──────────────────────────────────────────────────────────────────────────────\n",
       "                                                                              \n",
       "                                                                              \n",
       "\n",
       "                                                                              \n",
       " 3                              5             3     ⎞  3⋅T⋅γ               2  \n",
       "s (k⋅θ) - 2⋅χ⋅z⋅cos(k⋅θ) - x⋅sin (k⋅θ) + x⋅sin (k⋅θ)⎠⋅ℯ     ⋅sin(k⋅θ) + 2⋅χ ⋅(\n",
       "                                                                              \n",
       "──────────────────────────────────────────────────────────────────────────────\n",
       "                                                                              \n",
       "                                                                              \n",
       "                                                                              \n",
       "        4⋅T⋅γ                                                                 \n",
       "   a⋅x⋅ℯ     ⋅sin(4⋅k⋅θ)        3⋅T⋅γ    5                        2⋅T⋅γ    3  \n",
       " - ───────────────────── - a⋅x⋅ℯ     ⋅sin (k⋅θ)⋅cos(k⋅θ) + 2⋅a⋅x⋅ℯ     ⋅sin (k\n",
       "             4                                                                \n",
       "──────────────────────────────────────────────────────────────────────────────\n",
       "                                                                              \n",
       "                                                                              \n",
       "\n",
       "                                                               T⋅γ            \n",
       "           4         4        χ⋅z⋅(2⋅sin(4⋅k⋅θ) - sin(8⋅k⋅θ))⋅ℯ             3⋅\n",
       "-y + 1)⋅sin (k⋅θ)⋅cos (k⋅θ) - ──────────────────────────────────── + 2⋅χ⋅z⋅ℯ  \n",
       "                                               32                             \n",
       "──────────────────────────────────────────────────────────────────────────────\n",
       "                                                                              \n",
       "                                                                              \n",
       "                                                                              \n",
       "                                                                              \n",
       "       3           2            5         3           2 ⎛        2         ⎞  \n",
       "⋅θ)⋅cos (k⋅θ) + 2⋅χ ⋅(y - 1)⋅sin (k⋅θ)⋅cos (k⋅θ) + 2⋅χ ⋅⎝-y + sin (k⋅θ) + 1⎠⋅ℯ\n",
       "                                                                              \n",
       "──────────────────────────────────────────────────────────────────────────────\n",
       "                                                                              \n",
       "                                                                              \n",
       "\n",
       "                                                                              \n",
       "T⋅γ             3                     ⎛ 2    ⎞  4⋅T⋅γ    2         4          \n",
       "   ⋅sin(k⋅θ)⋅cos (k⋅θ)⋅cos(2⋅k⋅θ) + 2⋅⎝χ  - x⎠⋅ℯ     ⋅sin (k⋅θ)⋅cos (k⋅θ) + 2⋅\n",
       "                                                                              \n",
       "──────────────────────────────────────────────────────────────────────────────\n",
       "                                                                              \n",
       "                                                                              \n",
       "                                                                              \n",
       "                                                                              \n",
       "2⋅T⋅γ    3         3           2  4⋅T⋅γ    3         3        χ⋅z⋅(cos(2⋅k⋅θ) \n",
       "     ⋅sin (k⋅θ)⋅cos (k⋅θ) - 2⋅χ ⋅ℯ     ⋅sin (k⋅θ)⋅cos (k⋅θ) - ────────────────\n",
       "                                                                              \n",
       "──────────────────────────────────────────────────────────────────────────────\n",
       "                                                                              \n",
       "                                                                              \n",
       "\n",
       "                                                                   ⎞          \n",
       "⎛ 2      2    2         2        2     ⎞  2⋅T⋅γ    2         4     ⎟  -5⋅T⋅γ  \n",
       "⎝χ ⋅y - χ ⋅sin (k⋅θ) - χ  + x⋅sin (k⋅θ)⎠⋅ℯ     ⋅sin (k⋅θ)⋅cos (k⋅θ)⎟⋅ℯ        \n",
       "                                                                   ⎠          \n",
       "────────────────────────────────────────────────────────────────────────────  \n",
       "                                                                              \n",
       "                                                                              \n",
       "                                                                              \n",
       "               3⋅T⋅γ                                                          \n",
       "- cos(6⋅k⋅θ))⋅ℯ               T⋅γ    4         2                        4⋅T⋅γ \n",
       "──────────────────── + 2⋅χ⋅z⋅ℯ   ⋅sin (k⋅θ)⋅cos (k⋅θ)⋅cos(2⋅k⋅θ) + 2⋅x⋅ℯ     ⋅\n",
       " 8                                                                            \n",
       "──────────────────────────────────────────────────────────────────────────────\n",
       "                                                                              \n",
       "                                                                              \n",
       "\n",
       "                                                               ⎛              \n",
       "                                                               ⎜ 2  2         \n",
       "                                                               ⎜a ⋅χ ⋅(y - 1)⋅\n",
       "                                                               ⎝              \n",
       "                                                               ───────────────\n",
       "                                                                              \n",
       "                                                                              \n",
       "                                                                              \n",
       "                                                    ⎞                         \n",
       "   3         3             2⋅T⋅γ    5         3     ⎟  -5⋅T⋅γ                 \n",
       "sin (k⋅θ)⋅cos (k⋅θ) - 2⋅x⋅ℯ     ⋅sin (k⋅θ)⋅cos (k⋅θ)⎟⋅ℯ                       \n",
       "                                                    ⎠                         \n",
       "─────────────────────────────────────────────────────────────                 \n",
       "                                                                              \n",
       "                                                                              \n",
       "\n",
       "                           2  2                               3⋅T⋅γ    2  2  5\n",
       " T⋅γ             3        a ⋅χ ⋅(-6⋅sin(2⋅k⋅θ) + sin(4⋅k⋅θ))⋅ℯ        a ⋅χ ⋅ℯ \n",
       "ℯ   ⋅sin(k⋅θ)⋅cos (k⋅θ) + ───────────────────────────────────────── + ────────\n",
       "                                              8                               \n",
       "──────────────────────────────────────────────────────────────────────────────\n",
       "                                                                              \n",
       "                                                                              \n",
       "                                                                              \n",
       "                  ⎛                                                           \n",
       "                  ⎜ 2  2          T⋅γ    4         2  2 ⎛   2         ⎞  3⋅T⋅γ\n",
       "                  ⎜a ⋅χ ⋅(y - 1)⋅ℯ   ⋅cos (k⋅θ) + a ⋅χ ⋅⎝cos (k⋅θ) - 2⎠⋅ℯ     \n",
       "                  ⎝                                                           \n",
       "                  ────────────────────────────────────────────────────────────\n",
       "                                                                              \n",
       "                                                                              \n",
       "\n",
       "⋅T⋅γ                                                2  5⋅T⋅γ                  \n",
       "    ⋅sin(2⋅k⋅θ)    2    3⋅T⋅γ    3                 a ⋅ℯ     ⋅sin(2⋅k⋅θ)       \n",
       "─────────────── + a ⋅x⋅ℯ     ⋅sin (k⋅θ)⋅cos(k⋅θ) + ──────────────────── + 2⋅a⋅\n",
       "   2                                                        2                 \n",
       "──────────────────────────────────────────────────────────────────────────────\n",
       "                                                                              \n",
       "                                                                              \n",
       "                                                                              \n",
       "                                       2                      3⋅T⋅γ           \n",
       "    2         2  2  5⋅T⋅γ    2        a ⋅x⋅(-cos(4⋅k⋅θ) + 1)⋅ℯ         2  5⋅T⋅\n",
       "⋅cos (k⋅θ) - a ⋅χ ⋅ℯ     ⋅sin (k⋅θ) + ───────────────────────────── - a ⋅ℯ    \n",
       "                                                    8                         \n",
       "──────────────────────────────────────────────────────────────────────────────\n",
       "                                                                              \n",
       "                                                                              \n",
       "\n",
       "                                                                              \n",
       " 2             3         3           2 ⎛         2                 4         ⎞\n",
       "χ ⋅(-y + 1)⋅sin (k⋅θ)⋅cos (k⋅θ) + a⋅χ ⋅⎝- 2⋅y⋅sin (k⋅θ) + y + 2⋅sin (k⋅θ) - 1⎠\n",
       "                                                                              \n",
       "──────────────────────────────────────────────────────────────────────────────\n",
       "                                                                              \n",
       "                                                                              \n",
       "                                                                              \n",
       "                                                                              \n",
       "γ    2             2             2         4             2 ⎛        2     ⎞  2\n",
       " ⋅sin (k⋅θ) + 2⋅a⋅χ ⋅(-y + 1)⋅sin (k⋅θ)⋅cos (k⋅θ) + 2⋅a⋅χ ⋅⎝-y + sin (k⋅θ)⎠⋅ℯ \n",
       "                                                                              \n",
       "──────────────────────────────────────────────────────────────────────────────\n",
       "                                                                              \n",
       "                                                                              \n",
       "\n",
       "                                                                2  4⋅T⋅γ      \n",
       "  2⋅T⋅γ                        2  5⋅T⋅γ    3                 a⋅χ ⋅ℯ     ⋅sin(4\n",
       "⋅ℯ     ⋅sin(k⋅θ)⋅cos(k⋅θ) - a⋅χ ⋅ℯ     ⋅sin (k⋅θ)⋅cos(k⋅θ) + ─────────────────\n",
       "                                                                       4      \n",
       "──────────────────────────────────────────────────────────────────────────────\n",
       "                                                                              \n",
       "                                                                              \n",
       "                                                                              \n",
       "                                                                              \n",
       "⋅T⋅γ    2         2           2          T⋅γ    4         2           2 ⎛   2 \n",
       "    ⋅sin (k⋅θ)⋅cos (k⋅θ) + a⋅χ ⋅(y - 1)⋅ℯ   ⋅sin (k⋅θ)⋅cos (k⋅θ) + a⋅χ ⋅⎝cos (\n",
       "                                                                              \n",
       "──────────────────────────────────────────────────────────────────────────────\n",
       "                                                                              \n",
       "                                                                              \n",
       "\n",
       "                                                               T⋅γ    2       \n",
       "⋅k⋅θ)   a⋅χ⋅(-χ⋅y⋅sin(2⋅k⋅θ) + χ⋅sin(2⋅k⋅θ) - 4⋅z⋅cos(2⋅k⋅θ))⋅ℯ   ⋅sin (k⋅θ)⋅c\n",
       "───── + ──────────────────────────────────────────────────────────────────────\n",
       "                                              2                               \n",
       "──────────────────────────────────────────────────────────────────────────────\n",
       "                                                                              \n",
       "                                                                              \n",
       "                                                                              \n",
       "                                2                    4⋅T⋅γ                    \n",
       "        ⎞  3⋅T⋅γ    4        a⋅χ ⋅(-cos(4⋅k⋅θ) + 1)⋅ℯ           2  5⋅T⋅γ    4 \n",
       "k⋅θ) - 2⎠⋅ℯ     ⋅sin (k⋅θ) - ───────────────────────────── + a⋅χ ⋅ℯ     ⋅sin (\n",
       "                                           4                                  \n",
       "──────────────────────────────────────────────────────────────────────────────\n",
       "                                                                              \n",
       "                                                                              \n",
       "\n",
       "  2                                                                           \n",
       "os (k⋅θ)       ⎛       3         3               3                        4   \n",
       "──────── + a⋅χ⋅⎝- χ⋅sin (k⋅θ)⋅cos (k⋅θ) + 2⋅χ⋅sin (k⋅θ)⋅cos(k⋅θ) + 4⋅z⋅sin (k⋅\n",
       "                                                                              \n",
       "──────────────────────────────────────────────────────────────────────────────\n",
       "                                                     3                        \n",
       "                                                    a ⋅χ                      \n",
       "                                                                              \n",
       "              3⋅T⋅γ                                                           \n",
       "       a⋅χ⋅z⋅ℯ     ⋅sin(4⋅k⋅θ)            T⋅γ             3                   \n",
       "k⋅θ) - ─────────────────────── - 2⋅a⋅χ⋅z⋅ℯ   ⋅sin(k⋅θ)⋅cos (k⋅θ)⋅cos(2⋅k⋅θ) + \n",
       "                  2                                                           \n",
       "──────────────────────────────────────────────────────────────────────────────\n",
       "                                                    2  2                      \n",
       "                                                   a ⋅χ                       \n",
       "\n",
       "                                                                      4⋅T⋅γ   \n",
       "            2         ⎞  3⋅T⋅γ        5⋅T⋅γ             3        a⋅x⋅ℯ     ⋅si\n",
       "θ) - 4⋅z⋅sin (k⋅θ) + z⎠⋅ℯ      - a⋅x⋅ℯ     ⋅sin(k⋅θ)⋅cos (k⋅θ) - ─────────────\n",
       "                                                                           4  \n",
       "──────────────────────────────────────────────────────────────────────────────\n",
       "                                                                              \n",
       "                                                                              \n",
       "                                                                              \n",
       "                       5⋅T⋅γ                          4⋅T⋅γ                   \n",
       "a⋅x⋅(-cos(4⋅k⋅θ) + 1)⋅ℯ        a⋅x⋅(-cos(4⋅k⋅θ) + 1)⋅ℯ             3⋅T⋅γ    6 \n",
       "──────────────────────────── + ──────────────────────────── + a⋅x⋅ℯ     ⋅sin (\n",
       "             8                              4                                 \n",
       "──────────────────────────────────────────────────────────────────────────────\n",
       "                                                                              \n",
       "                                                                              \n",
       "\n",
       "                                                                              \n",
       "n(4⋅k⋅θ)        3⋅T⋅γ    5                        2⋅T⋅γ    3         3        \n",
       "──────── - a⋅x⋅ℯ     ⋅sin (k⋅θ)⋅cos(k⋅θ) + 2⋅a⋅x⋅ℯ     ⋅sin (k⋅θ)⋅cos (k⋅θ) + \n",
       "                                                                              \n",
       "──────────────────────────────────────────────────────────────────────────────\n",
       "                                                                              \n",
       "                                                                              \n",
       "                                                                              \n",
       "                                                                              \n",
       "              2⋅T⋅γ    2         4           2             6         2        \n",
       "k⋅θ) + 2⋅a⋅x⋅ℯ     ⋅sin (k⋅θ)⋅cos (k⋅θ) + 2⋅χ ⋅(-y + 1)⋅sin (k⋅θ)⋅cos (k⋅θ) + \n",
       "                                                                              \n",
       "──────────────────────────────────────────────────────────────────────────────\n",
       "                                                                              \n",
       "                                                                              \n",
       "\n",
       "                                                                              \n",
       "   2            5         3           2 ⎛        2         ⎞  2⋅T⋅γ    3      \n",
       "2⋅χ ⋅(y - 1)⋅sin (k⋅θ)⋅cos (k⋅θ) + 2⋅χ ⋅⎝-y + sin (k⋅θ) + 1⎠⋅ℯ     ⋅sin (k⋅θ)⋅\n",
       "                                                                              \n",
       "──────────────────────────────────────────────────────────────────────────────\n",
       "                                                                              \n",
       "                                                                              \n",
       "                                                                              \n",
       "                                                                              \n",
       "   2 ⎛       2         ⎞  2⋅T⋅γ    4         2           2  4⋅T⋅γ    4        \n",
       "2⋅χ ⋅⎝y + cos (k⋅θ) - 2⎠⋅ℯ     ⋅sin (k⋅θ)⋅cos (k⋅θ) + 2⋅χ ⋅ℯ     ⋅sin (k⋅θ)⋅co\n",
       "                                                                              \n",
       "──────────────────────────────────────────────────────────────────────────────\n",
       "                                                                              \n",
       "                                                                              \n",
       "\n",
       "                                                                             3\n",
       "   3           2  4⋅T⋅γ    3         3        χ⋅z⋅(cos(2⋅k⋅θ) - cos(6⋅k⋅θ))⋅ℯ \n",
       "cos (k⋅θ) - 2⋅χ ⋅ℯ     ⋅sin (k⋅θ)⋅cos (k⋅θ) - ────────────────────────────────\n",
       "                                                               8              \n",
       "──────────────────────────────────────────────────────────────────────────────\n",
       "                                                                              \n",
       "                                                                              \n",
       "                                                                              \n",
       "                               2  T⋅γ                                         \n",
       " 2        χ⋅z⋅(-cos(2⋅k⋅θ) + 1) ⋅ℯ   ⋅sin(4⋅k⋅θ)          3⋅T⋅γ    3          \n",
       "s (k⋅θ) - ────────────────────────────────────── + 2⋅χ⋅z⋅ℯ     ⋅sin (k⋅θ)⋅cos(\n",
       "                            8                                                 \n",
       "──────────────────────────────────────────────────────────────────────────────\n",
       "                                                                              \n",
       "                                                                              \n",
       "\n",
       "⋅T⋅γ                                                                          \n",
       "              T⋅γ    4         2                        4⋅T⋅γ    3         3  \n",
       "──── + 2⋅χ⋅z⋅ℯ   ⋅sin (k⋅θ)⋅cos (k⋅θ)⋅cos(2⋅k⋅θ) + 2⋅x⋅ℯ     ⋅sin (k⋅θ)⋅cos (k\n",
       "                                                                              \n",
       "──────────────────────────────────────────────────────────────────────────────\n",
       "                                                                              \n",
       "                                                                              \n",
       "                                                                              \n",
       "                                                                              \n",
       "                       4⋅T⋅γ    4         2             2⋅T⋅γ    6         2  \n",
       "k⋅θ)⋅cos(2⋅k⋅θ) - 2⋅x⋅ℯ     ⋅sin (k⋅θ)⋅cos (k⋅θ) + 2⋅x⋅ℯ     ⋅sin (k⋅θ)⋅cos (k\n",
       "                                                                              \n",
       "──────────────────────────────────────────────────────────────────────────────\n",
       "                                                                              \n",
       "                                                                              \n",
       "\n",
       "                                    ⎞        ⎤\n",
       "           2⋅T⋅γ    5         3     ⎟  -5⋅T⋅γ⎥\n",
       "⋅θ) - 2⋅x⋅ℯ     ⋅sin (k⋅θ)⋅cos (k⋅θ)⎟⋅ℯ      ⎥\n",
       "                                    ⎠        ⎥\n",
       "─────────────────────────────────────────────⎥\n",
       "                                             ⎥\n",
       "                                             ⎥\n",
       "                                             ⎥\n",
       "   ⎞                                         ⎥\n",
       "   ⎟  -5⋅T⋅γ                                 ⎥\n",
       "⋅θ)⎟⋅ℯ                                       ⎥\n",
       "   ⎠                                         ⎥\n",
       "────────────                                 ⎥\n",
       "                                             ⎥\n",
       "                                             ⎦"
      ]
     },
     "execution_count": 46,
     "metadata": {},
     "output_type": "execute_result"
    }
   ],
   "source": [
    "final_expr"
   ]
  },
  {
   "cell_type": "code",
   "execution_count": 16,
   "metadata": {
    "scrolled": true
   },
   "outputs": [
    {
     "data": {
      "text/latex": [
       "$$\\left[\\begin{matrix}-1 + \\frac{\\chi \\left(\\chi \\left(\\left(y - 1\\right) e^{- 2 T \\gamma} + 1\\right) \\sin{\\left (k \\theta \\right )} + z e^{- T \\gamma} \\cos{\\left (k \\theta \\right )}\\right) \\sin{\\left (k \\theta \\right )} + \\left(\\chi z e^{- T \\gamma} \\sin{\\left (k \\theta \\right )} + x \\cos{\\left (k \\theta \\right )}\\right) \\cos{\\left (k \\theta \\right )}}{a} & \\frac{\\left(\\chi \\left(\\left(y - 1\\right) e^{- 2 T \\gamma} + 1\\right) \\sin{\\left (k \\theta \\right )} + z e^{- T \\gamma} \\cos{\\left (k \\theta \\right )}\\right) \\cos{\\left (k \\theta \\right )} - \\frac{\\left(\\chi z e^{- T \\gamma} \\sin{\\left (k \\theta \\right )} + x \\cos{\\left (k \\theta \\right )}\\right) \\sin{\\left (k \\theta \\right )}}{\\chi}}{a}\\\\\\chi \\left(\\left(\\left(y - 1\\right) e^{- 2 T \\gamma} + 1\\right) \\cos{\\left (k \\theta \\right )} - \\frac{z e^{- T \\gamma} \\sin{\\left (k \\theta \\right )}}{\\chi}\\right) \\sin{\\left (k \\theta \\right )} + \\left(z e^{- T \\gamma} \\cos{\\left (k \\theta \\right )} - \\frac{x \\sin{\\left (k \\theta \\right )}}{\\chi}\\right) \\cos{\\left (k \\theta \\right )} & \\left(\\left(\\left(y - 1\\right) e^{- 2 T \\gamma} + 1\\right) \\cos{\\left (k \\theta \\right )} - \\frac{z e^{- T \\gamma} \\sin{\\left (k \\theta \\right )}}{\\chi}\\right) \\cos{\\left (k \\theta \\right )} - 1 - \\frac{\\left(z e^{- T \\gamma} \\cos{\\left (k \\theta \\right )} - \\frac{x \\sin{\\left (k \\theta \\right )}}{\\chi}\\right) \\sin{\\left (k \\theta \\right )}}{\\chi}\\end{matrix}\\right]$$"
      ],
      "text/plain": [
       "⎡                                                                             \n",
       "⎢                                                                             \n",
       "⎢       ⎛  ⎛         -2⋅T⋅γ    ⎞               -T⋅γ         ⎞            ⎛    \n",
       "⎢     χ⋅⎝χ⋅⎝(y - 1)⋅ℯ       + 1⎠⋅sin(k⋅θ) + z⋅ℯ    ⋅cos(k⋅θ)⎠⋅sin(k⋅θ) + ⎝χ⋅z⋅\n",
       "⎢-1 + ────────────────────────────────────────────────────────────────────────\n",
       "⎢                                                           a                 \n",
       "⎢                                                                             \n",
       "⎢                                                                             \n",
       "⎢      ⎛                                    -T⋅γ         ⎞                    \n",
       "⎢      ⎜⎛         -2⋅T⋅γ    ⎞            z⋅ℯ    ⋅sin(k⋅θ)⎟            ⎛   -T⋅γ\n",
       "⎢    χ⋅⎜⎝(y - 1)⋅ℯ       + 1⎠⋅cos(k⋅θ) - ────────────────⎟⋅sin(k⋅θ) + ⎜z⋅ℯ    \n",
       "⎣      ⎝                                        χ        ⎠            ⎝       \n",
       "\n",
       "                                                                              \n",
       "                                       ⎛  ⎛         -2⋅T⋅γ    ⎞               \n",
       " -T⋅γ                      ⎞           ⎝χ⋅⎝(y - 1)⋅ℯ       + 1⎠⋅sin(k⋅θ) + z⋅ℯ\n",
       "ℯ    ⋅sin(k⋅θ) + x⋅cos(k⋅θ)⎠⋅cos(k⋅θ)                                         \n",
       "─────────────────────────────────────  ───────────────────────────────────────\n",
       "                                                                              \n",
       "                                                                              \n",
       "                                                                              \n",
       "                                       ⎛                                    -T\n",
       "            x⋅sin(k⋅θ)⎞                ⎜⎛         -2⋅T⋅γ    ⎞            z⋅ℯ  \n",
       "⋅cos(k⋅θ) - ──────────⎟⋅cos(k⋅θ)       ⎜⎝(y - 1)⋅ℯ       + 1⎠⋅cos(k⋅θ) - ─────\n",
       "                χ     ⎠                ⎝                                      \n",
       "\n",
       "                          ⎛     -T⋅γ                      ⎞         ⎤\n",
       "-T⋅γ         ⎞            ⎝χ⋅z⋅ℯ    ⋅sin(k⋅θ) + x⋅cos(k⋅θ)⎠⋅sin(k⋅θ)⎥\n",
       "    ⋅cos(k⋅θ)⎠⋅cos(k⋅θ) - ──────────────────────────────────────────⎥\n",
       "                                              χ                     ⎥\n",
       "────────────────────────────────────────────────────────────────────⎥\n",
       "              a                                                     ⎥\n",
       "                                                                    ⎥\n",
       "                            ⎛   -T⋅γ            x⋅sin(k⋅θ)⎞         ⎥\n",
       "⋅γ         ⎞                ⎜z⋅ℯ    ⋅cos(k⋅θ) - ──────────⎟⋅sin(k⋅θ)⎥\n",
       "  ⋅sin(k⋅θ)⎟                ⎝                       χ     ⎠         ⎥\n",
       "───────────⎟⋅cos(k⋅θ) - 1 - ────────────────────────────────────────⎥\n",
       "  χ        ⎠                                   χ                    ⎦"
      ]
     },
     "execution_count": 16,
     "metadata": {},
     "output_type": "execute_result"
    }
   ],
   "source": [
    "norm_guy = Covar\n",
    "norm_guy[0,0] = Covar[0,0]/a - 1\n",
    "norm_guy[0,1] = Covar[0,1]/a\n",
    "norm_guy[1,1] = Covar[1,1] - 1\n",
    "norm_guy"
   ]
  },
  {
   "cell_type": "code",
   "execution_count": 32,
   "metadata": {
    "scrolled": true
   },
   "outputs": [
    {
     "data": {
      "image/png": "[encoded data removed]",
      "text/latex": [
       "$$\\frac{\\left(\\frac{a^{2} \\chi^{4} \\left(- y + 1\\right) \\left(- \\cos{\\left (4 k \\theta \\right )} + 1\\right) e^{2 T \\gamma}}{4} + a^{2} \\chi^{4} \\left(\\sin^{4}{\\left (k \\theta \\right )} + 1\\right) e^{4 T \\gamma} + a^{2} \\chi^{4} \\left(y^{2} - 2 y + 1\\right) \\cos^{4}{\\left (k \\theta \\right )} + 4 a^{2} \\chi^{3} z \\left(- y + 1\\right) e^{T \\gamma} \\sin{\\left (k \\theta \\right )} \\cos^{3}{\\left (k \\theta \\right )} + 4 a^{2} \\chi^{3} z e^{3 T \\gamma} \\sin^{3}{\\left (k \\theta \\right )} \\cos{\\left (k \\theta \\right )} - 2 a^{2} \\chi^{2} x e^{4 T \\gamma} \\sin^{4}{\\left (k \\theta \\right )} + \\frac{a^{2} \\chi^{2} \\left(- \\cos{\\left (4 k \\theta \\right )} + 1\\right) \\left(x y - x + 2 z^{2}\\right) e^{2 T \\gamma}}{4} - 4 a^{2} \\chi x z e^{3 T \\gamma} \\sin^{3}{\\left (k \\theta \\right )} \\cos{\\left (k \\theta \\right )} + a^{2} x^{2} e^{4 T \\gamma} \\sin^{4}{\\left (k \\theta \\right )} + \\frac{a \\chi^{6} \\left(- \\cos{\\left (4 k \\theta \\right )} + 1\\right) \\left(- y^{2} + 2 y - 1\\right)}{4} + a \\chi^{5} z \\left(- y + 1\\right) e^{T \\gamma} \\sin{\\left (4 k \\theta \\right )} - 8 a \\chi^{5} z e^{3 T \\gamma} \\sin{\\left (k \\theta \\right )} \\cos^{3}{\\left (k \\theta \\right )} + 2 a \\chi^{4} \\left(\\chi^{2} \\sin^{4}{\\left (k \\theta \\right )} - 2 \\chi^{2} \\sin^{2}{\\left (k \\theta \\right )} - 2 x \\sin^{4}{\\left (k \\theta \\right )} + 3 x \\sin^{2}{\\left (k \\theta \\right )} - x\\right) e^{4 T \\gamma} + \\frac{a \\chi^{4} \\left(- \\chi^{2} y \\left(- \\cos{\\left (4 k \\theta \\right )} + 1\\right) - 4 \\chi^{2} y \\sin^{2}{\\left (k \\theta \\right )} + \\chi^{2} \\left(- \\cos{\\left (4 k \\theta \\right )} + 1\\right) + 4 \\chi^{2} \\sin^{2}{\\left (k \\theta \\right )} + x y \\left(- \\cos{\\left (4 k \\theta \\right )} + 1\\right) - x \\left(- \\cos{\\left (4 k \\theta \\right )} + 1\\right) + z^{2} \\left(- \\cos{\\left (4 k \\theta \\right )} + 1\\right) - 4 z^{2} \\sin^{4}{\\left (k \\theta \\right )} - 4 z^{2} \\cos^{4}{\\left (k \\theta \\right )}\\right) e^{2 T \\gamma}}{2} + a \\chi^{3} x z e^{3 T \\gamma} \\sin{\\left (4 k \\theta \\right )} - \\frac{a \\chi^{2} x^{2} \\left(- \\cos{\\left (4 k \\theta \\right )} + 1\\right) e^{4 T \\gamma}}{4} + \\chi^{8} \\left(y^{2} - 2 y + 1\\right) \\sin^{4}{\\left (k \\theta \\right )} + 4 \\chi^{7} z \\left(y - 1\\right) e^{T \\gamma} \\sin^{3}{\\left (k \\theta \\right )} \\cos{\\left (k \\theta \\right )} + 2 \\chi^{6} \\left(\\chi^{2} y \\sin^{2}{\\left (k \\theta \\right )} - \\chi^{2} \\sin^{2}{\\left (k \\theta \\right )} + x y \\cos^{2}{\\left (k \\theta \\right )} - x \\cos^{2}{\\left (k \\theta \\right )} + 2 z^{2} \\cos^{2}{\\left (k \\theta \\right )}\\right) e^{2 T \\gamma} \\sin^{2}{\\left (k \\theta \\right )} + 4 \\chi^{5} z \\left(\\chi^{2} \\sin^{2}{\\left (k \\theta \\right )} + x \\cos^{2}{\\left (k \\theta \\right )}\\right) e^{3 T \\gamma} \\sin{\\left (k \\theta \\right )} \\cos{\\left (k \\theta \\right )} + \\chi^{4} \\left(- \\chi^{2} \\sin^{2}{\\left (k \\theta \\right )} + x \\sin^{2}{\\left (k \\theta \\right )} - x\\right)^{2} e^{4 T \\gamma}\\right) e^{- 4 T \\gamma}}{a^{2} \\chi^{4}}$$"
      ],
      "text/plain": [
       "⎛ 2  4                             2⋅T⋅γ                                      \n",
       "⎜a ⋅χ ⋅(-y + 1)⋅(-cos(4⋅k⋅θ) + 1)⋅ℯ         2  4 ⎛   4         ⎞  4⋅T⋅γ    2  \n",
       "⎜─────────────────────────────────────── + a ⋅χ ⋅⎝sin (k⋅θ) + 1⎠⋅ℯ      + a ⋅χ\n",
       "⎝                   4                                                         \n",
       "──────────────────────────────────────────────────────────────────────────────\n",
       "                                                                              \n",
       "                                                                              \n",
       "\n",
       "                                                                              \n",
       "4 ⎛ 2          ⎞    4           2  3             T⋅γ             3           2\n",
       " ⋅⎝y  - 2⋅y + 1⎠⋅cos (k⋅θ) + 4⋅a ⋅χ ⋅z⋅(-y + 1)⋅ℯ   ⋅sin(k⋅θ)⋅cos (k⋅θ) + 4⋅a \n",
       "                                                                              \n",
       "──────────────────────────────────────────────────────────────────────────────\n",
       "                                                                              \n",
       "                                                                              \n",
       "\n",
       "                                                                2  2          \n",
       "  3    3⋅T⋅γ    3                    2  2    4⋅T⋅γ    4        a ⋅χ ⋅(-cos(4⋅k\n",
       "⋅χ ⋅z⋅ℯ     ⋅sin (k⋅θ)⋅cos(k⋅θ) - 2⋅a ⋅χ ⋅x⋅ℯ     ⋅sin (k⋅θ) + ───────────────\n",
       "                                                                              \n",
       "──────────────────────────────────────────────────────────────────────────────\n",
       "                                                                              \n",
       "                                                                              \n",
       "\n",
       "         ⎛             2⎞  2⋅T⋅γ                                              \n",
       "⋅θ) + 1)⋅⎝x⋅y - x + 2⋅z ⎠⋅ℯ           2        3⋅T⋅γ    3                  2  \n",
       "──────────────────────────────── - 4⋅a ⋅χ⋅x⋅z⋅ℯ     ⋅sin (k⋅θ)⋅cos(k⋅θ) + a ⋅x\n",
       "        4                                                                     \n",
       "──────────────────────────────────────────────────────────────────────────────\n",
       "                                                                              \n",
       "                                                                              \n",
       "\n",
       "                        6                   ⎛   2          ⎞                  \n",
       "2  4⋅T⋅γ    4        a⋅χ ⋅(-cos(4⋅k⋅θ) + 1)⋅⎝- y  + 2⋅y - 1⎠      5           \n",
       " ⋅ℯ     ⋅sin (k⋅θ) + ─────────────────────────────────────── + a⋅χ ⋅z⋅(-y + 1)\n",
       "                                        4                                     \n",
       "──────────────────────────────────────────────────────────────────────────────\n",
       "                                                                              \n",
       "                                                                              \n",
       "\n",
       "                                                                              \n",
       "  T⋅γ                   5    3⋅T⋅γ             3             4 ⎛ 2    4       \n",
       "⋅ℯ   ⋅sin(4⋅k⋅θ) - 8⋅a⋅χ ⋅z⋅ℯ     ⋅sin(k⋅θ)⋅cos (k⋅θ) + 2⋅a⋅χ ⋅⎝χ ⋅sin (k⋅θ) -\n",
       "                                                                              \n",
       "──────────────────────────────────────────────────────────────────────────────\n",
       "                                                                              \n",
       "                                                                              \n",
       "\n",
       "                                                                 4 ⎛   2      \n",
       "    2    2               4               2         ⎞  4⋅T⋅γ   a⋅χ ⋅⎝- χ ⋅y⋅(-c\n",
       " 2⋅χ ⋅sin (k⋅θ) - 2⋅x⋅sin (k⋅θ) + 3⋅x⋅sin (k⋅θ) - x⎠⋅ℯ      + ────────────────\n",
       "                                                                              \n",
       "──────────────────────────────────────────────────────────────────────────────\n",
       "                                                                          2  4\n",
       "                                                                         a ⋅χ \n",
       "\n",
       "                    2      2         2                        2    2          \n",
       "os(4⋅k⋅θ) + 1) - 4⋅χ ⋅y⋅sin (k⋅θ) + χ ⋅(-cos(4⋅k⋅θ) + 1) + 4⋅χ ⋅sin (k⋅θ) + x⋅\n",
       "──────────────────────────────────────────────────────────────────────────────\n",
       "                                                                              \n",
       "──────────────────────────────────────────────────────────────────────────────\n",
       "                                                                              \n",
       "                                                                              \n",
       "\n",
       "                                             2                        2    4  \n",
       "y⋅(-cos(4⋅k⋅θ) + 1) - x⋅(-cos(4⋅k⋅θ) + 1) + z ⋅(-cos(4⋅k⋅θ) + 1) - 4⋅z ⋅sin (k\n",
       "──────────────────────────────────────────────────────────────────────────────\n",
       "     2                                                                        \n",
       "──────────────────────────────────────────────────────────────────────────────\n",
       "                                                                              \n",
       "                                                                              \n",
       "\n",
       "         2    4     ⎞  2⋅T⋅γ                                   2  2           \n",
       "⋅θ) - 4⋅z ⋅cos (k⋅θ)⎠⋅ℯ           3      3⋅T⋅γ              a⋅χ ⋅x ⋅(-cos(4⋅k⋅\n",
       "──────────────────────────── + a⋅χ ⋅x⋅z⋅ℯ     ⋅sin(4⋅k⋅θ) - ──────────────────\n",
       "                                                                           4  \n",
       "──────────────────────────────────────────────────────────────────────────────\n",
       "                                                                              \n",
       "                                                                              \n",
       "\n",
       "         4⋅T⋅γ                                                                \n",
       "θ) + 1)⋅ℯ         8 ⎛ 2          ⎞    4           7            T⋅γ    3       \n",
       "────────────── + χ ⋅⎝y  - 2⋅y + 1⎠⋅sin (k⋅θ) + 4⋅χ ⋅z⋅(y - 1)⋅ℯ   ⋅sin (k⋅θ)⋅c\n",
       "                                                                              \n",
       "──────────────────────────────────────────────────────────────────────────────\n",
       "                                                                              \n",
       "                                                                              \n",
       "\n",
       "                                                                              \n",
       "             6 ⎛ 2      2         2    2               2             2        \n",
       "os(k⋅θ) + 2⋅χ ⋅⎝χ ⋅y⋅sin (k⋅θ) - χ ⋅sin (k⋅θ) + x⋅y⋅cos (k⋅θ) - x⋅cos (k⋅θ) + \n",
       "                                                                              \n",
       "──────────────────────────────────────────────────────────────────────────────\n",
       "                                                                              \n",
       "                                                                              \n",
       "\n",
       "                                                                              \n",
       "   2    2     ⎞  2⋅T⋅γ    2           5   ⎛ 2    2             2     ⎞  3⋅T⋅γ \n",
       "2⋅z ⋅cos (k⋅θ)⎠⋅ℯ     ⋅sin (k⋅θ) + 4⋅χ ⋅z⋅⎝χ ⋅sin (k⋅θ) + x⋅cos (k⋅θ)⎠⋅ℯ     ⋅\n",
       "                                                                              \n",
       "──────────────────────────────────────────────────────────────────────────────\n",
       "                                                                              \n",
       "                                                                              \n",
       "\n",
       "                                                         2       ⎞        \n",
       "                     4 ⎛   2    2             2         ⎞   4⋅T⋅γ⎟  -4⋅T⋅γ\n",
       "sin(k⋅θ)⋅cos(k⋅θ) + χ ⋅⎝- χ ⋅sin (k⋅θ) + x⋅sin (k⋅θ) - x⎠ ⋅ℯ     ⎟⋅ℯ      \n",
       "                                                                 ⎠        \n",
       "──────────────────────────────────────────────────────────────────────────\n",
       "                                                                          \n",
       "                                                                          "
      ]
     },
     "execution_count": 32,
     "metadata": {},
     "output_type": "execute_result"
    }
   ],
   "source": [
    "simplify(expand(norm_guy[0,0]**2 + norm_guy[1,1]**2 - (2 * norm_guy[0,1] * norm_guy[1,0])))"
   ]
  },
  {
   "cell_type": "code",
   "execution_count": 39,
   "metadata": {
    "scrolled": true
   },
   "outputs": [
    {
     "data": {
      "image/png": "[encoded data removed]",
      "text/latex": [
       "$$\\chi^{4} \\left(\\frac{y^{2} e^{- 4 T \\gamma} \\sin^{4}{\\left (k \\theta \\right )}}{a^{2}} + \\frac{2 y e^{- 2 T \\gamma} \\sin^{4}{\\left (k \\theta \\right )}}{a^{2}} - \\frac{2 y e^{- 4 T \\gamma} \\sin^{4}{\\left (k \\theta \\right )}}{a^{2}} + \\frac{\\sin^{4}{\\left (k \\theta \\right )}}{a^{2}} - \\frac{2 e^{- 2 T \\gamma} \\sin^{4}{\\left (k \\theta \\right )}}{a^{2}} + \\frac{e^{- 4 T \\gamma} \\sin^{4}{\\left (k \\theta \\right )}}{a^{2}}\\right) + \\chi^{3} \\left(\\frac{4 y z e^{- 3 T \\gamma} \\sin^{3}{\\left (k \\theta \\right )} \\cos{\\left (k \\theta \\right )}}{a^{2}} + \\frac{4 z e^{- T \\gamma} \\sin^{3}{\\left (k \\theta \\right )} \\cos{\\left (k \\theta \\right )}}{a^{2}} - \\frac{4 z e^{- 3 T \\gamma} \\sin^{3}{\\left (k \\theta \\right )} \\cos{\\left (k \\theta \\right )}}{a^{2}}\\right) + \\chi^{2} \\left(\\frac{2 y^{2} e^{- 4 T \\gamma} \\sin^{2}{\\left (k \\theta \\right )} \\cos^{2}{\\left (k \\theta \\right )}}{a} + \\frac{4 y e^{- 2 T \\gamma} \\sin^{2}{\\left (k \\theta \\right )} \\cos^{2}{\\left (k \\theta \\right )}}{a} - \\frac{2 y e^{- 2 T \\gamma} \\sin^{2}{\\left (k \\theta \\right )}}{a} - \\frac{4 y e^{- 4 T \\gamma} \\sin^{2}{\\left (k \\theta \\right )} \\cos^{2}{\\left (k \\theta \\right )}}{a} + \\frac{2 \\sin^{2}{\\left (k \\theta \\right )} \\cos^{2}{\\left (k \\theta \\right )}}{a} - \\frac{2 \\sin^{2}{\\left (k \\theta \\right )}}{a} - \\frac{4 e^{- 2 T \\gamma} \\sin^{2}{\\left (k \\theta \\right )} \\cos^{2}{\\left (k \\theta \\right )}}{a} + \\frac{2 e^{- 2 T \\gamma} \\sin^{2}{\\left (k \\theta \\right )}}{a} + \\frac{2 e^{- 4 T \\gamma} \\sin^{2}{\\left (k \\theta \\right )} \\cos^{2}{\\left (k \\theta \\right )}}{a} + \\frac{2 x y e^{- 2 T \\gamma} \\sin^{2}{\\left (k \\theta \\right )} \\cos^{2}{\\left (k \\theta \\right )}}{a^{2}} + \\frac{2 x \\sin^{2}{\\left (k \\theta \\right )} \\cos^{2}{\\left (k \\theta \\right )}}{a^{2}} - \\frac{2 x e^{- 2 T \\gamma} \\sin^{2}{\\left (k \\theta \\right )} \\cos^{2}{\\left (k \\theta \\right )}}{a^{2}} + \\frac{4 z^{2} e^{- 2 T \\gamma} \\sin^{2}{\\left (k \\theta \\right )} \\cos^{2}{\\left (k \\theta \\right )}}{a^{2}}\\right) + \\chi \\left(- \\frac{4 y z e^{- 3 T \\gamma} \\sin^{3}{\\left (k \\theta \\right )} \\cos{\\left (k \\theta \\right )}}{a} + \\frac{4 y z e^{- 3 T \\gamma} \\sin{\\left (k \\theta \\right )} \\cos^{3}{\\left (k \\theta \\right )}}{a} - \\frac{4 z e^{- T \\gamma} \\sin^{3}{\\left (k \\theta \\right )} \\cos{\\left (k \\theta \\right )}}{a} + \\frac{4 z e^{- T \\gamma} \\sin{\\left (k \\theta \\right )} \\cos^{3}{\\left (k \\theta \\right )}}{a} - \\frac{4 z e^{- T \\gamma} \\sin{\\left (k \\theta \\right )} \\cos{\\left (k \\theta \\right )}}{a} + \\frac{4 z e^{- 3 T \\gamma} \\sin^{3}{\\left (k \\theta \\right )} \\cos{\\left (k \\theta \\right )}}{a} - \\frac{4 z e^{- 3 T \\gamma} \\sin{\\left (k \\theta \\right )} \\cos^{3}{\\left (k \\theta \\right )}}{a} + \\frac{4 x z e^{- T \\gamma} \\sin{\\left (k \\theta \\right )} \\cos^{3}{\\left (k \\theta \\right )}}{a^{2}}\\right) + y^{2} e^{- 4 T \\gamma} \\cos^{4}{\\left (k \\theta \\right )} + 2 y e^{- 2 T \\gamma} \\cos^{4}{\\left (k \\theta \\right )} - 2 y e^{- 2 T \\gamma} \\cos^{2}{\\left (k \\theta \\right )} - 2 y e^{- 4 T \\gamma} \\cos^{4}{\\left (k \\theta \\right )} + \\cos^{4}{\\left (k \\theta \\right )} - 2 \\cos^{2}{\\left (k \\theta \\right )} + 2 - 2 e^{- 2 T \\gamma} \\cos^{4}{\\left (k \\theta \\right )} + 2 e^{- 2 T \\gamma} \\cos^{2}{\\left (k \\theta \\right )} + e^{- 4 T \\gamma} \\cos^{4}{\\left (k \\theta \\right )} + \\frac{- 4 y z e^{- 3 T \\gamma} \\sin{\\left (k \\theta \\right )} \\cos^{3}{\\left (k \\theta \\right )} - 4 z e^{- T \\gamma} \\sin{\\left (k \\theta \\right )} \\cos^{3}{\\left (k \\theta \\right )} + 4 z e^{- T \\gamma} \\sin{\\left (k \\theta \\right )} \\cos{\\left (k \\theta \\right )} + 4 z e^{- 3 T \\gamma} \\sin{\\left (k \\theta \\right )} \\cos^{3}{\\left (k \\theta \\right )} + \\frac{4 x z e^{- T \\gamma} \\sin^{3}{\\left (k \\theta \\right )} \\cos{\\left (k \\theta \\right )}}{a} - \\frac{4 x z e^{- T \\gamma} \\sin{\\left (k \\theta \\right )} \\cos^{3}{\\left (k \\theta \\right )}}{a}}{\\chi} + \\frac{2 x y e^{- 2 T \\gamma} \\sin^{2}{\\left (k \\theta \\right )} \\cos^{2}{\\left (k \\theta \\right )} + 2 x \\sin^{2}{\\left (k \\theta \\right )} \\cos^{2}{\\left (k \\theta \\right )} - 2 x \\sin^{2}{\\left (k \\theta \\right )} - 2 x e^{- 2 T \\gamma} \\sin^{2}{\\left (k \\theta \\right )} \\cos^{2}{\\left (k \\theta \\right )} + 4 z^{2} e^{- 2 T \\gamma} \\sin^{2}{\\left (k \\theta \\right )} \\cos^{2}{\\left (k \\theta \\right )} + \\frac{2 x^{2} \\sin^{2}{\\left (k \\theta \\right )} \\cos^{2}{\\left (k \\theta \\right )}}{a}}{\\chi^{2}} - \\frac{4 x z e^{- T \\gamma} \\sin^{3}{\\left (k \\theta \\right )} \\cos{\\left (k \\theta \\right )}}{\\chi^{3}} + \\frac{x^{2} \\sin^{4}{\\left (k \\theta \\right )}}{\\chi^{4}} - \\frac{4 x y e^{- 2 T \\gamma} \\sin^{2}{\\left (k \\theta \\right )} \\cos^{2}{\\left (k \\theta \\right )}}{a} - \\frac{4 x \\sin^{2}{\\left (k \\theta \\right )} \\cos^{2}{\\left (k \\theta \\right )}}{a} - \\frac{2 x \\cos^{2}{\\left (k \\theta \\right )}}{a} + \\frac{4 x e^{- 2 T \\gamma} \\sin^{2}{\\left (k \\theta \\right )} \\cos^{2}{\\left (k \\theta \\right )}}{a} + \\frac{2 z^{2} e^{- 2 T \\gamma} \\sin^{4}{\\left (k \\theta \\right )}}{a} - \\frac{4 z^{2} e^{- 2 T \\gamma} \\sin^{2}{\\left (k \\theta \\right )} \\cos^{2}{\\left (k \\theta \\right )}}{a} + \\frac{2 z^{2} e^{- 2 T \\gamma} \\cos^{4}{\\left (k \\theta \\right )}}{a} + \\frac{x^{2} \\cos^{4}{\\left (k \\theta \\right )}}{a^{2}}$$"
      ],
      "text/plain": [
       "                                                                              \n",
       "                                                                              \n",
       "   ⎛ 2  -4⋅T⋅γ    4             -2⋅T⋅γ    4             -4⋅T⋅γ    4           \n",
       " 4 ⎜y ⋅ℯ      ⋅sin (k⋅θ)   2⋅y⋅ℯ      ⋅sin (k⋅θ)   2⋅y⋅ℯ      ⋅sin (k⋅θ)   sin\n",
       "χ ⋅⎜──────────────────── + ───────────────────── - ───────────────────── + ───\n",
       "   ⎜          2                       2                       2               \n",
       "   ⎝         a                       a                       a                \n",
       "\n",
       "                                                                              \n",
       "                                                                              \n",
       "4           -2⋅T⋅γ    4         -4⋅T⋅γ    4     ⎞      ⎛       -3⋅T⋅γ    3    \n",
       " (k⋅θ)   2⋅ℯ      ⋅sin (k⋅θ)   ℯ      ⋅sin (k⋅θ)⎟    3 ⎜4⋅y⋅z⋅ℯ      ⋅sin (k⋅θ\n",
       "────── - ─────────────────── + ─────────────────⎟ + χ ⋅⎜──────────────────────\n",
       "  2                2                    2       ⎟      ⎜                2     \n",
       " a                a                    a        ⎠      ⎝               a      \n",
       "\n",
       "                                                                              \n",
       "                                                                              \n",
       "                  -T⋅γ    3                      -3⋅T⋅γ    3              ⎞   \n",
       ")⋅cos(k⋅θ)   4⋅z⋅ℯ    ⋅sin (k⋅θ)⋅cos(k⋅θ)   4⋅z⋅ℯ      ⋅sin (k⋅θ)⋅cos(k⋅θ)⎟   \n",
       "────────── + ──────────────────────────── - ──────────────────────────────⎟ + \n",
       "                           2                               2              ⎟   \n",
       "                          a                               a               ⎠   \n",
       "\n",
       "                                                                              \n",
       "                                                                              \n",
       "   ⎛   2  -4⋅T⋅γ    2         2             -2⋅T⋅γ    2         2             \n",
       " 2 ⎜2⋅y ⋅ℯ      ⋅sin (k⋅θ)⋅cos (k⋅θ)   4⋅y⋅ℯ      ⋅sin (k⋅θ)⋅cos (k⋅θ)   2⋅y⋅ℯ\n",
       "χ ⋅⎜──────────────────────────────── + ─────────────────────────────── - ─────\n",
       "   ⎜               a                                  a                       \n",
       "   ⎝                                                                          \n",
       "\n",
       "                                                                              \n",
       "                                                                              \n",
       "-2⋅T⋅γ    2             -4⋅T⋅γ    2         2             2         2         \n",
       "      ⋅sin (k⋅θ)   4⋅y⋅ℯ      ⋅sin (k⋅θ)⋅cos (k⋅θ)   2⋅sin (k⋅θ)⋅cos (k⋅θ)   2\n",
       "──────────────── - ─────────────────────────────── + ───────────────────── - ─\n",
       "     a                            a                            a              \n",
       "                                                                              \n",
       "\n",
       "                                                                              \n",
       "                                                                              \n",
       "    2           -2⋅T⋅γ    2         2           -2⋅T⋅γ    2           -4⋅T⋅γ  \n",
       "⋅sin (k⋅θ)   4⋅ℯ      ⋅sin (k⋅θ)⋅cos (k⋅θ)   2⋅ℯ      ⋅sin (k⋅θ)   2⋅ℯ      ⋅s\n",
       "────────── - ───────────────────────────── + ─────────────────── + ───────────\n",
       "    a                      a                          a                       \n",
       "                                                                              \n",
       "\n",
       "                                                                              \n",
       "                                                                              \n",
       "  2         2               -2⋅T⋅γ    2         2               2         2   \n",
       "in (k⋅θ)⋅cos (k⋅θ)   2⋅x⋅y⋅ℯ      ⋅sin (k⋅θ)⋅cos (k⋅θ)   2⋅x⋅sin (k⋅θ)⋅cos (k⋅\n",
       "────────────────── + ───────────────────────────────── + ─────────────────────\n",
       "   a                                  2                              2        \n",
       "                                     a                              a         \n",
       "\n",
       "                                                                              \n",
       "                                                                              \n",
       "          -2⋅T⋅γ    2         2           2  -2⋅T⋅γ    2         2     ⎞     ⎛\n",
       "θ)   2⋅x⋅ℯ      ⋅sin (k⋅θ)⋅cos (k⋅θ)   4⋅z ⋅ℯ      ⋅sin (k⋅θ)⋅cos (k⋅θ)⎟     ⎜\n",
       "── - ─────────────────────────────── + ────────────────────────────────⎟ + χ⋅⎜\n",
       "                     2                                 2               ⎟     ⎜\n",
       "                    a                                 a                ⎠     ⎝\n",
       "\n",
       "                                                                              \n",
       "                                                                              \n",
       "         -3⋅T⋅γ    3                        -3⋅T⋅γ             3             -\n",
       "  4⋅y⋅z⋅ℯ      ⋅sin (k⋅θ)⋅cos(k⋅θ)   4⋅y⋅z⋅ℯ      ⋅sin(k⋅θ)⋅cos (k⋅θ)   4⋅z⋅ℯ \n",
       "- ──────────────────────────────── + ──────────────────────────────── - ──────\n",
       "                 a                                  a                         \n",
       "                                                                              \n",
       "\n",
       "                                                                              \n",
       "                                                                              \n",
       "T⋅γ    3                      -T⋅γ             3             -T⋅γ             \n",
       "   ⋅sin (k⋅θ)⋅cos(k⋅θ)   4⋅z⋅ℯ    ⋅sin(k⋅θ)⋅cos (k⋅θ)   4⋅z⋅ℯ    ⋅sin(k⋅θ)⋅cos\n",
       "────────────────────── + ──────────────────────────── - ──────────────────────\n",
       "       a                              a                              a        \n",
       "                                                                              \n",
       "\n",
       "                                                                              \n",
       "                                                                              \n",
       "             -3⋅T⋅γ    3                      -3⋅T⋅γ             3            \n",
       "(k⋅θ)   4⋅z⋅ℯ      ⋅sin (k⋅θ)⋅cos(k⋅θ)   4⋅z⋅ℯ      ⋅sin(k⋅θ)⋅cos (k⋅θ)   4⋅x⋅\n",
       "───── + ────────────────────────────── - ────────────────────────────── + ────\n",
       "                      a                                a                      \n",
       "                                                                              \n",
       "\n",
       "                                                                              \n",
       "                                                                              \n",
       "   -T⋅γ             3     ⎞                                                   \n",
       "z⋅ℯ    ⋅sin(k⋅θ)⋅cos (k⋅θ)⎟    2  -4⋅T⋅γ    4             -2⋅T⋅γ    4         \n",
       "──────────────────────────⎟ + y ⋅ℯ      ⋅cos (k⋅θ) + 2⋅y⋅ℯ      ⋅cos (k⋅θ) - 2\n",
       "           2              ⎟                                                   \n",
       "          a               ⎠                                                   \n",
       "\n",
       "                                                                              \n",
       "                                                                              \n",
       "                                                                              \n",
       "    -2⋅T⋅γ    2             -4⋅T⋅γ    4           4             2             \n",
       "⋅y⋅ℯ      ⋅cos (k⋅θ) - 2⋅y⋅ℯ      ⋅cos (k⋅θ) + cos (k⋅θ) - 2⋅cos (k⋅θ) + 2 - 2\n",
       "                                                                              \n",
       "                                                                              \n",
       "\n",
       "                                                                              \n",
       "                                                                        -3⋅T⋅γ\n",
       "                                                               - 4⋅y⋅z⋅ℯ      \n",
       "  -2⋅T⋅γ    4           -2⋅T⋅γ    2         -4⋅T⋅γ    4                       \n",
       "⋅ℯ      ⋅cos (k⋅θ) + 2⋅ℯ      ⋅cos (k⋅θ) + ℯ      ⋅cos (k⋅θ) + ───────────────\n",
       "                                                                              \n",
       "                                                                              \n",
       "\n",
       "                                                                              \n",
       "             3             -T⋅γ             3             -T⋅γ                \n",
       "⋅sin(k⋅θ)⋅cos (k⋅θ) - 4⋅z⋅ℯ    ⋅sin(k⋅θ)⋅cos (k⋅θ) + 4⋅z⋅ℯ    ⋅sin(k⋅θ)⋅cos(k⋅\n",
       "                                                                              \n",
       "──────────────────────────────────────────────────────────────────────────────\n",
       "                                                                              \n",
       "                                                                              \n",
       "\n",
       "                                             -T⋅γ    3                        \n",
       "          -3⋅T⋅γ             3        4⋅x⋅z⋅ℯ    ⋅sin (k⋅θ)⋅cos(k⋅θ)   4⋅x⋅z⋅ℯ\n",
       "θ) + 4⋅z⋅ℯ      ⋅sin(k⋅θ)⋅cos (k⋅θ) + ────────────────────────────── - ───────\n",
       "                                                    a                         \n",
       "──────────────────────────────────────────────────────────────────────────────\n",
       "   χ                                                                          \n",
       "                                                                              \n",
       "\n",
       "-T⋅γ             3                                                            \n",
       "    ⋅sin(k⋅θ)⋅cos (k⋅θ)          -2⋅T⋅γ    2         2               2        \n",
       "───────────────────────   2⋅x⋅y⋅ℯ      ⋅sin (k⋅θ)⋅cos (k⋅θ) + 2⋅x⋅sin (k⋅θ)⋅co\n",
       "       a                                                                      \n",
       "─────────────────────── + ────────────────────────────────────────────────────\n",
       "                                                                              \n",
       "                                                                              \n",
       "\n",
       "                                                                              \n",
       " 2               2             -2⋅T⋅γ    2         2           2  -2⋅T⋅γ    2 \n",
       "s (k⋅θ) - 2⋅x⋅sin (k⋅θ) - 2⋅x⋅ℯ      ⋅sin (k⋅θ)⋅cos (k⋅θ) + 4⋅z ⋅ℯ      ⋅sin (\n",
       "                                                                              \n",
       "──────────────────────────────────────────────────────────────────────────────\n",
       "                                  2                                           \n",
       "                                 χ                                            \n",
       "\n",
       "                    2    2         2                                          \n",
       "        2        2⋅x ⋅sin (k⋅θ)⋅cos (k⋅θ)                                     \n",
       "k⋅θ)⋅cos (k⋅θ) + ────────────────────────          -T⋅γ    3                  \n",
       "                            a               4⋅x⋅z⋅ℯ    ⋅sin (k⋅θ)⋅cos(k⋅θ)   x\n",
       "───────────────────────────────────────── - ────────────────────────────── + ─\n",
       "                                                           3                  \n",
       "                                                          χ                   \n",
       "\n",
       "                                                                              \n",
       "                                                                              \n",
       "2    4               -2⋅T⋅γ    2         2               2         2          \n",
       " ⋅sin (k⋅θ)   4⋅x⋅y⋅ℯ      ⋅sin (k⋅θ)⋅cos (k⋅θ)   4⋅x⋅sin (k⋅θ)⋅cos (k⋅θ)   2⋅\n",
       "─────────── - ───────────────────────────────── - ─────────────────────── - ──\n",
       "     4                        a                              a                \n",
       "    χ                                                                         \n",
       "\n",
       "                                                                              \n",
       "                                                                              \n",
       "     2             -2⋅T⋅γ    2         2           2  -2⋅T⋅γ    4           2 \n",
       "x⋅cos (k⋅θ)   4⋅x⋅ℯ      ⋅sin (k⋅θ)⋅cos (k⋅θ)   2⋅z ⋅ℯ      ⋅sin (k⋅θ)   4⋅z ⋅\n",
       "─────────── + ─────────────────────────────── + ────────────────────── - ─────\n",
       "    a                        a                            a                   \n",
       "                                                                              \n",
       "\n",
       "                                                                   \n",
       "                                                                   \n",
       " -2⋅T⋅γ    2         2           2  -2⋅T⋅γ    4         2    4     \n",
       "ℯ      ⋅sin (k⋅θ)⋅cos (k⋅θ)   2⋅z ⋅ℯ      ⋅cos (k⋅θ)   x ⋅cos (k⋅θ)\n",
       "─────────────────────────── + ────────────────────── + ────────────\n",
       "          a                             a                    2     \n",
       "                                                            a      "
      ]
     },
     "execution_count": 39,
     "metadata": {},
     "output_type": "execute_result"
    }
   ],
   "source": [
    "collect(expand(norm_guy[0,0]**2 + norm_guy[1,1]**2 + (2 * norm_guy[0,1] * norm_guy[1,0])), chi)"
   ]
  },
  {
   "cell_type": "code",
   "execution_count": 35,
   "metadata": {},
   "outputs": [
    {
     "data": {
      "image/png": "[encoded data removed]",
      "text/latex": [
       "$$\\frac{\\left(\\frac{a^{2} \\chi^{4} \\left(- y + 1\\right) \\left(- \\cos{\\left (4 k \\theta \\right )} + 1\\right) e^{2 T \\gamma}}{4} + a^{2} \\chi^{4} \\left(\\sin^{4}{\\left (k \\theta \\right )} + 1\\right) e^{4 T \\gamma} + a^{2} \\chi^{4} \\left(y^{2} - 2 y + 1\\right) \\cos^{4}{\\left (k \\theta \\right )} + 4 a^{2} \\chi^{3} z \\left(- y + 1\\right) e^{T \\gamma} \\sin{\\left (k \\theta \\right )} \\cos^{3}{\\left (k \\theta \\right )} + 4 a^{2} \\chi^{3} z e^{3 T \\gamma} \\sin^{3}{\\left (k \\theta \\right )} \\cos{\\left (k \\theta \\right )} - 2 a^{2} \\chi^{2} x e^{4 T \\gamma} \\sin^{4}{\\left (k \\theta \\right )} + \\frac{a^{2} \\chi^{2} \\left(- \\cos{\\left (4 k \\theta \\right )} + 1\\right) \\left(x y - x + 2 z^{2}\\right) e^{2 T \\gamma}}{4} - 4 a^{2} \\chi x z e^{3 T \\gamma} \\sin^{3}{\\left (k \\theta \\right )} \\cos{\\left (k \\theta \\right )} + a^{2} x^{2} e^{4 T \\gamma} \\sin^{4}{\\left (k \\theta \\right )} + \\frac{a \\chi^{6} \\left(- \\cos{\\left (4 k \\theta \\right )} + 1\\right) \\left(- y^{2} + 2 y - 1\\right)}{4} + a \\chi^{5} z \\left(- y + 1\\right) e^{T \\gamma} \\sin{\\left (4 k \\theta \\right )} - 8 a \\chi^{5} z e^{3 T \\gamma} \\sin{\\left (k \\theta \\right )} \\cos^{3}{\\left (k \\theta \\right )} + 2 a \\chi^{4} \\left(\\chi^{2} \\sin^{4}{\\left (k \\theta \\right )} - 2 \\chi^{2} \\sin^{2}{\\left (k \\theta \\right )} - 2 x \\sin^{4}{\\left (k \\theta \\right )} + 3 x \\sin^{2}{\\left (k \\theta \\right )} - x\\right) e^{4 T \\gamma} + \\frac{a \\chi^{4} \\left(- \\chi^{2} y \\left(- \\cos{\\left (4 k \\theta \\right )} + 1\\right) - 4 \\chi^{2} y \\sin^{2}{\\left (k \\theta \\right )} + \\chi^{2} \\left(- \\cos{\\left (4 k \\theta \\right )} + 1\\right) + 4 \\chi^{2} \\sin^{2}{\\left (k \\theta \\right )} + x y \\left(- \\cos{\\left (4 k \\theta \\right )} + 1\\right) - x \\left(- \\cos{\\left (4 k \\theta \\right )} + 1\\right) + z^{2} \\left(- \\cos{\\left (4 k \\theta \\right )} + 1\\right) - 4 z^{2} \\sin^{4}{\\left (k \\theta \\right )} - 4 z^{2} \\cos^{4}{\\left (k \\theta \\right )}\\right) e^{2 T \\gamma}}{2} + a \\chi^{3} x z e^{3 T \\gamma} \\sin{\\left (4 k \\theta \\right )} - \\frac{a \\chi^{2} x^{2} \\left(- \\cos{\\left (4 k \\theta \\right )} + 1\\right) e^{4 T \\gamma}}{4} + \\chi^{8} \\left(y^{2} - 2 y + 1\\right) \\sin^{4}{\\left (k \\theta \\right )} + 4 \\chi^{7} z \\left(y - 1\\right) e^{T \\gamma} \\sin^{3}{\\left (k \\theta \\right )} \\cos{\\left (k \\theta \\right )} + 2 \\chi^{6} \\left(\\chi^{2} y \\sin^{2}{\\left (k \\theta \\right )} - \\chi^{2} \\sin^{2}{\\left (k \\theta \\right )} + x y \\cos^{2}{\\left (k \\theta \\right )} - x \\cos^{2}{\\left (k \\theta \\right )} + 2 z^{2} \\cos^{2}{\\left (k \\theta \\right )}\\right) e^{2 T \\gamma} \\sin^{2}{\\left (k \\theta \\right )} + 4 \\chi^{5} z \\left(\\chi^{2} \\sin^{2}{\\left (k \\theta \\right )} + x \\cos^{2}{\\left (k \\theta \\right )}\\right) e^{3 T \\gamma} \\sin{\\left (k \\theta \\right )} \\cos{\\left (k \\theta \\right )} + \\chi^{4} \\left(- \\chi^{2} \\sin^{2}{\\left (k \\theta \\right )} + x \\sin^{2}{\\left (k \\theta \\right )} - x\\right)^{2} e^{4 T \\gamma}\\right) e^{- 4 T \\gamma}}{a^{2} \\chi^{4}}$$"
      ],
      "text/plain": [
       "⎛ 2  4                             2⋅T⋅γ                                      \n",
       "⎜a ⋅χ ⋅(-y + 1)⋅(-cos(4⋅k⋅θ) + 1)⋅ℯ         2  4 ⎛   4         ⎞  4⋅T⋅γ    2  \n",
       "⎜─────────────────────────────────────── + a ⋅χ ⋅⎝sin (k⋅θ) + 1⎠⋅ℯ      + a ⋅χ\n",
       "⎝                   4                                                         \n",
       "──────────────────────────────────────────────────────────────────────────────\n",
       "                                                                              \n",
       "                                                                              \n",
       "\n",
       "                                                                              \n",
       "4 ⎛ 2          ⎞    4           2  3             T⋅γ             3           2\n",
       " ⋅⎝y  - 2⋅y + 1⎠⋅cos (k⋅θ) + 4⋅a ⋅χ ⋅z⋅(-y + 1)⋅ℯ   ⋅sin(k⋅θ)⋅cos (k⋅θ) + 4⋅a \n",
       "                                                                              \n",
       "──────────────────────────────────────────────────────────────────────────────\n",
       "                                                                              \n",
       "                                                                              \n",
       "\n",
       "                                                                2  2          \n",
       "  3    3⋅T⋅γ    3                    2  2    4⋅T⋅γ    4        a ⋅χ ⋅(-cos(4⋅k\n",
       "⋅χ ⋅z⋅ℯ     ⋅sin (k⋅θ)⋅cos(k⋅θ) - 2⋅a ⋅χ ⋅x⋅ℯ     ⋅sin (k⋅θ) + ───────────────\n",
       "                                                                              \n",
       "──────────────────────────────────────────────────────────────────────────────\n",
       "                                                                              \n",
       "                                                                              \n",
       "\n",
       "         ⎛             2⎞  2⋅T⋅γ                                              \n",
       "⋅θ) + 1)⋅⎝x⋅y - x + 2⋅z ⎠⋅ℯ           2        3⋅T⋅γ    3                  2  \n",
       "──────────────────────────────── - 4⋅a ⋅χ⋅x⋅z⋅ℯ     ⋅sin (k⋅θ)⋅cos(k⋅θ) + a ⋅x\n",
       "        4                                                                     \n",
       "──────────────────────────────────────────────────────────────────────────────\n",
       "                                                                              \n",
       "                                                                              \n",
       "\n",
       "                        6                   ⎛   2          ⎞                  \n",
       "2  4⋅T⋅γ    4        a⋅χ ⋅(-cos(4⋅k⋅θ) + 1)⋅⎝- y  + 2⋅y - 1⎠      5           \n",
       " ⋅ℯ     ⋅sin (k⋅θ) + ─────────────────────────────────────── + a⋅χ ⋅z⋅(-y + 1)\n",
       "                                        4                                     \n",
       "──────────────────────────────────────────────────────────────────────────────\n",
       "                                                                              \n",
       "                                                                              \n",
       "\n",
       "                                                                              \n",
       "  T⋅γ                   5    3⋅T⋅γ             3             4 ⎛ 2    4       \n",
       "⋅ℯ   ⋅sin(4⋅k⋅θ) - 8⋅a⋅χ ⋅z⋅ℯ     ⋅sin(k⋅θ)⋅cos (k⋅θ) + 2⋅a⋅χ ⋅⎝χ ⋅sin (k⋅θ) -\n",
       "                                                                              \n",
       "──────────────────────────────────────────────────────────────────────────────\n",
       "                                                                              \n",
       "                                                                              \n",
       "\n",
       "                                                                 4 ⎛   2      \n",
       "    2    2               4               2         ⎞  4⋅T⋅γ   a⋅χ ⋅⎝- χ ⋅y⋅(-c\n",
       " 2⋅χ ⋅sin (k⋅θ) - 2⋅x⋅sin (k⋅θ) + 3⋅x⋅sin (k⋅θ) - x⎠⋅ℯ      + ────────────────\n",
       "                                                                              \n",
       "──────────────────────────────────────────────────────────────────────────────\n",
       "                                                                          2  4\n",
       "                                                                         a ⋅χ \n",
       "\n",
       "                    2      2         2                        2    2          \n",
       "os(4⋅k⋅θ) + 1) - 4⋅χ ⋅y⋅sin (k⋅θ) + χ ⋅(-cos(4⋅k⋅θ) + 1) + 4⋅χ ⋅sin (k⋅θ) + x⋅\n",
       "──────────────────────────────────────────────────────────────────────────────\n",
       "                                                                              \n",
       "──────────────────────────────────────────────────────────────────────────────\n",
       "                                                                              \n",
       "                                                                              \n",
       "\n",
       "                                             2                        2    4  \n",
       "y⋅(-cos(4⋅k⋅θ) + 1) - x⋅(-cos(4⋅k⋅θ) + 1) + z ⋅(-cos(4⋅k⋅θ) + 1) - 4⋅z ⋅sin (k\n",
       "──────────────────────────────────────────────────────────────────────────────\n",
       "     2                                                                        \n",
       "──────────────────────────────────────────────────────────────────────────────\n",
       "                                                                              \n",
       "                                                                              \n",
       "\n",
       "         2    4     ⎞  2⋅T⋅γ                                   2  2           \n",
       "⋅θ) - 4⋅z ⋅cos (k⋅θ)⎠⋅ℯ           3      3⋅T⋅γ              a⋅χ ⋅x ⋅(-cos(4⋅k⋅\n",
       "──────────────────────────── + a⋅χ ⋅x⋅z⋅ℯ     ⋅sin(4⋅k⋅θ) - ──────────────────\n",
       "                                                                           4  \n",
       "──────────────────────────────────────────────────────────────────────────────\n",
       "                                                                              \n",
       "                                                                              \n",
       "\n",
       "         4⋅T⋅γ                                                                \n",
       "θ) + 1)⋅ℯ         8 ⎛ 2          ⎞    4           7            T⋅γ    3       \n",
       "────────────── + χ ⋅⎝y  - 2⋅y + 1⎠⋅sin (k⋅θ) + 4⋅χ ⋅z⋅(y - 1)⋅ℯ   ⋅sin (k⋅θ)⋅c\n",
       "                                                                              \n",
       "──────────────────────────────────────────────────────────────────────────────\n",
       "                                                                              \n",
       "                                                                              \n",
       "\n",
       "                                                                              \n",
       "             6 ⎛ 2      2         2    2               2             2        \n",
       "os(k⋅θ) + 2⋅χ ⋅⎝χ ⋅y⋅sin (k⋅θ) - χ ⋅sin (k⋅θ) + x⋅y⋅cos (k⋅θ) - x⋅cos (k⋅θ) + \n",
       "                                                                              \n",
       "──────────────────────────────────────────────────────────────────────────────\n",
       "                                                                              \n",
       "                                                                              \n",
       "\n",
       "                                                                              \n",
       "   2    2     ⎞  2⋅T⋅γ    2           5   ⎛ 2    2             2     ⎞  3⋅T⋅γ \n",
       "2⋅z ⋅cos (k⋅θ)⎠⋅ℯ     ⋅sin (k⋅θ) + 4⋅χ ⋅z⋅⎝χ ⋅sin (k⋅θ) + x⋅cos (k⋅θ)⎠⋅ℯ     ⋅\n",
       "                                                                              \n",
       "──────────────────────────────────────────────────────────────────────────────\n",
       "                                                                              \n",
       "                                                                              \n",
       "\n",
       "                                                         2       ⎞        \n",
       "                     4 ⎛   2    2             2         ⎞   4⋅T⋅γ⎟  -4⋅T⋅γ\n",
       "sin(k⋅θ)⋅cos(k⋅θ) + χ ⋅⎝- χ ⋅sin (k⋅θ) + x⋅sin (k⋅θ) - x⎠ ⋅ℯ     ⎟⋅ℯ      \n",
       "                                                                 ⎠        \n",
       "──────────────────────────────────────────────────────────────────────────\n",
       "                                                                          \n",
       "                                                                          "
      ]
     },
     "execution_count": 35,
     "metadata": {},
     "output_type": "execute_result"
    }
   ],
   "source": [
    "simplify(expand(norm_guy[0,0]**2 + norm_guy[1,1]**2 - (2 * norm_guy[0,1] * norm_guy[1,0])))"
   ]
  },
  {
   "cell_type": "code",
   "execution_count": 24,
   "metadata": {},
   "outputs": [
    {
     "data": {
      "image/png": "[encoded data removed]",
      "text/latex": [
       "$$\\left(x + y\\right)^{2}$$"
      ],
      "text/plain": [
       "       2\n",
       "(x + y) "
      ]
     },
     "execution_count": 24,
     "metadata": {},
     "output_type": "execute_result"
    }
   ],
   "source": [
    "(x+y) * (x+y)"
   ]
  },
  {
   "cell_type": "code",
   "execution_count": 19,
   "metadata": {},
   "outputs": [
    {
     "data": {
      "image/png": "[encoded data removed]",
      "text/latex": [
       "$$\\frac{\\left(\\chi \\left(\\left(y - 1\\right) e^{- 2 T \\gamma} + 1\\right) \\sin{\\left (k \\theta \\right )} + z e^{- T \\gamma} \\cos{\\left (k \\theta \\right )}\\right) \\cos{\\left (k \\theta \\right )} - \\frac{\\left(\\chi z e^{- T \\gamma} \\sin{\\left (k \\theta \\right )} + x \\cos{\\left (k \\theta \\right )}\\right) \\sin{\\left (k \\theta \\right )}}{\\chi}}{a}$$"
      ],
      "text/plain": [
       "                                                                 ⎛     -T⋅γ   \n",
       "⎛  ⎛         -2⋅T⋅γ    ⎞               -T⋅γ         ⎞            ⎝χ⋅z⋅ℯ    ⋅si\n",
       "⎝χ⋅⎝(y - 1)⋅ℯ       + 1⎠⋅sin(k⋅θ) + z⋅ℯ    ⋅cos(k⋅θ)⎠⋅cos(k⋅θ) - ─────────────\n",
       "                                                                              \n",
       "──────────────────────────────────────────────────────────────────────────────\n",
       "                                                     a                        \n",
       "\n",
       "                   ⎞         \n",
       "n(k⋅θ) + x⋅cos(k⋅θ)⎠⋅sin(k⋅θ)\n",
       "─────────────────────────────\n",
       "       χ                     \n",
       "─────────────────────────────\n",
       "                             "
      ]
     },
     "execution_count": 19,
     "metadata": {},
     "output_type": "execute_result"
    }
   ],
   "source": [
    "norm_guy[0,1]"
   ]
  },
  {
   "cell_type": "code",
   "execution_count": 75,
   "metadata": {},
   "outputs": [
    {
     "data": {
      "image/png": "[encoded data removed]",
      "text/latex": [
       "$$\\left \\{ \\frac{y e^{- 2 T \\gamma} \\cos^{2}{\\left (k \\theta \\right )}}{2} + \\frac{\\cos^{2}{\\left (k \\theta \\right )}}{2} - 1 - \\frac{e^{- 2 T \\gamma} \\cos^{2}{\\left (k \\theta \\right )}}{2} - \\frac{z e^{- T \\gamma} \\sin{\\left (2 k \\theta \\right )}}{2 \\chi} - \\frac{x \\cos{\\left (2 k \\theta \\right )}}{4 \\chi^{2}} + \\frac{x}{4 \\chi^{2}} + \\frac{\\chi^{2} y e^{- 2 T \\gamma} \\sin^{2}{\\left (k \\theta \\right )}}{2 a} + \\frac{\\chi^{2} \\sin^{2}{\\left (k \\theta \\right )}}{2 a} - \\frac{\\chi^{2} e^{- 2 T \\gamma} \\sin^{2}{\\left (k \\theta \\right )}}{2 a} + \\frac{\\chi z e^{- T \\gamma} \\sin{\\left (2 k \\theta \\right )}}{2 a} + \\frac{x \\cos{\\left (2 k \\theta \\right )}}{4 a} + \\frac{x}{4 a} - \\frac{\\sqrt{8 a \\chi^{2} \\left(a \\chi^{2} y \\cos{\\left (2 k \\theta \\right )} + a \\chi^{2} y + a \\chi^{2} e^{2 T \\gamma} \\cos{\\left (2 k \\theta \\right )} - a \\chi^{2} e^{2 T \\gamma} - a \\chi^{2} \\cos{\\left (2 k \\theta \\right )} - a \\chi^{2} - 2 a \\chi z e^{T \\gamma} \\sin{\\left (2 k \\theta \\right )} - a x e^{2 T \\gamma} \\cos{\\left (2 k \\theta \\right )} + a x e^{2 T \\gamma} - \\chi^{4} y \\cos{\\left (2 k \\theta \\right )} + \\chi^{4} y - \\chi^{4} e^{2 T \\gamma} \\cos{\\left (2 k \\theta \\right )} + \\chi^{4} e^{2 T \\gamma} + \\chi^{4} \\cos{\\left (2 k \\theta \\right )} - \\chi^{4} + 2 \\chi^{3} z e^{T \\gamma} \\sin{\\left (2 k \\theta \\right )} - 2 \\chi^{2} x y + \\chi^{2} x e^{2 T \\gamma} \\cos{\\left (2 k \\theta \\right )} - \\chi^{2} x e^{2 T \\gamma} + 2 \\chi^{2} x + 2 \\chi^{2} z^{2}\\right) e^{2 T \\gamma} + \\left(2 a \\chi^{2} y \\cos^{2}{\\left (k \\theta \\right )} + 2 a \\chi^{2} e^{2 T \\gamma} \\cos^{2}{\\left (k \\theta \\right )} - 4 a \\chi^{2} e^{2 T \\gamma} - 2 a \\chi^{2} \\cos^{2}{\\left (k \\theta \\right )} - 2 a \\chi z e^{T \\gamma} \\sin{\\left (2 k \\theta \\right )} - a x e^{2 T \\gamma} \\cos{\\left (2 k \\theta \\right )} + a x e^{2 T \\gamma} + 2 \\chi^{4} y \\sin^{2}{\\left (k \\theta \\right )} + 2 \\chi^{4} e^{2 T \\gamma} \\sin^{2}{\\left (k \\theta \\right )} - 2 \\chi^{4} \\sin^{2}{\\left (k \\theta \\right )} + 2 \\chi^{3} z e^{T \\gamma} \\sin{\\left (2 k \\theta \\right )} + \\chi^{2} x e^{2 T \\gamma} \\cos{\\left (2 k \\theta \\right )} + \\chi^{2} x e^{2 T \\gamma}\\right)^{2}} e^{- 2 T \\gamma}}{4 a \\chi^{2}} : 1, \\quad \\frac{y e^{- 2 T \\gamma} \\cos^{2}{\\left (k \\theta \\right )}}{2} + \\frac{\\cos^{2}{\\left (k \\theta \\right )}}{2} - 1 - \\frac{e^{- 2 T \\gamma} \\cos^{2}{\\left (k \\theta \\right )}}{2} - \\frac{z e^{- T \\gamma} \\sin{\\left (2 k \\theta \\right )}}{2 \\chi} - \\frac{x \\cos{\\left (2 k \\theta \\right )}}{4 \\chi^{2}} + \\frac{x}{4 \\chi^{2}} + \\frac{\\chi^{2} y e^{- 2 T \\gamma} \\sin^{2}{\\left (k \\theta \\right )}}{2 a} + \\frac{\\chi^{2} \\sin^{2}{\\left (k \\theta \\right )}}{2 a} - \\frac{\\chi^{2} e^{- 2 T \\gamma} \\sin^{2}{\\left (k \\theta \\right )}}{2 a} + \\frac{\\chi z e^{- T \\gamma} \\sin{\\left (2 k \\theta \\right )}}{2 a} + \\frac{x \\cos{\\left (2 k \\theta \\right )}}{4 a} + \\frac{x}{4 a} + \\frac{\\sqrt{8 a \\chi^{2} \\left(a \\chi^{2} y \\cos{\\left (2 k \\theta \\right )} + a \\chi^{2} y + a \\chi^{2} e^{2 T \\gamma} \\cos{\\left (2 k \\theta \\right )} - a \\chi^{2} e^{2 T \\gamma} - a \\chi^{2} \\cos{\\left (2 k \\theta \\right )} - a \\chi^{2} - 2 a \\chi z e^{T \\gamma} \\sin{\\left (2 k \\theta \\right )} - a x e^{2 T \\gamma} \\cos{\\left (2 k \\theta \\right )} + a x e^{2 T \\gamma} - \\chi^{4} y \\cos{\\left (2 k \\theta \\right )} + \\chi^{4} y - \\chi^{4} e^{2 T \\gamma} \\cos{\\left (2 k \\theta \\right )} + \\chi^{4} e^{2 T \\gamma} + \\chi^{4} \\cos{\\left (2 k \\theta \\right )} - \\chi^{4} + 2 \\chi^{3} z e^{T \\gamma} \\sin{\\left (2 k \\theta \\right )} - 2 \\chi^{2} x y + \\chi^{2} x e^{2 T \\gamma} \\cos{\\left (2 k \\theta \\right )} - \\chi^{2} x e^{2 T \\gamma} + 2 \\chi^{2} x + 2 \\chi^{2} z^{2}\\right) e^{2 T \\gamma} + \\left(2 a \\chi^{2} y \\cos^{2}{\\left (k \\theta \\right )} + 2 a \\chi^{2} e^{2 T \\gamma} \\cos^{2}{\\left (k \\theta \\right )} - 4 a \\chi^{2} e^{2 T \\gamma} - 2 a \\chi^{2} \\cos^{2}{\\left (k \\theta \\right )} - 2 a \\chi z e^{T \\gamma} \\sin{\\left (2 k \\theta \\right )} - a x e^{2 T \\gamma} \\cos{\\left (2 k \\theta \\right )} + a x e^{2 T \\gamma} + 2 \\chi^{4} y \\sin^{2}{\\left (k \\theta \\right )} + 2 \\chi^{4} e^{2 T \\gamma} \\sin^{2}{\\left (k \\theta \\right )} - 2 \\chi^{4} \\sin^{2}{\\left (k \\theta \\right )} + 2 \\chi^{3} z e^{T \\gamma} \\sin{\\left (2 k \\theta \\right )} + \\chi^{2} x e^{2 T \\gamma} \\cos{\\left (2 k \\theta \\right )} + \\chi^{2} x e^{2 T \\gamma}\\right)^{2}} e^{- 2 T \\gamma}}{4 a \\chi^{2}} : 1\\right \\}$$"
      ],
      "text/plain": [
       "⎧                                                                             \n",
       "⎪                                                                             \n",
       "⎪   -2⋅T⋅γ    2           2             -2⋅T⋅γ    2           -T⋅γ            \n",
       "⎨y⋅ℯ      ⋅cos (k⋅θ)   cos (k⋅θ)       ℯ      ⋅cos (k⋅θ)   z⋅ℯ    ⋅sin(2⋅k⋅θ) \n",
       "⎪─────────────────── + ───────── - 1 - ───────────────── - ────────────────── \n",
       "⎪         2                2                   2                  2⋅χ         \n",
       "⎩                                                                             \n",
       "\n",
       "                                                                              \n",
       "                                                                              \n",
       "                         2    -2⋅T⋅γ    2         2    2         2  -2⋅T⋅γ    \n",
       "  x⋅cos(2⋅k⋅θ)    x     χ ⋅y⋅ℯ      ⋅sin (k⋅θ)   χ ⋅sin (k⋅θ)   χ ⋅ℯ      ⋅sin\n",
       "- ──────────── + ──── + ────────────────────── + ──────────── - ──────────────\n",
       "         2          2            2⋅a                 2⋅a                2⋅a   \n",
       "      4⋅χ        4⋅χ                                                          \n",
       "\n",
       "                                                         _____________________\n",
       "                                                        ╱                     \n",
       "2             -T⋅γ                                     ╱       2 ⎛   2        \n",
       " (k⋅θ)   χ⋅z⋅ℯ    ⋅sin(2⋅k⋅θ)   x⋅cos(2⋅k⋅θ)    x    ╲╱   8⋅a⋅χ ⋅⎝a⋅χ ⋅y⋅cos(2\n",
       "────── + ──────────────────── + ──────────── + ─── - ─────────────────────────\n",
       "                 2⋅a                4⋅a        4⋅a                            \n",
       "                                                                              \n",
       "\n",
       "______________________________________________________________________________\n",
       "                                                                              \n",
       "           2        2  2⋅T⋅γ                 2  2⋅T⋅γ      2                 2\n",
       "⋅k⋅θ) + a⋅χ ⋅y + a⋅χ ⋅ℯ     ⋅cos(2⋅k⋅θ) - a⋅χ ⋅ℯ      - a⋅χ ⋅cos(2⋅k⋅θ) - a⋅χ \n",
       "──────────────────────────────────────────────────────────────────────────────\n",
       "                                                                              \n",
       "                                                                              \n",
       "\n",
       "______________________________________________________________________________\n",
       "                                                                              \n",
       "            T⋅γ                   2⋅T⋅γ                   2⋅T⋅γ    4          \n",
       " - 2⋅a⋅χ⋅z⋅ℯ   ⋅sin(2⋅k⋅θ) - a⋅x⋅ℯ     ⋅cos(2⋅k⋅θ) + a⋅x⋅ℯ      - χ ⋅y⋅cos(2⋅k\n",
       "──────────────────────────────────────────────────────────────────────────────\n",
       "                                                                              \n",
       "                                                                              \n",
       "\n",
       "______________________________________________________________________________\n",
       "                                                                              \n",
       "       4      4  2⋅T⋅γ               4  2⋅T⋅γ    4               4      3    T\n",
       "⋅θ) + χ ⋅y - χ ⋅ℯ     ⋅cos(2⋅k⋅θ) + χ ⋅ℯ      + χ ⋅cos(2⋅k⋅θ) - χ  + 2⋅χ ⋅z⋅ℯ \n",
       "──────────────────────────────────────────────────────────────────────────────\n",
       "                                                                              \n",
       "                                                                              \n",
       "\n",
       "______________________________________________________________________________\n",
       "                                                                              \n",
       "⋅γ                 2        2    2⋅T⋅γ               2    2⋅T⋅γ      2        \n",
       "  ⋅sin(2⋅k⋅θ) - 2⋅χ ⋅x⋅y + χ ⋅x⋅ℯ     ⋅cos(2⋅k⋅θ) - χ ⋅x⋅ℯ      + 2⋅χ ⋅x + 2⋅χ\n",
       "──────────────────────────────────────────────────────────────────────────────\n",
       "                                                          2                   \n",
       "                                                     4⋅a⋅χ                    \n",
       "\n",
       "______________________________________________________________________________\n",
       "                                                                              \n",
       "2  2⎞  2⋅T⋅γ   ⎛     2      2             2  2⋅T⋅γ    2             2  2⋅T⋅γ  \n",
       " ⋅z ⎠⋅ℯ      + ⎝2⋅a⋅χ ⋅y⋅cos (k⋅θ) + 2⋅a⋅χ ⋅ℯ     ⋅cos (k⋅θ) - 4⋅a⋅χ ⋅ℯ      -\n",
       "──────────────────────────────────────────────────────────────────────────────\n",
       "                                                                              \n",
       "                                                                              \n",
       "\n",
       "______________________________________________________________________________\n",
       "                                                                              \n",
       "      2    2                 T⋅γ                   2⋅T⋅γ                   2⋅T\n",
       " 2⋅a⋅χ ⋅cos (k⋅θ) - 2⋅a⋅χ⋅z⋅ℯ   ⋅sin(2⋅k⋅θ) - a⋅x⋅ℯ     ⋅cos(2⋅k⋅θ) + a⋅x⋅ℯ   \n",
       "──────────────────────────────────────────────────────────────────────────────\n",
       "                                                                              \n",
       "                                                                              \n",
       "\n",
       "______________________________________________________________________________\n",
       "                                                                              \n",
       "⋅γ      4      2           4  2⋅T⋅γ    2           4    2           3    T⋅γ  \n",
       "   + 2⋅χ ⋅y⋅sin (k⋅θ) + 2⋅χ ⋅ℯ     ⋅sin (k⋅θ) - 2⋅χ ⋅sin (k⋅θ) + 2⋅χ ⋅z⋅ℯ   ⋅s\n",
       "──────────────────────────────────────────────────────────────────────────────\n",
       "                                                                              \n",
       "                                                                              \n",
       "\n",
       "___________________________________________________                           \n",
       "                                                 2                            \n",
       "             2    2⋅T⋅γ               2    2⋅T⋅γ⎞    -2⋅T⋅γ        -2⋅T⋅γ    2\n",
       "in(2⋅k⋅θ) + χ ⋅x⋅ℯ     ⋅cos(2⋅k⋅θ) + χ ⋅x⋅ℯ     ⎠  ⋅ℯ           y⋅ℯ      ⋅cos \n",
       "───────────────────────────────────────────────────────────: 1, ──────────────\n",
       "                                                                         2    \n",
       "                                                                              \n",
       "\n",
       "                                                                              \n",
       "                                                                              \n",
       "           2             -2⋅T⋅γ    2           -T⋅γ                           \n",
       "(k⋅θ)   cos (k⋅θ)       ℯ      ⋅cos (k⋅θ)   z⋅ℯ    ⋅sin(2⋅k⋅θ)   x⋅cos(2⋅k⋅θ) \n",
       "───── + ───────── - 1 - ───────────────── - ────────────────── - ──────────── \n",
       "            2                   2                  2⋅χ                  2     \n",
       "                                                                     4⋅χ      \n",
       "\n",
       "                                                                              \n",
       "                                                                              \n",
       "          2    -2⋅T⋅γ    2         2    2         2  -2⋅T⋅γ    2             -\n",
       "   x     χ ⋅y⋅ℯ      ⋅sin (k⋅θ)   χ ⋅sin (k⋅θ)   χ ⋅ℯ      ⋅sin (k⋅θ)   χ⋅z⋅ℯ \n",
       "+ ──── + ────────────────────── + ──────────── - ──────────────────── + ──────\n",
       "     2            2⋅a                 2⋅a                2⋅a                  \n",
       "  4⋅χ                                                                         \n",
       "\n",
       "                                          ____________________________________\n",
       "                                         ╱                                    \n",
       "T⋅γ                                     ╱       2 ⎛   2                   2   \n",
       "   ⋅sin(2⋅k⋅θ)   x⋅cos(2⋅k⋅θ)    x    ╲╱   8⋅a⋅χ ⋅⎝a⋅χ ⋅y⋅cos(2⋅k⋅θ) + a⋅χ ⋅y \n",
       "────────────── + ──────────── + ─── + ────────────────────────────────────────\n",
       "  2⋅a                4⋅a        4⋅a                                           \n",
       "                                                                              \n",
       "\n",
       "______________________________________________________________________________\n",
       "                                                                              \n",
       "     2  2⋅T⋅γ                 2  2⋅T⋅γ      2                 2            T⋅γ\n",
       "+ a⋅χ ⋅ℯ     ⋅cos(2⋅k⋅θ) - a⋅χ ⋅ℯ      - a⋅χ ⋅cos(2⋅k⋅θ) - a⋅χ  - 2⋅a⋅χ⋅z⋅ℯ   \n",
       "──────────────────────────────────────────────────────────────────────────────\n",
       "                                                                              \n",
       "                                                                              \n",
       "\n",
       "______________________________________________________________________________\n",
       "                                                                              \n",
       "                   2⋅T⋅γ                   2⋅T⋅γ    4                 4      4\n",
       "⋅sin(2⋅k⋅θ) - a⋅x⋅ℯ     ⋅cos(2⋅k⋅θ) + a⋅x⋅ℯ      - χ ⋅y⋅cos(2⋅k⋅θ) + χ ⋅y - χ \n",
       "──────────────────────────────────────────────────────────────────────────────\n",
       "                                                                              \n",
       "                                                                              \n",
       "\n",
       "______________________________________________________________________________\n",
       "                                                                              \n",
       "  2⋅T⋅γ               4  2⋅T⋅γ    4               4      3    T⋅γ             \n",
       "⋅ℯ     ⋅cos(2⋅k⋅θ) + χ ⋅ℯ      + χ ⋅cos(2⋅k⋅θ) - χ  + 2⋅χ ⋅z⋅ℯ   ⋅sin(2⋅k⋅θ) -\n",
       "──────────────────────────────────────────────────────────────────────────────\n",
       "                                                                              \n",
       "                                                                              \n",
       "\n",
       "______________________________________________________________________________\n",
       "                                                                              \n",
       "    2        2    2⋅T⋅γ               2    2⋅T⋅γ      2        2  2⎞  2⋅T⋅γ   \n",
       " 2⋅χ ⋅x⋅y + χ ⋅x⋅ℯ     ⋅cos(2⋅k⋅θ) - χ ⋅x⋅ℯ      + 2⋅χ ⋅x + 2⋅χ ⋅z ⎠⋅ℯ      + \n",
       "──────────────────────────────────────────────────────────────────────────────\n",
       "                                           2                                  \n",
       "                                      4⋅a⋅χ                                   \n",
       "\n",
       "______________________________________________________________________________\n",
       "                                                                              \n",
       "⎛     2      2             2  2⋅T⋅γ    2             2  2⋅T⋅γ        2    2   \n",
       "⎝2⋅a⋅χ ⋅y⋅cos (k⋅θ) + 2⋅a⋅χ ⋅ℯ     ⋅cos (k⋅θ) - 4⋅a⋅χ ⋅ℯ      - 2⋅a⋅χ ⋅cos (k⋅\n",
       "──────────────────────────────────────────────────────────────────────────────\n",
       "                                                                              \n",
       "                                                                              \n",
       "\n",
       "______________________________________________________________________________\n",
       "                                                                              \n",
       "              T⋅γ                   2⋅T⋅γ                   2⋅T⋅γ      4      \n",
       "θ) - 2⋅a⋅χ⋅z⋅ℯ   ⋅sin(2⋅k⋅θ) - a⋅x⋅ℯ     ⋅cos(2⋅k⋅θ) + a⋅x⋅ℯ      + 2⋅χ ⋅y⋅sin\n",
       "──────────────────────────────────────────────────────────────────────────────\n",
       "                                                                              \n",
       "                                                                              \n",
       "\n",
       "______________________________________________________________________________\n",
       "                                                                              \n",
       "2           4  2⋅T⋅γ    2           4    2           3    T⋅γ               2 \n",
       " (k⋅θ) + 2⋅χ ⋅ℯ     ⋅sin (k⋅θ) - 2⋅χ ⋅sin (k⋅θ) + 2⋅χ ⋅z⋅ℯ   ⋅sin(2⋅k⋅θ) + χ ⋅\n",
       "──────────────────────────────────────────────────────────────────────────────\n",
       "                                                                              \n",
       "                                                                              \n",
       "\n",
       "____________________________________           ⎫\n",
       "                                  2            ⎪\n",
       "   2⋅T⋅γ               2    2⋅T⋅γ⎞    -2⋅T⋅γ   ⎪\n",
       "x⋅ℯ     ⋅cos(2⋅k⋅θ) + χ ⋅x⋅ℯ     ⎠  ⋅ℯ         ⎬\n",
       "────────────────────────────────────────────: 1⎪\n",
       "                                               ⎪\n",
       "                                               ⎭"
      ]
     },
     "execution_count": 75,
     "metadata": {},
     "output_type": "execute_result"
    }
   ],
   "source": [
    "norm_guy.eigenvals()"
   ]
  },
  {
   "cell_type": "code",
   "execution_count": 67,
   "metadata": {
    "scrolled": true
   },
   "outputs": [
    {
     "data": {
      "text/latex": [
       "$$\\left[\\begin{matrix}h \\left(h \\left(\\left(y - 1\\right) e^{- 2 T \\gamma} + 1\\right) + z \\left(1 - \\frac{h^{2}}{2 a}\\right) e^{- T \\gamma}\\right) + \\left(1 - \\frac{h^{2}}{2 a}\\right) \\left(h z e^{- T \\gamma} + x \\left(1 - \\frac{h^{2}}{2 a}\\right)\\right) & \\left(1 - \\frac{h^{2}}{2 a}\\right) \\left(h \\left(\\left(y - 1\\right) e^{- 2 T \\gamma} + 1\\right) + z \\left(1 - \\frac{h^{2}}{2 a}\\right) e^{- T \\gamma}\\right) - \\frac{h \\left(1 - \\frac{h^{2}}{4 a}\\right) \\left(h z e^{- T \\gamma} + x \\left(1 - \\frac{h^{2}}{2 a}\\right)\\right)}{a}\\\\h \\left(\\left(1 - \\frac{h^{2}}{2 a}\\right) \\left(\\left(y - 1\\right) e^{- 2 T \\gamma} + 1\\right) - \\frac{h z \\left(1 - \\frac{h^{2}}{4 a}\\right) e^{- T \\gamma}}{a}\\right) + \\left(1 - \\frac{h^{2}}{2 a}\\right) \\left(z \\left(1 - \\frac{h^{2}}{2 a}\\right) e^{- T \\gamma} - \\frac{h x \\left(1 - \\frac{h^{2}}{4 a}\\right)}{a}\\right) & \\left(1 - \\frac{h^{2}}{2 a}\\right) \\left(\\left(1 - \\frac{h^{2}}{2 a}\\right) \\left(\\left(y - 1\\right) e^{- 2 T \\gamma} + 1\\right) - \\frac{h z \\left(1 - \\frac{h^{2}}{4 a}\\right) e^{- T \\gamma}}{a}\\right) - \\frac{h \\left(1 - \\frac{h^{2}}{4 a}\\right) \\left(z \\left(1 - \\frac{h^{2}}{2 a}\\right) e^{- T \\gamma} - \\frac{h x \\left(1 - \\frac{h^{2}}{4 a}\\right)}{a}\\right)}{a}\\end{matrix}\\right]$$"
      ],
      "text/plain": [
       "⎡                                                                             \n",
       "⎢                                                                             \n",
       "⎢            ⎛                            ⎛      2⎞      ⎞   ⎛      2⎞ ⎛      \n",
       "⎢            ⎜  ⎛         -2⋅T⋅γ    ⎞     ⎜     h ⎟  -T⋅γ⎟   ⎜     h ⎟ ⎜     -\n",
       "⎢          h⋅⎜h⋅⎝(y - 1)⋅ℯ       + 1⎠ + z⋅⎜1 - ───⎟⋅ℯ    ⎟ + ⎜1 - ───⎟⋅⎜h⋅z⋅ℯ \n",
       "⎢            ⎝                            ⎝    2⋅a⎠      ⎠   ⎝    2⋅a⎠ ⎝      \n",
       "⎢                                                                             \n",
       "⎢                                                                             \n",
       "⎢                                                                             \n",
       "⎢  ⎛                                      ⎛      2⎞      ⎞             ⎛      \n",
       "⎢  ⎜                                      ⎜     h ⎟  -T⋅γ⎟             ⎜      \n",
       "⎢  ⎜⎛      2⎞                         h⋅z⋅⎜1 - ───⎟⋅ℯ    ⎟   ⎛      2⎞ ⎜  ⎛   \n",
       "⎢  ⎜⎜     h ⎟ ⎛         -2⋅T⋅γ    ⎞       ⎝    4⋅a⎠      ⎟   ⎜     h ⎟ ⎜  ⎜   \n",
       "⎢h⋅⎜⎜1 - ───⎟⋅⎝(y - 1)⋅ℯ       + 1⎠ - ───────────────────⎟ + ⎜1 - ───⎟⋅⎜z⋅⎜1 -\n",
       "⎣  ⎝⎝    2⋅a⎠                                  a         ⎠   ⎝    2⋅a⎠ ⎝  ⎝   \n",
       "\n",
       "                                                                              \n",
       "                                                                              \n",
       "        ⎛      2⎞⎞                      ⎛      2⎞ ⎛                           \n",
       "T⋅γ     ⎜     h ⎟⎟                      ⎜     h ⎟ ⎜  ⎛         -2⋅T⋅γ    ⎞    \n",
       "    + x⋅⎜1 - ───⎟⎟                      ⎜1 - ───⎟⋅⎜h⋅⎝(y - 1)⋅ℯ       + 1⎠ + z\n",
       "        ⎝    2⋅a⎠⎠                      ⎝    2⋅a⎠ ⎝                           \n",
       "                                                                              \n",
       "                                                                              \n",
       "                                                                              \n",
       "                  ⎛      2⎞⎞            ⎛                                     \n",
       "                  ⎜     h ⎟⎟            ⎜                                     \n",
       "   2⎞         h⋅x⋅⎜1 - ───⎟⎟  ⎛      2⎞ ⎜⎛      2⎞                         h⋅z\n",
       "  h ⎟  -T⋅γ       ⎝    4⋅a⎠⎟  ⎜     h ⎟ ⎜⎜     h ⎟ ⎛         -2⋅T⋅γ    ⎞      \n",
       " ───⎟⋅ℯ     - ─────────────⎟  ⎜1 - ───⎟⋅⎜⎜1 - ───⎟⋅⎝(y - 1)⋅ℯ       + 1⎠ - ───\n",
       " 2⋅a⎠               a      ⎠  ⎝    2⋅a⎠ ⎝⎝    2⋅a⎠                            \n",
       "\n",
       "                      ⎛      2⎞ ⎛              ⎛      2⎞⎞          ⎤\n",
       "                      ⎜     h ⎟ ⎜     -T⋅γ     ⎜     h ⎟⎟          ⎥\n",
       " ⎛      2⎞      ⎞   h⋅⎜1 - ───⎟⋅⎜h⋅z⋅ℯ     + x⋅⎜1 - ───⎟⎟          ⎥\n",
       " ⎜     h ⎟  -T⋅γ⎟     ⎝    4⋅a⎠ ⎝              ⎝    2⋅a⎠⎠          ⎥\n",
       "⋅⎜1 - ───⎟⋅ℯ    ⎟ - ─────────────────────────────────────          ⎥\n",
       " ⎝    2⋅a⎠      ⎠                     a                            ⎥\n",
       "                                                                   ⎥\n",
       "                                ⎛                        ⎛      2⎞⎞⎥\n",
       "                                ⎜                        ⎜     h ⎟⎟⎥\n",
       " ⎛      2⎞      ⎞     ⎛      2⎞ ⎜  ⎛      2⎞         h⋅x⋅⎜1 - ───⎟⎟⎥\n",
       " ⎜     h ⎟  -T⋅γ⎟     ⎜     h ⎟ ⎜  ⎜     h ⎟  -T⋅γ       ⎝    4⋅a⎠⎟⎥\n",
       "⋅⎜1 - ───⎟⋅ℯ    ⎟   h⋅⎜1 - ───⎟⋅⎜z⋅⎜1 - ───⎟⋅ℯ     - ─────────────⎟⎥\n",
       " ⎝    4⋅a⎠      ⎟     ⎝    4⋅a⎠ ⎝  ⎝    2⋅a⎠               a      ⎠⎥\n",
       "────────────────⎟ - ───────────────────────────────────────────────⎥\n",
       "      a         ⎠                          a                       ⎦"
      ]
     },
     "execution_count": 67,
     "metadata": {},
     "output_type": "execute_result"
    }
   ],
   "source": [
    "JL = phi * B * phi.transpose()\n",
    "JL"
   ]
  },
  {
   "cell_type": "code",
   "execution_count": 43,
   "metadata": {
    "scrolled": true
   },
   "outputs": [
    {
     "data": {
      "text/latex": [
       "$$\\left[\\begin{matrix}1 & 0\\\\0 & e^{- T \\gamma}\\end{matrix}\\right]$$"
      ],
      "text/plain": [
       "⎡1    0  ⎤\n",
       "⎢        ⎥\n",
       "⎢    -T⋅γ⎥\n",
       "⎣0  ℯ    ⎦"
      ]
     },
     "execution_count": 43,
     "metadata": {},
     "output_type": "execute_result"
    }
   ],
   "source": [
    "F = Matrix([[1,0],[0,exp(-gamma*T)]])\n",
    "F"
   ]
  },
  {
   "cell_type": "code",
   "execution_count": 44,
   "metadata": {
    "scrolled": true
   },
   "outputs": [
    {
     "data": {
      "text/latex": [
       "$$\\left[\\begin{matrix}\\cos^{2}{\\left (n \\theta \\right )} + \\frac{\\sin^{2}{\\left (n \\theta \\right )}}{\\chi^{2}} & \\left(\\chi \\sin{\\left (n \\theta \\right )} \\cos{\\left (n \\theta \\right )} - \\frac{\\sin{\\left (n \\theta \\right )} \\cos{\\left (n \\theta \\right )}}{\\chi}\\right) e^{- T \\gamma}\\\\\\chi e^{- T \\gamma} \\sin{\\left (n \\theta \\right )} \\cos{\\left (n \\theta \\right )} - \\frac{e^{- T \\gamma} \\sin{\\left (n \\theta \\right )} \\cos{\\left (n \\theta \\right )}}{\\chi} & \\left(\\chi^{2} e^{- T \\gamma} \\sin^{2}{\\left (n \\theta \\right )} + e^{- T \\gamma} \\cos^{2}{\\left (n \\theta \\right )}\\right) e^{- T \\gamma}\\end{matrix}\\right]$$"
      ],
      "text/plain": [
       "⎡                              2                                              \n",
       "⎢                  2        sin (n⋅θ)                 ⎛                      s\n",
       "⎢               cos (n⋅θ) + ─────────                 ⎜χ⋅sin(n⋅θ)⋅cos(n⋅θ) - ─\n",
       "⎢                                2                    ⎝                       \n",
       "⎢                               χ                                             \n",
       "⎢                                                                             \n",
       "⎢                             -T⋅γ                                            \n",
       "⎢   -T⋅γ                     ℯ    ⋅sin(n⋅θ)⋅cos(n⋅θ)   ⎛ 2  -T⋅γ    2         \n",
       "⎢χ⋅ℯ    ⋅sin(n⋅θ)⋅cos(n⋅θ) - ───────────────────────   ⎝χ ⋅ℯ    ⋅sin (n⋅θ) + ℯ\n",
       "⎣                                       χ                                     \n",
       "\n",
       "                       ⎤\n",
       "in(n⋅θ)⋅cos(n⋅θ)⎞  -T⋅γ⎥\n",
       "────────────────⎟⋅ℯ    ⎥\n",
       "       χ        ⎠      ⎥\n",
       "                       ⎥\n",
       "                       ⎥\n",
       "                       ⎥\n",
       "-T⋅γ    2     ⎞  -T⋅γ  ⎥\n",
       "    ⋅cos (n⋅θ)⎠⋅ℯ      ⎥\n",
       "                       ⎦"
      ]
     },
     "execution_count": 44,
     "metadata": {},
     "output_type": "execute_result"
    }
   ],
   "source": [
    "T = F * L.transpose() * L * F"
   ]
  },
  {
   "cell_type": "code",
   "execution_count": 41,
   "metadata": {},
   "outputs": [
    {
     "data": {
      "text/latex": [
       "$$\\left[\\begin{matrix}0 & 0\\\\0 & 1\\end{matrix}\\right]$$"
      ],
      "text/plain": [
       "⎡0  0⎤\n",
       "⎢    ⎥\n",
       "⎣0  1⎦"
      ]
     },
     "execution_count": 41,
     "metadata": {},
     "output_type": "execute_result"
    }
   ],
   "source": [
    "P = Matrix([[0,0],[0,1]])\n",
    "P"
   ]
  },
  {
   "cell_type": "code",
   "execution_count": 42,
   "metadata": {},
   "outputs": [
    {
     "data": {
      "text/latex": [
       "$$\\left[\\begin{matrix}\\chi^{2} \\sin^{2}{\\left (n \\theta \\right )} & \\chi \\sin{\\left (n \\theta \\right )} \\cos{\\left (n \\theta \\right )}\\\\\\chi \\sin{\\left (n \\theta \\right )} \\cos{\\left (n \\theta \\right )} & \\cos^{2}{\\left (n \\theta \\right )}\\end{matrix}\\right]$$"
      ],
      "text/plain": [
       "⎡    2    2                              ⎤\n",
       "⎢   χ ⋅sin (n⋅θ)      χ⋅sin(n⋅θ)⋅cos(n⋅θ)⎥\n",
       "⎢                                        ⎥\n",
       "⎢                             2          ⎥\n",
       "⎣χ⋅sin(n⋅θ)⋅cos(n⋅θ)       cos (n⋅θ)     ⎦"
      ]
     },
     "execution_count": 42,
     "metadata": {},
     "output_type": "execute_result"
    }
   ],
   "source": [
    "L * P * L.transpose()"
   ]
  },
  {
   "cell_type": "code",
   "execution_count": 36,
   "metadata": {
    "scrolled": true
   },
   "outputs": [
    {
     "data": {
      "text/latex": [
       "$$\\left[\\begin{matrix}\\cos^{2}{\\left (n \\theta \\right )} + \\frac{\\sin^{2}{\\left (n \\theta \\right )}}{\\chi^{2}} & \\chi \\sin{\\left (n \\theta \\right )} \\cos{\\left (n \\theta \\right )} - \\frac{\\sin{\\left (n \\theta \\right )} \\cos{\\left (n \\theta \\right )}}{\\chi}\\\\\\chi \\sin{\\left (n \\theta \\right )} \\cos{\\left (n \\theta \\right )} - \\frac{\\sin{\\left (n \\theta \\right )} \\cos{\\left (n \\theta \\right )}}{\\chi} & \\chi^{2} \\sin^{2}{\\left (n \\theta \\right )} + \\cos^{2}{\\left (n \\theta \\right )}\\end{matrix}\\right]$$"
      ],
      "text/plain": [
       "⎡                        2                                                    \n",
       "⎢            2        sin (n⋅θ)                                 sin(n⋅θ)⋅cos(n\n",
       "⎢         cos (n⋅θ) + ─────────           χ⋅sin(n⋅θ)⋅cos(n⋅θ) - ──────────────\n",
       "⎢                          2                                            χ     \n",
       "⎢                         χ                                                   \n",
       "⎢                                                                             \n",
       "⎢                      sin(n⋅θ)⋅cos(n⋅θ)          2    2           2          \n",
       "⎢χ⋅sin(n⋅θ)⋅cos(n⋅θ) - ─────────────────         χ ⋅sin (n⋅θ) + cos (n⋅θ)     \n",
       "⎣                              χ                                              \n",
       "\n",
       "   ⎤\n",
       "⋅θ)⎥\n",
       "───⎥\n",
       "   ⎥\n",
       "   ⎥\n",
       "   ⎥\n",
       "   ⎥\n",
       "   ⎥\n",
       "   ⎦"
      ]
     },
     "execution_count": 36,
     "metadata": {},
     "output_type": "execute_result"
    }
   ],
   "source": [
    "Main = L.transpose() * L\n",
    "Main"
   ]
  },
  {
   "cell_type": "code",
   "execution_count": 37,
   "metadata": {},
   "outputs": [
    {
     "data": {
      "text/latex": [
       "$$\\left[\\begin{matrix}\\cos^{2}{\\left (n \\theta \\right )} + \\frac{\\sin^{2}{\\left (n \\theta \\right )}}{\\chi^{2}} & \\left(\\chi \\sin{\\left (n \\theta \\right )} \\cos{\\left (n \\theta \\right )} - \\frac{\\sin{\\left (n \\theta \\right )} \\cos{\\left (n \\theta \\right )}}{\\chi}\\right) e^{- T \\gamma}\\\\\\left(\\chi \\sin{\\left (n \\theta \\right )} \\cos{\\left (n \\theta \\right )} - \\frac{\\sin{\\left (n \\theta \\right )} \\cos{\\left (n \\theta \\right )}}{\\chi}\\right) e^{- T \\gamma} & \\left(\\chi^{2} \\sin^{2}{\\left (n \\theta \\right )} + \\cos^{2}{\\left (n \\theta \\right )}\\right) e^{- 2 T \\gamma}\\end{matrix}\\right]$$"
      ],
      "text/plain": [
       "⎡                            2                                                \n",
       "⎢                2        sin (n⋅θ)               ⎛                      sin(n\n",
       "⎢             cos (n⋅θ) + ─────────               ⎜χ⋅sin(n⋅θ)⋅cos(n⋅θ) - ─────\n",
       "⎢                              2                  ⎝                           \n",
       "⎢                             χ                                               \n",
       "⎢                                                                             \n",
       "⎢⎛                      sin(n⋅θ)⋅cos(n⋅θ)⎞  -T⋅γ        ⎛ 2    2           2  \n",
       "⎢⎜χ⋅sin(n⋅θ)⋅cos(n⋅θ) - ─────────────────⎟⋅ℯ            ⎝χ ⋅sin (n⋅θ) + cos (n\n",
       "⎣⎝                              χ        ⎠                                    \n",
       "\n",
       "                   ⎤\n",
       "⋅θ)⋅cos(n⋅θ)⎞  -T⋅γ⎥\n",
       "────────────⎟⋅ℯ    ⎥\n",
       "   χ        ⎠      ⎥\n",
       "                   ⎥\n",
       "                   ⎥\n",
       "   ⎞  -2⋅T⋅γ       ⎥\n",
       "⋅θ)⎠⋅ℯ             ⎥\n",
       "                   ⎦"
      ]
     },
     "execution_count": 37,
     "metadata": {},
     "output_type": "execute_result"
    }
   ],
   "source": [
    "Main[0,1] = exp(-gamma*T) * Main[0,1]\n",
    "Main[1,0] = Main[0,1]\n",
    "Main[1,1] = exp(-2*gamma*T) * Main[1,1]\n",
    "Main"
   ]
  },
  {
   "cell_type": "code",
   "execution_count": 40,
   "metadata": {},
   "outputs": [
    {
     "data": {
      "image/png": "[encoded data removed]",
      "text/latex": [
       "$$\\left \\{ \\frac{\\chi^{2} e^{- 2 T \\gamma} \\sin^{2}{\\left (n \\theta \\right )}}{2} + \\frac{\\cos^{2}{\\left (n \\theta \\right )}}{2} - \\frac{e^{- 2 T \\gamma} \\sin^{2}{\\left (n \\theta \\right )}}{2} + \\frac{e^{- 2 T \\gamma}}{2} - \\frac{\\sqrt{- 4 \\chi^{4} e^{2 T \\gamma} + \\left(\\chi^{4} \\sin^{2}{\\left (n \\theta \\right )} + \\chi^{2} e^{2 T \\gamma} \\cos^{2}{\\left (n \\theta \\right )} - \\chi^{2} \\sin^{2}{\\left (n \\theta \\right )} + \\chi^{2} + e^{2 T \\gamma} \\sin^{2}{\\left (n \\theta \\right )}\\right)^{2}} e^{- 2 T \\gamma}}{2 \\chi^{2}} + \\frac{\\sin^{2}{\\left (n \\theta \\right )}}{2 \\chi^{2}} : 1, \\quad \\frac{\\chi^{2} e^{- 2 T \\gamma} \\sin^{2}{\\left (n \\theta \\right )}}{2} + \\frac{\\cos^{2}{\\left (n \\theta \\right )}}{2} - \\frac{e^{- 2 T \\gamma} \\sin^{2}{\\left (n \\theta \\right )}}{2} + \\frac{e^{- 2 T \\gamma}}{2} + \\frac{\\sqrt{- 4 \\chi^{4} e^{2 T \\gamma} + \\left(\\chi^{4} \\sin^{2}{\\left (n \\theta \\right )} + \\chi^{2} e^{2 T \\gamma} \\cos^{2}{\\left (n \\theta \\right )} - \\chi^{2} \\sin^{2}{\\left (n \\theta \\right )} + \\chi^{2} + e^{2 T \\gamma} \\sin^{2}{\\left (n \\theta \\right )}\\right)^{2}} e^{- 2 T \\gamma}}{2 \\chi^{2}} + \\frac{\\sin^{2}{\\left (n \\theta \\right )}}{2 \\chi^{2}} : 1\\right \\}$$"
      ],
      "text/plain": [
       "⎧                                                                     ________\n",
       "⎪                                                                    ╱        \n",
       "⎪ 2  -2⋅T⋅γ    2           2         -2⋅T⋅γ    2         -2⋅T⋅γ     ╱       4 \n",
       "⎨χ ⋅ℯ      ⋅sin (n⋅θ)   cos (n⋅θ)   ℯ      ⋅sin (n⋅θ)   ℯ         ╲╱   - 4⋅χ ⋅\n",
       "⎪──────────────────── + ───────── - ───────────────── + ─────── - ────────────\n",
       "⎪         2                 2               2              2                  \n",
       "⎩                                                                             \n",
       "\n",
       "______________________________________________________________________________\n",
       "                                                                              \n",
       " 2⋅T⋅γ   ⎛ 4    2         2  2⋅T⋅γ    2         2    2         2    2⋅T⋅γ    2\n",
       "ℯ      + ⎝χ ⋅sin (n⋅θ) + χ ⋅ℯ     ⋅cos (n⋅θ) - χ ⋅sin (n⋅θ) + χ  + ℯ     ⋅sin \n",
       "──────────────────────────────────────────────────────────────────────────────\n",
       "                                          2                                   \n",
       "                                       2⋅χ                                    \n",
       "\n",
       "________                                                                      \n",
       "      2                                                                       \n",
       "     ⎞    -2⋅T⋅γ      2           2  -2⋅T⋅γ    2           2         -2⋅T⋅γ   \n",
       "(n⋅θ)⎠  ⋅ℯ         sin (n⋅θ)     χ ⋅ℯ      ⋅sin (n⋅θ)   cos (n⋅θ)   ℯ      ⋅si\n",
       "──────────────── + ─────────: 1, ──────────────────── + ───────── - ──────────\n",
       "                         2                2                 2               2 \n",
       "                      2⋅χ                                                     \n",
       "\n",
       "                        ______________________________________________________\n",
       "                       ╱                                                      \n",
       " 2         -2⋅T⋅γ     ╱       4  2⋅T⋅γ   ⎛ 4    2         2  2⋅T⋅γ    2       \n",
       "n (n⋅θ)   ℯ         ╲╱   - 4⋅χ ⋅ℯ      + ⎝χ ⋅sin (n⋅θ) + χ ⋅ℯ     ⋅cos (n⋅θ) -\n",
       "─────── + ─────── + ──────────────────────────────────────────────────────────\n",
       "             2                                                            2   \n",
       "                                                                       2⋅χ    \n",
       "\n",
       "________________________________________                       ⎫\n",
       "                                      2                        ⎪\n",
       "  2    2         2    2⋅T⋅γ    2     ⎞    -2⋅T⋅γ      2        ⎪\n",
       " χ ⋅sin (n⋅θ) + χ  + ℯ     ⋅sin (n⋅θ)⎠  ⋅ℯ         sin (n⋅θ)   ⎬\n",
       "──────────────────────────────────────────────── + ─────────: 1⎪\n",
       "                                                         2     ⎪\n",
       "                                                      2⋅χ      ⎭"
      ]
     },
     "execution_count": 40,
     "metadata": {},
     "output_type": "execute_result"
    }
   ],
   "source": [
    "Main.eigenvals()"
   ]
  },
  {
   "cell_type": "code",
   "execution_count": 29,
   "metadata": {
    "scrolled": true
   },
   "outputs": [
    {
     "data": {
      "text/latex": [
       "$$\\left[\\begin{matrix}\\chi \\left(\\chi \\left(\\left(y - 1\\right) e^{- 2 T \\gamma} + 1\\right) \\sin{\\left (n \\theta \\right )} + z e^{- T \\gamma} \\cos{\\left (n \\theta \\right )}\\right) \\sin{\\left (n \\theta \\right )} + \\left(\\chi z e^{- T \\gamma} \\sin{\\left (n \\theta \\right )} + x \\cos{\\left (n \\theta \\right )}\\right) \\cos{\\left (n \\theta \\right )} & \\left(\\chi \\left(\\left(y - 1\\right) e^{- 2 T \\gamma} + 1\\right) \\sin{\\left (n \\theta \\right )} + z e^{- T \\gamma} \\cos{\\left (n \\theta \\right )}\\right) \\cos{\\left (n \\theta \\right )} - \\frac{\\left(\\chi z e^{- T \\gamma} \\sin{\\left (n \\theta \\right )} + x \\cos{\\left (n \\theta \\right )}\\right) \\sin{\\left (n \\theta \\right )}}{\\chi}\\\\\\chi \\left(\\left(\\left(y - 1\\right) e^{- 2 T \\gamma} + 1\\right) \\cos{\\left (n \\theta \\right )} - \\frac{z e^{- T \\gamma} \\sin{\\left (n \\theta \\right )}}{\\chi}\\right) \\sin{\\left (n \\theta \\right )} + \\left(z e^{- T \\gamma} \\cos{\\left (n \\theta \\right )} - \\frac{x \\sin{\\left (n \\theta \\right )}}{\\chi}\\right) \\cos{\\left (n \\theta \\right )} & \\left(\\left(\\left(y - 1\\right) e^{- 2 T \\gamma} + 1\\right) \\cos{\\left (n \\theta \\right )} - \\frac{z e^{- T \\gamma} \\sin{\\left (n \\theta \\right )}}{\\chi}\\right) \\cos{\\left (n \\theta \\right )} - \\frac{\\left(z e^{- T \\gamma} \\cos{\\left (n \\theta \\right )} - \\frac{x \\sin{\\left (n \\theta \\right )}}{\\chi}\\right) \\sin{\\left (n \\theta \\right )}}{\\chi}\\end{matrix}\\right]$$"
      ],
      "text/plain": [
       "⎡                                                                             \n",
       "⎢  ⎛  ⎛         -2⋅T⋅γ    ⎞               -T⋅γ         ⎞            ⎛     -T⋅γ\n",
       "⎢χ⋅⎝χ⋅⎝(y - 1)⋅ℯ       + 1⎠⋅sin(n⋅θ) + z⋅ℯ    ⋅cos(n⋅θ)⎠⋅sin(n⋅θ) + ⎝χ⋅z⋅ℯ    \n",
       "⎢                                                                             \n",
       "⎢                                                                             \n",
       "⎢                                                                             \n",
       "⎢    ⎛                                    -T⋅γ         ⎞                      \n",
       "⎢    ⎜⎛         -2⋅T⋅γ    ⎞            z⋅ℯ    ⋅sin(n⋅θ)⎟            ⎛   -T⋅γ  \n",
       "⎢  χ⋅⎜⎝(y - 1)⋅ℯ       + 1⎠⋅cos(n⋅θ) - ────────────────⎟⋅sin(n⋅θ) + ⎜z⋅ℯ    ⋅c\n",
       "⎣    ⎝                                        χ        ⎠            ⎝         \n",
       "\n",
       "                                                                              \n",
       "                      ⎞           ⎛  ⎛         -2⋅T⋅γ    ⎞               -T⋅γ \n",
       "⋅sin(n⋅θ) + x⋅cos(n⋅θ)⎠⋅cos(n⋅θ)  ⎝χ⋅⎝(y - 1)⋅ℯ       + 1⎠⋅sin(n⋅θ) + z⋅ℯ    ⋅\n",
       "                                                                              \n",
       "                                                                              \n",
       "                                                                              \n",
       "                                    ⎛                                    -T⋅γ \n",
       "          x⋅sin(n⋅θ)⎞               ⎜⎛         -2⋅T⋅γ    ⎞            z⋅ℯ    ⋅\n",
       "os(n⋅θ) - ──────────⎟⋅cos(n⋅θ)      ⎜⎝(y - 1)⋅ℯ       + 1⎠⋅cos(n⋅θ) - ────────\n",
       "              χ     ⎠               ⎝                                        χ\n",
       "\n",
       "                     ⎛     -T⋅γ                      ⎞         ⎤\n",
       "        ⎞            ⎝χ⋅z⋅ℯ    ⋅sin(n⋅θ) + x⋅cos(n⋅θ)⎠⋅sin(n⋅θ)⎥\n",
       "cos(n⋅θ)⎠⋅cos(n⋅θ) - ──────────────────────────────────────────⎥\n",
       "                                         χ                     ⎥\n",
       "                                                               ⎥\n",
       "                     ⎛   -T⋅γ            x⋅sin(n⋅θ)⎞           ⎥\n",
       "        ⎞            ⎜z⋅ℯ    ⋅cos(n⋅θ) - ──────────⎟⋅sin(n⋅θ)  ⎥\n",
       "sin(n⋅θ)⎟            ⎝                       χ     ⎠           ⎥\n",
       "────────⎟⋅cos(n⋅θ) - ────────────────────────────────────────  ⎥\n",
       "        ⎠                               χ                      ⎦"
      ]
     },
     "execution_count": 29,
     "metadata": {},
     "output_type": "execute_result"
    }
   ],
   "source": [
    "C = L * B * L.transpose()\n",
    "C"
   ]
  },
  {
   "cell_type": "code",
   "execution_count": 6,
   "metadata": {},
   "outputs": [
    {
     "data": {
      "image/png": "[encoded data removed]",
      "text/latex": [
       "$$\\cos{\\left (n \\theta \\right )}$$"
      ],
      "text/plain": [
       "cos(n⋅θ)"
      ]
     },
     "execution_count": 6,
     "metadata": {},
     "output_type": "execute_result"
    }
   ],
   "source": [
    "cos(iteration_no * theta)"
   ]
  },
  {
   "cell_type": "code",
   "execution_count": 7,
   "metadata": {},
   "outputs": [
    {
     "data": {
      "text/latex": [
       "$$\\left[\\begin{matrix}1 - \\frac{h^{2}}{2 a} & h\\\\- \\frac{h \\left(1 - \\frac{h^{2}}{4 a}\\right)}{a} & 1 - \\frac{h^{2}}{2 a}\\end{matrix}\\right]$$"
      ],
      "text/plain": [
       "⎡         2            ⎤\n",
       "⎢        h             ⎥\n",
       "⎢   1 - ───        h   ⎥\n",
       "⎢       2⋅a            ⎥\n",
       "⎢                      ⎥\n",
       "⎢   ⎛      2⎞          ⎥\n",
       "⎢   ⎜     h ⎟          ⎥\n",
       "⎢-h⋅⎜1 - ───⎟         2⎥\n",
       "⎢   ⎝    4⋅a⎠        h ⎥\n",
       "⎢─────────────  1 - ───⎥\n",
       "⎣      a            2⋅a⎦"
      ]
     },
     "execution_count": 7,
     "metadata": {},
     "output_type": "execute_result"
    }
   ],
   "source": [
    "h,a = symbols('h,a')\n",
    "A = Matrix([[1 - (h**2/(2*a)), h],\n",
    "             [-(h/a)*(1-h**2/(4*a)), 1-(h**2/(2*a))]])\n",
    "\n",
    "x,y,z = symbols('x,y,z')\n",
    "\n",
    "M = Matrix([[],\n",
    "            []])\n",
    "A"
   ]
  },
  {
   "cell_type": "code",
   "execution_count": 8,
   "metadata": {},
   "outputs": [
    {
     "data": {
      "text/latex": [
       "$$\\left[\\begin{matrix}\\left(1 - \\frac{h^{2}}{2 a}\\right)^{2} - \\frac{h^{2} \\left(1 - \\frac{h^{2}}{4 a}\\right)}{a} & 2 h \\left(1 - \\frac{h^{2}}{2 a}\\right)\\\\- \\frac{2 h \\left(1 - \\frac{h^{2}}{2 a}\\right) \\left(1 - \\frac{h^{2}}{4 a}\\right)}{a} & \\left(1 - \\frac{h^{2}}{2 a}\\right)^{2} - \\frac{h^{2} \\left(1 - \\frac{h^{2}}{4 a}\\right)}{a}\\end{matrix}\\right]$$"
      ],
      "text/plain": [
       "⎡                ⎛      2⎞                           ⎤\n",
       "⎢         2    2 ⎜     h ⎟                           ⎥\n",
       "⎢⎛      2⎞    h ⋅⎜1 - ───⎟            ⎛      2⎞      ⎥\n",
       "⎢⎜     h ⎟       ⎝    4⋅a⎠            ⎜     h ⎟      ⎥\n",
       "⎢⎜1 - ───⎟  - ────────────        2⋅h⋅⎜1 - ───⎟      ⎥\n",
       "⎢⎝    2⋅a⎠         a                  ⎝    2⋅a⎠      ⎥\n",
       "⎢                                                    ⎥\n",
       "⎢     ⎛      2⎞ ⎛      2⎞                   ⎛      2⎞⎥\n",
       "⎢     ⎜     h ⎟ ⎜     h ⎟            2    2 ⎜     h ⎟⎥\n",
       "⎢-2⋅h⋅⎜1 - ───⎟⋅⎜1 - ───⎟   ⎛      2⎞    h ⋅⎜1 - ───⎟⎥\n",
       "⎢     ⎝    2⋅a⎠ ⎝    4⋅a⎠   ⎜     h ⎟       ⎝    4⋅a⎠⎥\n",
       "⎢─────────────────────────  ⎜1 - ───⎟  - ────────────⎥\n",
       "⎣            a              ⎝    2⋅a⎠         a      ⎦"
      ]
     },
     "execution_count": 8,
     "metadata": {},
     "output_type": "execute_result"
    }
   ],
   "source": [
    "A**2"
   ]
  },
  {
   "cell_type": "code",
   "execution_count": 9,
   "metadata": {},
   "outputs": [
    {
     "data": {
      "text/latex": [
       "$$\\left [ \\left ( - \\frac{h \\sqrt{- 4 a + h^{2}}}{2 a} + \\frac{2 a - h^{2}}{2 a}, \\quad 1, \\quad \\left [ \\left[\\begin{matrix}- \\frac{h}{1 - \\frac{h^{2}}{2 a} + \\frac{h \\sqrt{- 4 a + h^{2}}}{2 a} - \\frac{2 a - h^{2}}{2 a}}\\\\1\\end{matrix}\\right]\\right ]\\right ), \\quad \\left ( \\frac{h \\sqrt{- 4 a + h^{2}}}{2 a} + \\frac{2 a - h^{2}}{2 a}, \\quad 1, \\quad \\left [ \\left[\\begin{matrix}- \\frac{h}{1 - \\frac{h^{2}}{2 a} - \\frac{h \\sqrt{- 4 a + h^{2}}}{2 a} - \\frac{2 a - h^{2}}{2 a}}\\\\1\\end{matrix}\\right]\\right ]\\right )\\right ]$$"
      ],
      "text/plain": [
       "⎡⎛                                  ⎡⎡                 -h                  ⎤⎤⎞\n",
       "⎢⎜       ___________                ⎢⎢─────────────────────────────────────⎥⎥⎟\n",
       "⎢⎜      ╱         2           2     ⎢⎢               ___________           ⎥⎥⎟\n",
       "⎢⎜  h⋅╲╱  -4⋅a + h     2⋅a - h      ⎢⎢      2       ╱         2           2⎥⎥⎟\n",
       "⎢⎜- ──────────────── + ────────, 1, ⎢⎢     h    h⋅╲╱  -4⋅a + h     2⋅a - h ⎥⎥⎟\n",
       "⎢⎜        2⋅a            2⋅a        ⎢⎢1 - ─── + ──────────────── - ────────⎥⎥⎟\n",
       "⎢⎜                                  ⎢⎢    2⋅a         2⋅a            2⋅a   ⎥⎥⎟\n",
       "⎢⎜                                  ⎢⎢                                     ⎥⎥⎟\n",
       "⎣⎝                                  ⎣⎣                  1                  ⎦⎦⎠\n",
       "\n",
       "  ⎛                                ⎡⎡                 -h                  ⎤⎤⎞⎤\n",
       "  ⎜     ___________                ⎢⎢─────────────────────────────────────⎥⎥⎟⎥\n",
       "  ⎜    ╱         2           2     ⎢⎢               ___________           ⎥⎥⎟⎥\n",
       "  ⎜h⋅╲╱  -4⋅a + h     2⋅a - h      ⎢⎢      2       ╱         2           2⎥⎥⎟⎥\n",
       ", ⎜──────────────── + ────────, 1, ⎢⎢     h    h⋅╲╱  -4⋅a + h     2⋅a - h ⎥⎥⎟⎥\n",
       "  ⎜      2⋅a            2⋅a        ⎢⎢1 - ─── - ──────────────── - ────────⎥⎥⎟⎥\n",
       "  ⎜                                ⎢⎢    2⋅a         2⋅a            2⋅a   ⎥⎥⎟⎥\n",
       "  ⎜                                ⎢⎢                                     ⎥⎥⎟⎥\n",
       "  ⎝                                ⎣⎣                  1                  ⎦⎦⎠⎦"
      ]
     },
     "execution_count": 9,
     "metadata": {},
     "output_type": "execute_result"
    }
   ],
   "source": [
    "A.eigenvects()"
   ]
  },
  {
   "cell_type": "code",
   "execution_count": 10,
   "metadata": {},
   "outputs": [
    {
     "data": {
      "image/png": "[encoded data removed]",
      "text/latex": [
       "$$\\left \\{ - \\frac{h \\sqrt{- 4 a + h^{2}}}{2 a} + \\frac{2 a - h^{2}}{2 a} : 1, \\quad \\frac{h \\sqrt{- 4 a + h^{2}}}{2 a} + \\frac{2 a - h^{2}}{2 a} : 1\\right \\}$$"
      ],
      "text/plain": [
       "⎧       ___________                     ___________              ⎫\n",
       "⎪      ╱         2           2         ╱         2           2   ⎪\n",
       "⎨  h⋅╲╱  -4⋅a + h     2⋅a - h      h⋅╲╱  -4⋅a + h     2⋅a - h    ⎬\n",
       "⎪- ──────────────── + ────────: 1, ──────────────── + ────────: 1⎪\n",
       "⎩        2⋅a            2⋅a              2⋅a            2⋅a      ⎭"
      ]
     },
     "execution_count": 10,
     "metadata": {},
     "output_type": "execute_result"
    }
   ],
   "source": [
    "A.eigenvals()"
   ]
  },
  {
   "cell_type": "code",
   "execution_count": 11,
   "metadata": {},
   "outputs": [],
   "source": [
    "P,D = A.diagonalize()"
   ]
  },
  {
   "cell_type": "code",
   "execution_count": 12,
   "metadata": {},
   "outputs": [
    {
     "data": {
      "text/latex": [
       "$$\\left[\\begin{matrix}- \\frac{2 a}{\\sqrt{- 4 a + h^{2}}} & \\frac{2 a}{\\sqrt{- 4 a + h^{2}}}\\\\1 & 1\\end{matrix}\\right]$$"
      ],
      "text/plain": [
       "⎡    -2⋅a             2⋅a      ⎤\n",
       "⎢──────────────  ──────────────⎥\n",
       "⎢   ___________     ___________⎥\n",
       "⎢  ╱         2     ╱         2 ⎥\n",
       "⎢╲╱  -4⋅a + h    ╲╱  -4⋅a + h  ⎥\n",
       "⎢                              ⎥\n",
       "⎣      1               1       ⎦"
      ]
     },
     "execution_count": 12,
     "metadata": {},
     "output_type": "execute_result"
    }
   ],
   "source": [
    "P"
   ]
  },
  {
   "cell_type": "code",
   "execution_count": 13,
   "metadata": {},
   "outputs": [
    {
     "data": {
      "text/latex": [
       "$$\\left[\\begin{matrix}\\frac{2 a - h^{2} - h \\sqrt{- 4 a + h^{2}}}{2 a} & 0\\\\0 & \\frac{2 a - h^{2} + h \\sqrt{- 4 a + h^{2}}}{2 a}\\end{matrix}\\right]$$"
      ],
      "text/plain": [
       "⎡                ___________                             ⎤\n",
       "⎢       2       ╱         2                              ⎥\n",
       "⎢2⋅a - h  - h⋅╲╱  -4⋅a + h                               ⎥\n",
       "⎢───────────────────────────               0             ⎥\n",
       "⎢            2⋅a                                         ⎥\n",
       "⎢                                                        ⎥\n",
       "⎢                                             ___________⎥\n",
       "⎢                                    2       ╱         2 ⎥\n",
       "⎢                             2⋅a - h  + h⋅╲╱  -4⋅a + h  ⎥\n",
       "⎢             0               ───────────────────────────⎥\n",
       "⎣                                         2⋅a            ⎦"
      ]
     },
     "execution_count": 13,
     "metadata": {},
     "output_type": "execute_result"
    }
   ],
   "source": [
    "D"
   ]
  },
  {
   "cell_type": "code",
   "execution_count": 14,
   "metadata": {},
   "outputs": [
    {
     "data": {
      "text/latex": [
       "$$\\left[\\begin{matrix}\\frac{2 a - h^{2} - h \\sqrt{- 4 a + h^{2}}}{4 a} + \\frac{2 a - h^{2} + h \\sqrt{- 4 a + h^{2}}}{4 a} & - \\frac{2 a - h^{2} - h \\sqrt{- 4 a + h^{2}}}{2 \\sqrt{- 4 a + h^{2}}} + \\frac{2 a - h^{2} + h \\sqrt{- 4 a + h^{2}}}{2 \\sqrt{- 4 a + h^{2}}}\\\\- \\frac{\\sqrt{- 4 a + h^{2}} \\left(2 a - h^{2} - h \\sqrt{- 4 a + h^{2}}\\right)}{8 a^{2}} + \\frac{\\sqrt{- 4 a + h^{2}} \\left(2 a - h^{2} + h \\sqrt{- 4 a + h^{2}}\\right)}{8 a^{2}} & \\frac{2 a - h^{2} - h \\sqrt{- 4 a + h^{2}}}{4 a} + \\frac{2 a - h^{2} + h \\sqrt{- 4 a + h^{2}}}{4 a}\\end{matrix}\\right]$$"
      ],
      "text/plain": [
       "⎡                                  ___________                   ___________  \n",
       "⎢                         2       ╱         2           2       ╱         2   \n",
       "⎢                  2⋅a - h  - h⋅╲╱  -4⋅a + h     2⋅a - h  + h⋅╲╱  -4⋅a + h    \n",
       "⎢                  ─────────────────────────── + ───────────────────────────  \n",
       "⎢                              4⋅a                           4⋅a              \n",
       "⎢                                                                             \n",
       "⎢                                                                             \n",
       "⎢                                                                             \n",
       "⎢     ___________ ⎛                ___________⎞      ___________ ⎛            \n",
       "⎢    ╱         2  ⎜       2       ╱         2 ⎟     ╱         2  ⎜       2    \n",
       "⎢  ╲╱  -4⋅a + h  ⋅⎝2⋅a - h  - h⋅╲╱  -4⋅a + h  ⎠   ╲╱  -4⋅a + h  ⋅⎝2⋅a - h  + h\n",
       "⎢- ──────────────────────────────────────────── + ────────────────────────────\n",
       "⎢                         2                                              2    \n",
       "⎣                      8⋅a                                            8⋅a     \n",
       "\n",
       "                                    ___________                   ___________⎤\n",
       "                           2       ╱         2           2       ╱         2 ⎥\n",
       "                    2⋅a - h  - h⋅╲╱  -4⋅a + h     2⋅a - h  + h⋅╲╱  -4⋅a + h  ⎥\n",
       "                  - ─────────────────────────── + ───────────────────────────⎥\n",
       "                               ___________                   ___________     ⎥\n",
       "                              ╱         2                   ╱         2      ⎥\n",
       "                          2⋅╲╱  -4⋅a + h                2⋅╲╱  -4⋅a + h       ⎥\n",
       "                                                                             ⎥\n",
       "    ___________⎞                   ___________                   ___________ ⎥\n",
       "   ╱         2 ⎟          2       ╱         2           2       ╱         2  ⎥\n",
       "⋅╲╱  -4⋅a + h  ⎠   2⋅a - h  - h⋅╲╱  -4⋅a + h     2⋅a - h  + h⋅╲╱  -4⋅a + h   ⎥\n",
       "────────────────   ─────────────────────────── + ─────────────────────────── ⎥\n",
       "                               4⋅a                           4⋅a             ⎥\n",
       "                                                                             ⎦"
      ]
     },
     "execution_count": 14,
     "metadata": {},
     "output_type": "execute_result"
    }
   ],
   "source": [
    "P*D*P**-1"
   ]
  },
  {
   "cell_type": "code",
   "execution_count": 15,
   "metadata": {},
   "outputs": [
    {
     "data": {
      "text/latex": [
       "$$\\left[\\begin{matrix}- \\frac{\\sqrt{- 4 a + h^{2}}}{4 a} & \\frac{1}{2}\\\\\\frac{\\sqrt{- 4 a + h^{2}}}{4 a} & \\frac{1}{2}\\end{matrix}\\right]$$"
      ],
      "text/plain": [
       "⎡    ___________      ⎤\n",
       "⎢   ╱         2       ⎥\n",
       "⎢-╲╱  -4⋅a + h        ⎥\n",
       "⎢────────────────  1/2⎥\n",
       "⎢      4⋅a            ⎥\n",
       "⎢                     ⎥\n",
       "⎢    ___________      ⎥\n",
       "⎢   ╱         2       ⎥\n",
       "⎢ ╲╱  -4⋅a + h        ⎥\n",
       "⎢ ──────────────   1/2⎥\n",
       "⎣      4⋅a            ⎦"
      ]
     },
     "execution_count": 15,
     "metadata": {},
     "output_type": "execute_result"
    }
   ],
   "source": [
    "P**-1"
   ]
  },
  {
   "cell_type": "code",
   "execution_count": 16,
   "metadata": {},
   "outputs": [
    {
     "data": {
      "text/latex": [
       "$$\\left[\\begin{matrix}1 & 0\\\\0 & 1\\end{matrix}\\right]$$"
      ],
      "text/plain": [
       "⎡1  0⎤\n",
       "⎢    ⎥\n",
       "⎣0  1⎦"
      ]
     },
     "execution_count": 16,
     "metadata": {},
     "output_type": "execute_result"
    }
   ],
   "source": [
    "P*(P**-1)"
   ]
  },
  {
   "cell_type": "code",
   "execution_count": 17,
   "metadata": {},
   "outputs": [
    {
     "data": {
      "text/latex": [
       "$$\\left[\\begin{matrix}\\left(\\frac{2 a - h^{2} - h \\sqrt{- 4 a + h^{2}}}{2 a}\\right)^{k} & 0\\\\0 & \\left(\\frac{2 a - h^{2} + h \\sqrt{- 4 a + h^{2}}}{2 a}\\right)^{k}\\end{matrix}\\right]$$"
      ],
      "text/plain": [
       "⎡                             k                                ⎤\n",
       "⎢⎛                ___________⎞                                 ⎥\n",
       "⎢⎜       2       ╱         2 ⎟                                 ⎥\n",
       "⎢⎜2⋅a - h  - h⋅╲╱  -4⋅a + h  ⎟                                 ⎥\n",
       "⎢⎜───────────────────────────⎟                 0               ⎥\n",
       "⎢⎝            2⋅a            ⎠                                 ⎥\n",
       "⎢                                                              ⎥\n",
       "⎢                                                             k⎥\n",
       "⎢                                ⎛                ___________⎞ ⎥\n",
       "⎢                                ⎜       2       ╱         2 ⎟ ⎥\n",
       "⎢                                ⎜2⋅a - h  + h⋅╲╱  -4⋅a + h  ⎟ ⎥\n",
       "⎢              0                 ⎜───────────────────────────⎟ ⎥\n",
       "⎣                                ⎝            2⋅a            ⎠ ⎦"
      ]
     },
     "execution_count": 17,
     "metadata": {},
     "output_type": "execute_result"
    }
   ],
   "source": [
    "k = symbols('k')\n",
    "D**k"
   ]
  },
  {
   "cell_type": "code",
   "execution_count": 18,
   "metadata": {},
   "outputs": [
    {
     "data": {
      "text/latex": [
       "$$\\left[\\begin{matrix}\\frac{\\left(\\frac{2 a - h^{2} - h \\sqrt{- 4 a + h^{2}}}{2 a}\\right)^{k}}{2} + \\frac{\\left(\\frac{2 a - h^{2} + h \\sqrt{- 4 a + h^{2}}}{2 a}\\right)^{k}}{2} & - \\frac{a \\left(\\frac{2 a - h^{2} - h \\sqrt{- 4 a + h^{2}}}{2 a}\\right)^{k}}{\\sqrt{- 4 a + h^{2}}} + \\frac{a \\left(\\frac{2 a - h^{2} + h \\sqrt{- 4 a + h^{2}}}{2 a}\\right)^{k}}{\\sqrt{- 4 a + h^{2}}}\\\\- \\frac{\\left(\\frac{2 a - h^{2} - h \\sqrt{- 4 a + h^{2}}}{2 a}\\right)^{k} \\sqrt{- 4 a + h^{2}}}{4 a} + \\frac{\\left(\\frac{2 a - h^{2} + h \\sqrt{- 4 a + h^{2}}}{2 a}\\right)^{k} \\sqrt{- 4 a + h^{2}}}{4 a} & \\frac{\\left(\\frac{2 a - h^{2} - h \\sqrt{- 4 a + h^{2}}}{2 a}\\right)^{k}}{2} + \\frac{\\left(\\frac{2 a - h^{2} + h \\sqrt{- 4 a + h^{2}}}{2 a}\\right)^{k}}{2}\\end{matrix}\\right]$$"
      ],
      "text/plain": [
       "⎡                                             k                               \n",
       "⎢                ⎛                ___________⎞    ⎛                ___________\n",
       "⎢                ⎜       2       ╱         2 ⎟    ⎜       2       ╱         2 \n",
       "⎢                ⎜2⋅a - h  - h⋅╲╱  -4⋅a + h  ⎟    ⎜2⋅a - h  + h⋅╲╱  -4⋅a + h  \n",
       "⎢                ⎜───────────────────────────⎟    ⎜───────────────────────────\n",
       "⎢                ⎝            2⋅a            ⎠    ⎝            2⋅a            \n",
       "⎢                ────────────────────────────── + ────────────────────────────\n",
       "⎢                              2                                2             \n",
       "⎢                                                                             \n",
       "⎢                                                                             \n",
       "⎢                                                                             \n",
       "⎢                               k                                             \n",
       "⎢  ⎛                ___________⎞                   ⎛                __________\n",
       "⎢  ⎜       2       ╱         2 ⎟     ___________   ⎜       2       ╱         2\n",
       "⎢  ⎜2⋅a - h  - h⋅╲╱  -4⋅a + h  ⎟    ╱         2    ⎜2⋅a - h  + h⋅╲╱  -4⋅a + h \n",
       "⎢  ⎜───────────────────────────⎟ ⋅╲╱  -4⋅a + h     ⎜──────────────────────────\n",
       "⎢  ⎝            2⋅a            ⎠                   ⎝            2⋅a           \n",
       "⎢- ───────────────────────────────────────────── + ───────────────────────────\n",
       "⎣                       4⋅a                                             4⋅a   \n",
       "\n",
       " k                                                   k                        \n",
       "⎞                       ⎛                ___________⎞      ⎛                __\n",
       "⎟                       ⎜       2       ╱         2 ⎟      ⎜       2       ╱  \n",
       "⎟                       ⎜2⋅a - h  - h⋅╲╱  -4⋅a + h  ⎟      ⎜2⋅a - h  + h⋅╲╱  -\n",
       "⎟                     a⋅⎜───────────────────────────⎟    a⋅⎜──────────────────\n",
       "⎠                       ⎝            2⋅a            ⎠      ⎝            2⋅a   \n",
       "──                  - ──────────────────────────────── + ─────────────────────\n",
       "                                  ___________                        _________\n",
       "                                 ╱         2                        ╱         \n",
       "                               ╲╱  -4⋅a + h                       ╲╱  -4⋅a + h\n",
       "                                                                              \n",
       "  k                                                 k                         \n",
       "_⎞                     ⎛                ___________⎞    ⎛                _____\n",
       " ⎟     ___________     ⎜       2       ╱         2 ⎟    ⎜       2       ╱     \n",
       " ⎟    ╱         2      ⎜2⋅a - h  - h⋅╲╱  -4⋅a + h  ⎟    ⎜2⋅a - h  + h⋅╲╱  -4⋅a\n",
       "─⎟ ⋅╲╱  -4⋅a + h       ⎜───────────────────────────⎟    ⎜─────────────────────\n",
       " ⎠                     ⎝            2⋅a            ⎠    ⎝            2⋅a      \n",
       "──────────────────     ────────────────────────────── + ──────────────────────\n",
       "                                     2                                2       \n",
       "\n",
       "          k⎤\n",
       "_________⎞ ⎥\n",
       "       2 ⎟ ⎥\n",
       "4⋅a + h  ⎟ ⎥\n",
       "─────────⎟ ⎥\n",
       "         ⎠ ⎥\n",
       "───────────⎥\n",
       "__         ⎥\n",
       "2          ⎥\n",
       "           ⎥\n",
       "           ⎥\n",
       "       k   ⎥\n",
       "______⎞    ⎥\n",
       "    2 ⎟    ⎥\n",
       " + h  ⎟    ⎥\n",
       "──────⎟    ⎥\n",
       "      ⎠    ⎥\n",
       "────────   ⎥\n",
       "           ⎦"
      ]
     },
     "execution_count": 18,
     "metadata": {},
     "output_type": "execute_result"
    }
   ],
   "source": [
    "L = P*(D**k)*(P**-1)\n",
    "L"
   ]
  },
  {
   "cell_type": "code",
   "execution_count": null,
   "metadata": {},
   "outputs": [],
   "source": []
  },
  {
   "cell_type": "code",
   "execution_count": null,
   "metadata": {
    "scrolled": true
   },
   "outputs": [],
   "source": []
  },
  {
   "cell_type": "code",
   "execution_count": 19,
   "metadata": {},
   "outputs": [
    {
     "ename": "NameError",
     "evalue": "name 'n' is not defined",
     "output_type": "error",
     "traceback": [
      "\u001b[1;31m---------------------------------------------------------------------------\u001b[0m",
      "\u001b[1;31mNameError\u001b[0m                                 Traceback (most recent call last)",
      "\u001b[1;32m<ipython-input-19-8ef62b7931bf>\u001b[0m in \u001b[0;36m<module>\u001b[1;34m\u001b[0m\n\u001b[1;32m----> 1\u001b[1;33m \u001b[0mnp\u001b[0m\u001b[1;33m.\u001b[0m\u001b[0mcos\u001b[0m\u001b[1;33m(\u001b[0m\u001b[0mn\u001b[0m\u001b[1;33m*\u001b[0m\u001b[0mtheta\u001b[0m\u001b[1;33m)\u001b[0m\u001b[1;33m\u001b[0m\u001b[1;33m\u001b[0m\u001b[0m\n\u001b[0m",
      "\u001b[1;31mNameError\u001b[0m: name 'n' is not defined"
     ]
    }
   ],
   "source": [
    "np.cos(n*theta)"
   ]
  },
  {
   "cell_type": "code",
   "execution_count": 20,
   "metadata": {},
   "outputs": [
    {
     "name": "stderr",
     "output_type": "stream",
     "text": [
      "C:\\Users\\deepa\\Anaconda3\\lib\\site-packages\\sympy\\core\\decorators.py:38: SymPyDeprecationWarning: \n",
      "\n",
      "C, including its class ClassRegistry, has been deprecated since SymPy\n",
      "1.0. It will be last supported in SymPy version 1.0. Use direct\n",
      "imports from the defining module instead. See\n",
      "https://github.com/sympy/sympy/issues/9371 for more info.\n",
      "\n",
      "  _warn_deprecation(wrapped, 3)\n"
     ]
    },
    {
     "ename": "TypeError",
     "evalue": "object of type 'bool' has no len()",
     "output_type": "error",
     "traceback": [
      "\u001b[1;31m---------------------------------------------------------------------------\u001b[0m",
      "\u001b[1;31mTypeError\u001b[0m                                 Traceback (most recent call last)",
      "\u001b[1;32m<ipython-input-20-473644935cbf>\u001b[0m in \u001b[0;36m<module>\u001b[1;34m\u001b[0m\n\u001b[1;32m----> 1\u001b[1;33m \u001b[0mC\u001b[0m\u001b[1;33m*\u001b[0m\u001b[0mL\u001b[0m\u001b[1;33m.\u001b[0m\u001b[0mT\u001b[0m\u001b[1;33m\u001b[0m\u001b[1;33m\u001b[0m\u001b[0m\n\u001b[0m",
      "\u001b[1;32m~\\Anaconda3\\lib\\site-packages\\sympy\\core\\decorators.py\u001b[0m in \u001b[0;36mbinary_op_wrapper\u001b[1;34m(self, other)\u001b[0m\n\u001b[0;32m    130\u001b[0m                     \u001b[1;32melse\u001b[0m\u001b[1;33m:\u001b[0m\u001b[1;33m\u001b[0m\u001b[1;33m\u001b[0m\u001b[0m\n\u001b[0;32m    131\u001b[0m                         \u001b[1;32mreturn\u001b[0m \u001b[0mf\u001b[0m\u001b[1;33m(\u001b[0m\u001b[0mself\u001b[0m\u001b[1;33m)\u001b[0m\u001b[1;33m\u001b[0m\u001b[1;33m\u001b[0m\u001b[0m\n\u001b[1;32m--> 132\u001b[1;33m             \u001b[1;32mreturn\u001b[0m \u001b[0mfunc\u001b[0m\u001b[1;33m(\u001b[0m\u001b[0mself\u001b[0m\u001b[1;33m,\u001b[0m \u001b[0mother\u001b[0m\u001b[1;33m)\u001b[0m\u001b[1;33m\u001b[0m\u001b[1;33m\u001b[0m\u001b[0m\n\u001b[0m\u001b[0;32m    133\u001b[0m         \u001b[1;32mreturn\u001b[0m \u001b[0mbinary_op_wrapper\u001b[0m\u001b[1;33m\u001b[0m\u001b[1;33m\u001b[0m\u001b[0m\n\u001b[0;32m    134\u001b[0m     \u001b[1;32mreturn\u001b[0m \u001b[0mpriority_decorator\u001b[0m\u001b[1;33m\u001b[0m\u001b[1;33m\u001b[0m\u001b[0m\n",
      "\u001b[1;32m~\\Anaconda3\\lib\\site-packages\\sympy\\matrices\\common.py\u001b[0m in \u001b[0;36m__rmul__\u001b[1;34m(self, other)\u001b[0m\n\u001b[0;32m   2089\u001b[0m     \u001b[1;33m@\u001b[0m\u001b[0mcall_highest_priority\u001b[0m\u001b[1;33m(\u001b[0m\u001b[1;34m'__mul__'\u001b[0m\u001b[1;33m)\u001b[0m\u001b[1;33m\u001b[0m\u001b[1;33m\u001b[0m\u001b[0m\n\u001b[0;32m   2090\u001b[0m     \u001b[1;32mdef\u001b[0m \u001b[0m__rmul__\u001b[0m\u001b[1;33m(\u001b[0m\u001b[0mself\u001b[0m\u001b[1;33m,\u001b[0m \u001b[0mother\u001b[0m\u001b[1;33m)\u001b[0m\u001b[1;33m:\u001b[0m\u001b[1;33m\u001b[0m\u001b[1;33m\u001b[0m\u001b[0m\n\u001b[1;32m-> 2091\u001b[1;33m         \u001b[0mother\u001b[0m \u001b[1;33m=\u001b[0m \u001b[0m_matrixify\u001b[0m\u001b[1;33m(\u001b[0m\u001b[0mother\u001b[0m\u001b[1;33m)\u001b[0m\u001b[1;33m\u001b[0m\u001b[1;33m\u001b[0m\u001b[0m\n\u001b[0m\u001b[0;32m   2092\u001b[0m         \u001b[1;31m# matrix-like objects can have shapes.  This is\u001b[0m\u001b[1;33m\u001b[0m\u001b[1;33m\u001b[0m\u001b[1;33m\u001b[0m\u001b[0m\n\u001b[0;32m   2093\u001b[0m         \u001b[1;31m# our first sanity check.\u001b[0m\u001b[1;33m\u001b[0m\u001b[1;33m\u001b[0m\u001b[1;33m\u001b[0m\u001b[0m\n",
      "\u001b[1;32m~\\Anaconda3\\lib\\site-packages\\sympy\\matrices\\common.py\u001b[0m in \u001b[0;36m_matrixify\u001b[1;34m(mat)\u001b[0m\n\u001b[0;32m   2286\u001b[0m         \u001b[1;32mreturn\u001b[0m \u001b[0mmat\u001b[0m\u001b[1;33m\u001b[0m\u001b[1;33m\u001b[0m\u001b[0m\n\u001b[0;32m   2287\u001b[0m     \u001b[1;32mif\u001b[0m \u001b[0mhasattr\u001b[0m\u001b[1;33m(\u001b[0m\u001b[0mmat\u001b[0m\u001b[1;33m,\u001b[0m \u001b[1;34m'shape'\u001b[0m\u001b[1;33m)\u001b[0m\u001b[1;33m:\u001b[0m\u001b[1;33m\u001b[0m\u001b[1;33m\u001b[0m\u001b[0m\n\u001b[1;32m-> 2288\u001b[1;33m         \u001b[1;32mif\u001b[0m \u001b[0mlen\u001b[0m\u001b[1;33m(\u001b[0m\u001b[0mmat\u001b[0m\u001b[1;33m.\u001b[0m\u001b[0mshape\u001b[0m\u001b[1;33m)\u001b[0m \u001b[1;33m==\u001b[0m \u001b[1;36m2\u001b[0m\u001b[1;33m:\u001b[0m\u001b[1;33m\u001b[0m\u001b[1;33m\u001b[0m\u001b[0m\n\u001b[0m\u001b[0;32m   2289\u001b[0m             \u001b[1;32mreturn\u001b[0m \u001b[0m_MatrixWrapper\u001b[0m\u001b[1;33m(\u001b[0m\u001b[0mmat\u001b[0m\u001b[1;33m)\u001b[0m\u001b[1;33m\u001b[0m\u001b[1;33m\u001b[0m\u001b[0m\n\u001b[0;32m   2290\u001b[0m     \u001b[1;32mreturn\u001b[0m \u001b[0mmat\u001b[0m\u001b[1;33m\u001b[0m\u001b[1;33m\u001b[0m\u001b[0m\n",
      "\u001b[1;31mTypeError\u001b[0m: object of type 'bool' has no len()"
     ]
    }
   ],
   "source": [
    "C*L.T"
   ]
  },
  {
   "cell_type": "code",
   "execution_count": 21,
   "metadata": {},
   "outputs": [
    {
     "ename": "TypeError",
     "evalue": "object of type 'bool' has no len()",
     "output_type": "error",
     "traceback": [
      "\u001b[1;31m---------------------------------------------------------------------------\u001b[0m",
      "\u001b[1;31mTypeError\u001b[0m                                 Traceback (most recent call last)",
      "\u001b[1;32m<ipython-input-21-4140be2f2396>\u001b[0m in \u001b[0;36m<module>\u001b[1;34m\u001b[0m\n\u001b[1;32m----> 1\u001b[1;33m \u001b[0mAns\u001b[0m \u001b[1;33m=\u001b[0m \u001b[1;33m(\u001b[0m\u001b[0mL\u001b[0m\u001b[1;33m*\u001b[0m\u001b[0mC\u001b[0m\u001b[1;33m*\u001b[0m\u001b[0mL\u001b[0m\u001b[1;33m.\u001b[0m\u001b[0mT\u001b[0m\u001b[1;33m)\u001b[0m\u001b[1;33m\u001b[0m\u001b[1;33m\u001b[0m\u001b[0m\n\u001b[0m",
      "\u001b[1;32m~\\Anaconda3\\lib\\site-packages\\sympy\\core\\decorators.py\u001b[0m in \u001b[0;36mbinary_op_wrapper\u001b[1;34m(self, other)\u001b[0m\n\u001b[0;32m    130\u001b[0m                     \u001b[1;32melse\u001b[0m\u001b[1;33m:\u001b[0m\u001b[1;33m\u001b[0m\u001b[1;33m\u001b[0m\u001b[0m\n\u001b[0;32m    131\u001b[0m                         \u001b[1;32mreturn\u001b[0m \u001b[0mf\u001b[0m\u001b[1;33m(\u001b[0m\u001b[0mself\u001b[0m\u001b[1;33m)\u001b[0m\u001b[1;33m\u001b[0m\u001b[1;33m\u001b[0m\u001b[0m\n\u001b[1;32m--> 132\u001b[1;33m             \u001b[1;32mreturn\u001b[0m \u001b[0mfunc\u001b[0m\u001b[1;33m(\u001b[0m\u001b[0mself\u001b[0m\u001b[1;33m,\u001b[0m \u001b[0mother\u001b[0m\u001b[1;33m)\u001b[0m\u001b[1;33m\u001b[0m\u001b[1;33m\u001b[0m\u001b[0m\n\u001b[0m\u001b[0;32m    133\u001b[0m         \u001b[1;32mreturn\u001b[0m \u001b[0mbinary_op_wrapper\u001b[0m\u001b[1;33m\u001b[0m\u001b[1;33m\u001b[0m\u001b[0m\n\u001b[0;32m    134\u001b[0m     \u001b[1;32mreturn\u001b[0m \u001b[0mpriority_decorator\u001b[0m\u001b[1;33m\u001b[0m\u001b[1;33m\u001b[0m\u001b[0m\n",
      "\u001b[1;32m~\\Anaconda3\\lib\\site-packages\\sympy\\matrices\\common.py\u001b[0m in \u001b[0;36m__mul__\u001b[1;34m(self, other)\u001b[0m\n\u001b[0;32m   2016\u001b[0m         \u001b[0mmatrix_multiply_elementwise\u001b[0m\u001b[1;33m\u001b[0m\u001b[1;33m\u001b[0m\u001b[0m\n\u001b[0;32m   2017\u001b[0m         \"\"\"\n\u001b[1;32m-> 2018\u001b[1;33m         \u001b[0mother\u001b[0m \u001b[1;33m=\u001b[0m \u001b[0m_matrixify\u001b[0m\u001b[1;33m(\u001b[0m\u001b[0mother\u001b[0m\u001b[1;33m)\u001b[0m\u001b[1;33m\u001b[0m\u001b[1;33m\u001b[0m\u001b[0m\n\u001b[0m\u001b[0;32m   2019\u001b[0m         \u001b[1;31m# matrix-like objects can have shapes.  This is\u001b[0m\u001b[1;33m\u001b[0m\u001b[1;33m\u001b[0m\u001b[1;33m\u001b[0m\u001b[0m\n\u001b[0;32m   2020\u001b[0m         \u001b[1;31m# our first sanity check.\u001b[0m\u001b[1;33m\u001b[0m\u001b[1;33m\u001b[0m\u001b[1;33m\u001b[0m\u001b[0m\n",
      "\u001b[1;32m~\\Anaconda3\\lib\\site-packages\\sympy\\matrices\\common.py\u001b[0m in \u001b[0;36m_matrixify\u001b[1;34m(mat)\u001b[0m\n\u001b[0;32m   2286\u001b[0m         \u001b[1;32mreturn\u001b[0m \u001b[0mmat\u001b[0m\u001b[1;33m\u001b[0m\u001b[1;33m\u001b[0m\u001b[0m\n\u001b[0;32m   2287\u001b[0m     \u001b[1;32mif\u001b[0m \u001b[0mhasattr\u001b[0m\u001b[1;33m(\u001b[0m\u001b[0mmat\u001b[0m\u001b[1;33m,\u001b[0m \u001b[1;34m'shape'\u001b[0m\u001b[1;33m)\u001b[0m\u001b[1;33m:\u001b[0m\u001b[1;33m\u001b[0m\u001b[1;33m\u001b[0m\u001b[0m\n\u001b[1;32m-> 2288\u001b[1;33m         \u001b[1;32mif\u001b[0m \u001b[0mlen\u001b[0m\u001b[1;33m(\u001b[0m\u001b[0mmat\u001b[0m\u001b[1;33m.\u001b[0m\u001b[0mshape\u001b[0m\u001b[1;33m)\u001b[0m \u001b[1;33m==\u001b[0m \u001b[1;36m2\u001b[0m\u001b[1;33m:\u001b[0m\u001b[1;33m\u001b[0m\u001b[1;33m\u001b[0m\u001b[0m\n\u001b[0m\u001b[0;32m   2289\u001b[0m             \u001b[1;32mreturn\u001b[0m \u001b[0m_MatrixWrapper\u001b[0m\u001b[1;33m(\u001b[0m\u001b[0mmat\u001b[0m\u001b[1;33m)\u001b[0m\u001b[1;33m\u001b[0m\u001b[1;33m\u001b[0m\u001b[0m\n\u001b[0;32m   2290\u001b[0m     \u001b[1;32mreturn\u001b[0m \u001b[0mmat\u001b[0m\u001b[1;33m\u001b[0m\u001b[1;33m\u001b[0m\u001b[0m\n",
      "\u001b[1;31mTypeError\u001b[0m: object of type 'bool' has no len()"
     ]
    }
   ],
   "source": [
    "Ans = (L*C*L.T)"
   ]
  },
  {
   "cell_type": "code",
   "execution_count": 22,
   "metadata": {},
   "outputs": [
    {
     "ename": "NameError",
     "evalue": "name 'Ans' is not defined",
     "output_type": "error",
     "traceback": [
      "\u001b[1;31m---------------------------------------------------------------------------\u001b[0m",
      "\u001b[1;31mNameError\u001b[0m                                 Traceback (most recent call last)",
      "\u001b[1;32m<ipython-input-22-1f6c4777073c>\u001b[0m in \u001b[0;36m<module>\u001b[1;34m\u001b[0m\n\u001b[1;32m----> 1\u001b[1;33m \u001b[0mAns\u001b[0m\u001b[1;33m[\u001b[0m\u001b[1;36m0\u001b[0m\u001b[1;33m,\u001b[0m\u001b[1;36m0\u001b[0m\u001b[1;33m]\u001b[0m\u001b[1;33m\u001b[0m\u001b[1;33m\u001b[0m\u001b[0m\n\u001b[0m",
      "\u001b[1;31mNameError\u001b[0m: name 'Ans' is not defined"
     ]
    }
   ],
   "source": [
    "Ans[0,0]"
   ]
  },
  {
   "cell_type": "code",
   "execution_count": 23,
   "metadata": {},
   "outputs": [
    {
     "ename": "NameError",
     "evalue": "name 'Ans' is not defined",
     "output_type": "error",
     "traceback": [
      "\u001b[1;31m---------------------------------------------------------------------------\u001b[0m",
      "\u001b[1;31mNameError\u001b[0m                                 Traceback (most recent call last)",
      "\u001b[1;32m<ipython-input-23-21180becd31a>\u001b[0m in \u001b[0;36m<module>\u001b[1;34m\u001b[0m\n\u001b[1;32m----> 1\u001b[1;33m \u001b[0mAns\u001b[0m\u001b[1;33m[\u001b[0m\u001b[1;36m0\u001b[0m\u001b[1;33m,\u001b[0m\u001b[1;36m1\u001b[0m\u001b[1;33m]\u001b[0m\u001b[1;33m\u001b[0m\u001b[1;33m\u001b[0m\u001b[0m\n\u001b[0m",
      "\u001b[1;31mNameError\u001b[0m: name 'Ans' is not defined"
     ]
    }
   ],
   "source": [
    "Ans[0,1]"
   ]
  },
  {
   "cell_type": "code",
   "execution_count": 24,
   "metadata": {},
   "outputs": [
    {
     "ename": "NameError",
     "evalue": "name 'Ans' is not defined",
     "output_type": "error",
     "traceback": [
      "\u001b[1;31m---------------------------------------------------------------------------\u001b[0m",
      "\u001b[1;31mNameError\u001b[0m                                 Traceback (most recent call last)",
      "\u001b[1;32m<ipython-input-24-5b7e6e85a926>\u001b[0m in \u001b[0;36m<module>\u001b[1;34m\u001b[0m\n\u001b[1;32m----> 1\u001b[1;33m \u001b[0mAns\u001b[0m\u001b[1;33m[\u001b[0m\u001b[1;36m1\u001b[0m\u001b[1;33m,\u001b[0m\u001b[1;36m1\u001b[0m\u001b[1;33m]\u001b[0m\u001b[1;33m\u001b[0m\u001b[1;33m\u001b[0m\u001b[0m\n\u001b[0m",
      "\u001b[1;31mNameError\u001b[0m: name 'Ans' is not defined"
     ]
    }
   ],
   "source": [
    "Ans[1,1]"
   ]
  },
  {
   "cell_type": "code",
   "execution_count": null,
   "metadata": {},
   "outputs": [],
   "source": []
  },
  {
   "cell_type": "code",
   "execution_count": null,
   "metadata": {},
   "outputs": [],
   "source": []
  }
 ],
 "metadata": {
  "kernelspec": {
   "display_name": "Python 3",
   "language": "python",
   "name": "python3"
  },
  "language_info": {
   "codemirror_mode": {
    "name": "ipython",
    "version": 3
   },
   "file_extension": ".py",
   "mimetype": "text/x-python",
   "name": "python",
   "nbconvert_exporter": "python",
   "pygments_lexer": "ipython3",
   "version": "3.7.3"
  }
 },
 "nbformat": 4,
 "nbformat_minor": 2
}
